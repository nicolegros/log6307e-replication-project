{
 "cells": [
  {
   "cell_type": "markdown",
   "id": "242a7162b8306495",
   "metadata": {
    "collapsed": false
   },
   "source": [
    "\n",
    "# Load Organization Repos (`processed/ORG/repos.json`)"
   ]
  },
  {
   "cell_type": "code",
   "execution_count": null,
   "id": "6194712b6564fe7a",
   "metadata": {
    "collapsed": false
   },
   "outputs": [],
   "source": [
    "from gitea_repo_extractor import GiteaRepoExtractor\n",
    "\n",
    "url = \"https://opendev.org/api/v1\"\n",
    "repo_extractor =  GiteaRepoExtractor(api_url=url)\n",
    "\n",
    "repo_extractor.extract_repos_from_org(\"openstack\")"
   ]
  },
  {
   "cell_type": "markdown",
   "id": "0ca2fe4d",
   "metadata": {},
   "source": [
    "\n",
    "# Extract raw commits (`raw/ORG/REPO.commits.json`)\n"
   ]
  },
  {
   "cell_type": "code",
   "execution_count": null,
   "id": "75035f6a",
   "metadata": {},
   "outputs": [],
   "source": [
    "import json\n",
    "from gitea_repo_extractor import GiteaRepoExtractor\n",
    "\n",
    "url = \"https://opendev.org/api/v1\"\n",
    "repo_extractor =  GiteaRepoExtractor(api_url=url)\n",
    "\n",
    "ORG = \"openstack\"\n",
    "with open(f\"../data/processed/{ORG}/repos.json\", \"r\") as file:\n",
    "    data = json.load(file)\n",
    "\n",
    "    for repo in data:\n",
    "        print(repo[\"name\"])\n",
    "        repo_extractor.extract_raw_commits_from_repo(org=ORG, owner=repo[\"owner\"], repo_fullname=repo[\"name\"])"
   ]
  },
  {
   "cell_type": "markdown",
   "id": "32d68807",
   "metadata": {},
   "source": [
    "\n",
    "# Extract commit messages and dates (`processed/ORG/commits-messages-dates/REPO.pickle`)"
   ]
  },
  {
   "cell_type": "code",
   "execution_count": null,
   "id": "5504d83d",
   "metadata": {},
   "outputs": [],
   "source": [
    "import os\n",
    "from gitea_repo_extractor import GiteaRepoExtractor\n",
    "\n",
    "url = \"https://opendev.org/api/v1\"\n",
    "repo_extractor =  GiteaRepoExtractor(api_url=url)\n",
    "ORG = 'openstack'\n",
    "\n",
    "for subdir, dirs, files in os.walk(f\"../data/raw/{ORG}\"):\n",
    "    for file in files:\n",
    "        repo = file.split(\".\")[0]\n",
    "        print(\"Extracting commits from: \", repo)\n",
    "        path = os.path.join(subdir, file)\n",
    "        repo_extractor.save_commits_messages_dates(path,\n",
    "                                                    ORG,\n",
    "                                                    repo)"
   ]
  },
  {
   "cell_type": "markdown",
   "id": "d33054b6",
   "metadata": {},
   "source": [
    "\n",
    "# Extract repos with at least 2 commits per month (`processed/ORG/months-valid.json`)\n"
   ]
  },
  {
   "cell_type": "code",
   "execution_count": null,
   "id": "a73e65f8",
   "metadata": {},
   "outputs": [],
   "source": [
    "from repovalidator import RepoValidator\n",
    "import os\n",
    "import json\n",
    "\n",
    "ORG = \"openstack\"\n",
    "repos_bool = []\n",
    "for subdir, dirs, files in os.walk(f\"../data/processed/{ORG}/commits-messages-dates\"):\n",
    "    for file in files:\n",
    "        filename = file.split(\".\")[0]\n",
    "        complete_path = os.path.join(subdir, file)\n",
    "        repos_bool.append({\"name\": filename, \"is_valid\": RepoValidator(complete_path).has_at_least_2_commits_per_month()})\n",
    "        \n",
    "with open(f\"../data/processed/{ORG}/months-valid.json\", \"w\") as f:\n",
    "    valids = list(map(lambda y: y[\"name\"], filter(lambda x: x[\"is_valid\"], repos_bool)))\n",
    "    json.dump(valids, f)"
   ]
  },
  {
   "cell_type": "markdown",
   "id": "82fb07b6",
   "metadata": {},
   "source": [
    "\n",
    "# Extract commits with their files (`/processed/ORG/commits-files/REPO.commits.pickle`)\n"
   ]
  },
  {
   "cell_type": "code",
   "execution_count": null,
   "id": "50c7d779",
   "metadata": {},
   "outputs": [],
   "source": [
    "from gitea_repo_extractor import GiteaRepoExtractor\n",
    "import json\n",
    "import os\n",
    "\n",
    "url = \"https://opendev.org/api/v1\"\n",
    "repo_extractor =  GiteaRepoExtractor(api_url=url)\n",
    "ORG = 'openstack'\n",
    "\n",
    "with open(f\"../data/processed/{ORG}/months-valid.json\", \"r\") as file:\n",
    "    data = json.load(file)\n",
    "\n",
    "    for repo in data: \n",
    "        repo_extractor.extract_commits_to_df(repo, ORG)"
   ]
  },
  {
   "cell_type": "markdown",
   "id": "1727eb78",
   "metadata": {},
   "source": [
    "\n",
    "# Extract repos with at least 11% of IaC files (`processed/ORG/valid-repos.json`)\n"
   ]
  },
  {
   "cell_type": "code",
   "execution_count": null,
   "id": "b175574b",
   "metadata": {},
   "outputs": [],
   "source": [
    "from repovalidator import RepoValidator\n",
    "import os\n",
    "import json\n",
    "\n",
    "ORG = 'openstack'\n",
    "\n",
    "valids = []\n",
    "for subdir, dirs, files in os.walk(f\"../data/processed/{ORG}/commits-files\"):\n",
    "    for file in files:\n",
    "        repo = file.split(\".\")[0]\n",
    "        path = os.path.join(subdir, file)\n",
    "        RepoValidator(path)\n",
    "        if RepoValidator(path).has_11_percent_of_iac():\n",
    "            valids.append(repo)\n",
    "\n",
    "with open(f'../data/processed/{ORG}/valid-repos.json', \"w\") as f:\n",
    "    json.dump(valids, f)"
   ]
  },
  {
   "cell_type": "markdown",
   "id": "838d65f3",
   "metadata": {},
   "source": [
    "# Extract XCMs (`processed/ORG/REPO.xcms.json`)"
   ]
  },
  {
   "cell_type": "code",
   "execution_count": null,
   "id": "e49e6f0c",
   "metadata": {},
   "outputs": [],
   "source": [
    "import json\n",
    "from gitea_commit_message_processor import GiteaCommitMessageProcessor\n",
    "\n",
    "url = \"https://opendev.org/api/v1\"\n",
    "message_processor =  GiteaCommitMessageProcessor(api_url=url)\n",
    "ORG = 'openstack'\n",
    "\n",
    "with open(f\"../data/processed/{ORG}/valid-repos.json\", \"r\") as file:\n",
    "    data = json.load(file)\n",
    "    for repo in data: \n",
    "        message_processor.extract_xcm(ORG, repo)\n",
    "\n",
    "print(\"done\")"
   ]
  }
 ],
 "metadata": {
  "kernelspec": {
   "display_name": "Python 3",
   "language": "python",
   "name": "python3"
  },
  "language_info": {
   "codemirror_mode": {
    "name": "ipython",
    "version": 3
   },
   "file_extension": ".py",
   "mimetype": "text/x-python",
   "name": "python",
   "nbconvert_exporter": "python",
   "pygments_lexer": "ipython3",
   "version": "3.12.0"
  }
 },
 "nbformat": 4,
 "nbformat_minor": 5
}
