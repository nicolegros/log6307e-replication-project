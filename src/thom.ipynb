{
 "cells": [
  {
   "cell_type": "markdown",
   "id": "242a7162b8306495",
   "metadata": {
    "collapsed": false
   },
   "source": [
    "\n",
    "# Load Organization Repos (`processed/ORG/repos.json`)"
   ]
  },
  {
   "cell_type": "code",
   "execution_count": 2,
   "id": "bc6ef385",
   "metadata": {},
   "outputs": [
    {
     "name": "stdout",
     "output_type": "stream",
     "text": [
      "API call on 'https://opendev.org/api/v1' has 2387 repositories\n"
     ]
    }
   ],
   "source": [
    "from gitea_repo_extractor import GiteaRepoExtractor\n",
    "\n",
    "url = \"https://opendev.org/api/v1\"\n",
    "repo_extractor =   GiteaRepoExtractor(api_url=url)\n",
    "\n",
    "repos = repo_extractor._get_orgs_repos()"
   ]
  },
  {
   "cell_type": "code",
   "execution_count": 1,
   "id": "6194712b6564fe7a",
   "metadata": {
    "collapsed": false
   },
   "outputs": [
    {
     "name": "stdout",
     "output_type": "stream",
     "text": [
      "API call on 'https://opendev.org/api/v1' has 2387 repositories\n",
      "    Saving to ../data/processed/openstack/repos.json\n",
      "2023-09-25 18:18:48+00:00\n"
     ]
    },
    {
     "ename": "TypeError",
     "evalue": "strptime() argument 1 must be str, not datetime.datetime",
     "output_type": "error",
     "traceback": [
      "\u001b[1;31m---------------------------------------------------------------------------\u001b[0m",
      "\u001b[1;31mTypeError\u001b[0m                                 Traceback (most recent call last)",
      "\u001b[1;32mc:\\Users\\m_bla\\Desktop\\Code_Poly\\LOG6307\\log6307e-replication-project\\src\\thom.ipynb Cell 2\u001b[0m line \u001b[0;36m5\n\u001b[0;32m      <a href='vscode-notebook-cell:/c%3A/Users/m_bla/Desktop/Code_Poly/LOG6307/log6307e-replication-project/src/thom.ipynb#W1sZmlsZQ%3D%3D?line=2'>3</a>\u001b[0m url \u001b[39m=\u001b[39m \u001b[39m\"\u001b[39m\u001b[39mhttps://opendev.org/api/v1\u001b[39m\u001b[39m\"\u001b[39m\n\u001b[0;32m      <a href='vscode-notebook-cell:/c%3A/Users/m_bla/Desktop/Code_Poly/LOG6307/log6307e-replication-project/src/thom.ipynb#W1sZmlsZQ%3D%3D?line=3'>4</a>\u001b[0m repo_extractor \u001b[39m=\u001b[39m   GiteaRepoExtractor(api_url\u001b[39m=\u001b[39murl)\n\u001b[1;32m----> <a href='vscode-notebook-cell:/c%3A/Users/m_bla/Desktop/Code_Poly/LOG6307/log6307e-replication-project/src/thom.ipynb#W1sZmlsZQ%3D%3D?line=4'>5</a>\u001b[0m repo_extractor\u001b[39m.\u001b[39;49mextract_repos_from_org(\u001b[39m\"\u001b[39;49m\u001b[39mopenstack\u001b[39;49m\u001b[39m\"\u001b[39;49m)\n",
      "File \u001b[1;32mc:\\Users\\m_bla\\Desktop\\Code_Poly\\LOG6307\\log6307e-replication-project\\src\\gitea_repo_extractor.py:55\u001b[0m, in \u001b[0;36mGiteaRepoExtractor.extract_repos_from_org\u001b[1;34m(self, org_name)\u001b[0m\n\u001b[0;32m     53\u001b[0m \u001b[39mwith\u001b[39;00m \u001b[39mopen\u001b[39m(filename, \u001b[39m\"\u001b[39m\u001b[39mw\u001b[39m\u001b[39m\"\u001b[39m) \u001b[39mas\u001b[39;00m f:\n\u001b[0;32m     54\u001b[0m     \u001b[39mprint\u001b[39m(\u001b[39mf\u001b[39m\u001b[39m\"\u001b[39m\u001b[39m    Saving to \u001b[39m\u001b[39m{\u001b[39;00mfilename\u001b[39m}\u001b[39;00m\u001b[39m\"\u001b[39m)\n\u001b[1;32m---> 55\u001b[0m     json\u001b[39m.\u001b[39mdump(\u001b[39mlist\u001b[39;49m(\u001b[39mmap\u001b[39;49m(\u001b[39mlambda\u001b[39;49;00m r: \u001b[39mself\u001b[39;49m\u001b[39m.\u001b[39;49m__format_repo(r), repos)), f, indent\u001b[39m=\u001b[39m\u001b[39m4\u001b[39m)\n\u001b[0;32m     56\u001b[0m \u001b[39mreturn\u001b[39;00m repos\n",
      "File \u001b[1;32mc:\\Users\\m_bla\\Desktop\\Code_Poly\\LOG6307\\log6307e-replication-project\\src\\gitea_repo_extractor.py:55\u001b[0m, in \u001b[0;36mGiteaRepoExtractor.extract_repos_from_org.<locals>.<lambda>\u001b[1;34m(r)\u001b[0m\n\u001b[0;32m     53\u001b[0m \u001b[39mwith\u001b[39;00m \u001b[39mopen\u001b[39m(filename, \u001b[39m\"\u001b[39m\u001b[39mw\u001b[39m\u001b[39m\"\u001b[39m) \u001b[39mas\u001b[39;00m f:\n\u001b[0;32m     54\u001b[0m     \u001b[39mprint\u001b[39m(\u001b[39mf\u001b[39m\u001b[39m\"\u001b[39m\u001b[39m    Saving to \u001b[39m\u001b[39m{\u001b[39;00mfilename\u001b[39m}\u001b[39;00m\u001b[39m\"\u001b[39m)\n\u001b[1;32m---> 55\u001b[0m     json\u001b[39m.\u001b[39mdump(\u001b[39mlist\u001b[39m(\u001b[39mmap\u001b[39m(\u001b[39mlambda\u001b[39;00m r: \u001b[39mself\u001b[39;49m\u001b[39m.\u001b[39;49m__format_repo(r), repos)), f, indent\u001b[39m=\u001b[39m\u001b[39m4\u001b[39m)\n\u001b[0;32m     56\u001b[0m \u001b[39mreturn\u001b[39;00m repos\n",
      "File \u001b[1;32mc:\\Users\\m_bla\\Desktop\\Code_Poly\\LOG6307\\log6307e-replication-project\\src\\gitea_repo_extractor.py:68\u001b[0m, in \u001b[0;36mGiteaRepoExtractor.__format_repo\u001b[1;34m(self, repo)\u001b[0m\n\u001b[0;32m     66\u001b[0m \u001b[39m# Convert the timestamp to a datetime object\u001b[39;00m\n\u001b[0;32m     67\u001b[0m \u001b[39mprint\u001b[39m(timestamp)\n\u001b[1;32m---> 68\u001b[0m dt \u001b[39m=\u001b[39m datetime\u001b[39m.\u001b[39;49mstrptime(timestamp, \u001b[39m\"\u001b[39;49m\u001b[39m%\u001b[39;49m\u001b[39mY-\u001b[39;49m\u001b[39m%\u001b[39;49m\u001b[39mm-\u001b[39;49m\u001b[39m%d\u001b[39;49;00m\u001b[39m \u001b[39;49m\u001b[39m%\u001b[39;49m\u001b[39mH:\u001b[39;49m\u001b[39m%\u001b[39;49m\u001b[39mM:\u001b[39;49m\u001b[39m%\u001b[39;49m\u001b[39mS\u001b[39;49m\u001b[39m%\u001b[39;49m\u001b[39mz\u001b[39;49m\u001b[39m\"\u001b[39;49m)\n\u001b[0;32m     70\u001b[0m \u001b[39m# Create the output dictionary\u001b[39;00m\n\u001b[0;32m     71\u001b[0m formated_repo \u001b[39m=\u001b[39m {\n\u001b[0;32m     72\u001b[0m     \u001b[39m'\u001b[39m\u001b[39mname\u001b[39m\u001b[39m'\u001b[39m: name,\n\u001b[0;32m     73\u001b[0m     \u001b[39m'\u001b[39m\u001b[39mcreated_at\u001b[39m\u001b[39m'\u001b[39m: {\n\u001b[1;32m   (...)\u001b[0m\n\u001b[0;32m     77\u001b[0m     }\n\u001b[0;32m     78\u001b[0m }\n",
      "\u001b[1;31mTypeError\u001b[0m: strptime() argument 1 must be str, not datetime.datetime"
     ]
    }
   ],
   "source": [
    "repo_extractor.extract_repos_from_org(\"openstack\", repos=repos)"
   ]
  }
 ],
 "metadata": {
  "kernelspec": {
   "display_name": "Python 3",
   "language": "python",
   "name": "python3"
  },
  "language_info": {
   "codemirror_mode": {
    "name": "ipython",
    "version": 3
   },
   "file_extension": ".py",
   "mimetype": "text/x-python",
   "name": "python",
   "nbconvert_exporter": "python",
   "pygments_lexer": "ipython3",
   "version": "3.12.0"
  }
 },
 "nbformat": 4,
 "nbformat_minor": 5
}
