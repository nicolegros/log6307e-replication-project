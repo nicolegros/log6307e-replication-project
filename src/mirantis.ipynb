{
 "cells": [
  {
   "cell_type": "markdown",
   "id": "242a7162b8306495",
   "metadata": {
    "collapsed": false
   },
   "source": [
    "\n",
    "# Extract raw commits (`raw/ORG/REPO.commits.json`)\n"
   ]
  },
  {
   "cell_type": "code",
   "execution_count": 1,
   "id": "6194712b6564fe7a",
   "metadata": {
    "collapsed": false
   },
   "outputs": [
    {
     "ename": "ModuleNotFoundError",
     "evalue": "No module named 'src'",
     "output_type": "error",
     "traceback": [
      "\u001b[1;31m---------------------------------------------------------------------------\u001b[0m",
      "\u001b[1;31mModuleNotFoundError\u001b[0m                       Traceback (most recent call last)",
      "\u001b[1;32mc:\\Users\\m_bla\\Desktop\\Code_Poly\\LOG6307\\log6307e-replication-project\\src\\mirantis.ipynb Cell 2\u001b[0m line \u001b[0;36m1\n\u001b[1;32m----> <a href='vscode-notebook-cell:/c%3A/Users/m_bla/Desktop/Code_Poly/LOG6307/log6307e-replication-project/src/mirantis.ipynb#W1sZmlsZQ%3D%3D?line=0'>1</a>\u001b[0m \u001b[39mfrom\u001b[39;00m \u001b[39msrc\u001b[39;00m\u001b[39m.\u001b[39;00m\u001b[39mrepoextractor\u001b[39;00m \u001b[39mimport\u001b[39;00m RepoExtractor\n\u001b[0;32m      <a href='vscode-notebook-cell:/c%3A/Users/m_bla/Desktop/Code_Poly/LOG6307/log6307e-replication-project/src/mirantis.ipynb#W1sZmlsZQ%3D%3D?line=1'>2</a>\u001b[0m \u001b[39mimport\u001b[39;00m \u001b[39mjson\u001b[39;00m\n\u001b[0;32m      <a href='vscode-notebook-cell:/c%3A/Users/m_bla/Desktop/Code_Poly/LOG6307/log6307e-replication-project/src/mirantis.ipynb#W1sZmlsZQ%3D%3D?line=2'>3</a>\u001b[0m \u001b[39mwith\u001b[39;00m \u001b[39mopen\u001b[39m(\u001b[39m\"\u001b[39m\u001b[39m../data/processed/mirantis/repos.json\u001b[39m\u001b[39m\"\u001b[39m, \u001b[39m\"\u001b[39m\u001b[39mr\u001b[39m\u001b[39m\"\u001b[39m) \u001b[39mas\u001b[39;00m file:\n",
      "\u001b[1;31mModuleNotFoundError\u001b[0m: No module named 'src'"
     ]
    }
   ],
   "source": [
    "from src.repoextractor import RepoExtractor\n",
    "import json\n",
    "with open(\"../data/processed/mirantis/repos.json\", \"r\") as file:\n",
    "    data = json.load(file)\n",
    "    \n",
    "    for repo in data:\n",
    "        print(repo[\"name\"])\n",
    "        RepoExtractor().extract_raw_commits_from_repo(repo[\"name\"])\n",
    "    \n",
    "    "
   ]
  },
  {
   "cell_type": "markdown",
   "id": "a0b0bb029ea12787",
   "metadata": {
    "collapsed": false
   },
   "source": [
    "\n",
    "# Extract commit messages and dates (`processed/ORG/commits-messages-dates/REPO.pickle`)\n"
   ]
  },
  {
   "cell_type": "code",
   "execution_count": null,
   "id": "bf3325e012bb73a0",
   "metadata": {
    "collapsed": false
   },
   "outputs": [],
   "source": [
    "import os\n",
    "from repoextractor import RepoExtractor\n",
    "\n",
    "for subdir, dirs, files in os.walk(\"../data/raw/mirantis\"):\n",
    "    for file in files:\n",
    "        repo = file.split(\".\")[0]\n",
    "        path = os.path.join(subdir, file)\n",
    "        RepoExtractor().save_commits_messages_dates(path,\n",
    "                                                    \"mirantis\",\n",
    "                                                    repo)\n",
    "        \n"
   ]
  },
  {
   "cell_type": "markdown",
   "id": "b2093e20ef585f81",
   "metadata": {
    "collapsed": false
   },
   "source": [
    "\n",
    "# Extract repos with at least 2 commits per month (`processed/ORG/months-valid.json`)\n"
   ]
  },
  {
   "cell_type": "code",
   "execution_count": null,
   "id": "966ca1b19c0bb3fc",
   "metadata": {
    "collapsed": false
   },
   "outputs": [],
   "source": [
    "from src.repovalidator import RepoValidator\n",
    "import os\n",
    "import json\n",
    "\n",
    "repos_bool = []\n",
    "for subdir, dirs, files in os.walk(\"../data/processed/mirantis/commits-messages-dates\"):\n",
    "    for file in files:\n",
    "        filename = file.split(\".\")[0]\n",
    "        complete_path = os.path.join(subdir, file)\n",
    "        repos_bool.append({\"name\": filename, \"is_valid\": RepoValidator(complete_path).has_at_least_2_commits_per_month()})\n",
    "        \n",
    "with open(\"../data/processed/mirantis/months-valid.json\", \"w\") as f:\n",
    "    valids = list(map(lambda y: y[\"name\"], filter(lambda x: x[\"is_valid\"], repos_bool)))\n",
    "    json.dump(valids, f)"
   ]
  },
  {
   "cell_type": "markdown",
   "id": "1e383bd0ea837321",
   "metadata": {
    "collapsed": false
   },
   "source": [
    "\n",
    "# Extract commits with their files (`/processed/ORG/commits-files/REPO.commits.pickle`)\n"
   ]
  },
  {
   "cell_type": "code",
   "execution_count": null,
   "id": "de39ccaff22c88c",
   "metadata": {
    "collapsed": false
   },
   "outputs": [],
   "source": [
    "import json\n",
    "from repoextractor import RepoExtractor\n",
    "\n",
    "with open(\"../data/processed/mirantis/months-valid.json\", \"r\") as file:\n",
    "    extractor = RepoExtractor()\n",
    "    data = json.load(file)\n",
    "    for repo in data: \n",
    "        r = extractor.get_repo(f\"mirantis/{repo}\")\n",
    "        extractor.extract_repo(r, \"mirantis\")\n",
    "        \n",
    "        \n"
   ]
  },
  {
   "cell_type": "markdown",
   "id": "2da0e7b16fbbb658",
   "metadata": {
    "collapsed": false
   },
   "source": [
    "\n",
    "# Extract repos with at least 11% of IaC files (`processed/ORG/valid-repos.json`)\n"
   ]
  },
  {
   "cell_type": "code",
   "execution_count": 1,
   "id": "c4b8037323346140",
   "metadata": {
    "collapsed": false
   },
   "outputs": [
    {
     "name": "stdout",
     "output_type": "stream",
     "text": [
      "                                                                        files\n",
      "012d4a172b42df76ecde09c70d1608f5f687099c                 [artifactory.groovy]\n",
      "01b42818532126c8e34742a874cc992892e91129                      [debian.groovy]\n",
      "046fb06d88d573d14a136bdbd1d72b643b0accb1                      [debian.groovy]\n",
      "0b8933a4662b016de61a2f6e947ab6e9fb4d39cc                        [salt.groovy]\n",
      "0d3d8ae391d29283f041b2d8bce758f996e3adcf  [artifactory.groovy, docker.groovy]\n",
      "                                                                                      files\n",
      "005ceaa8b481d7082e078f4d7219195f53d44eb0  [roles/testnode/tasks/yum/packages.yml, roles/...\n",
      "00e8e4bd2477c13322329eee62c5461f65ec1268  [roles/gateway/defaults/main.yml, roles/gatewa...\n",
      "027e1ec7583f43f692aeb4c439fab2b1096d2679  [roles/cobbler/templates/triggers/install/post...\n",
      "02f9248fc6ed1861477076fdfe7c90e1fc503aae  [roles/testnode/vars/apt_systems.yml, roles/te...\n",
      "0373f93b02aa12f533d0323c741a12f1799d45ea             [roles/gateway/templates/auth-openvpn]\n",
      "                                                                                      files\n",
      "0087acbaa522cd6b071477627e1a28eba8354f7f  [ui/app/configurations/wizard_steps/json_confi...\n",
      "00930473cfa0de2642c465d2f9bee41c04a4f29c  [backend/common/decapod_common/diskutils.py, c...\n",
      "00ccf28bbba12cff1cb0be1a30167094a838ba2a                       [docs/source/data_model.rst]\n",
      "010196a2ee84fa3d95424817cb3d7a3a31eccf95  [decapodcli/decapodcli/execution.py, decapodli...\n",
      "011f40f37e758dad45580411e0b54879f52fadc9  [backend/api/cephlcm_api/__init__.py, tests/ap...\n",
      "                                                                                      files\n",
      "0000b63765f3b49c049f0d1263c7a89983be4c65                             [teuthology/ceph.conf]\n",
      "000efc658d8ed3d768760902265e73e8cf4c8cb7                         [teuthology/task/samba.py]\n",
      "000fec3b3707022771552dfbe752c751908a65d3  [suites/kernel/basic/tasks/kclient_workunit_di...\n",
      "001701a0f7a4644805467e6eb229a08c146ee3fb                  [teuthology/task/mon_recovery.py]\n",
      "003492a2d5aaa12cbc0949e178c9f2e0c2ef4465                        [teuthology/task/kernel.py]\n",
      "                                                                                      files\n",
      "001b11f4542833177cdece5b40260ad25ed96e98  [cloudferrylib/os/discovery/glance.py, cloudfe...\n",
      "001cbe9efe3a9d4ff091a36996bf7fdac56b2c48  [fabfile.py, migrationlib/os/utils/rollback/Ro...\n",
      "00365f0aa09c25f99533f26f6641aa0ad805ed3c            [FileLikeProxy.py, osVolumeTransfer.py]\n",
      "0048a5ae4185b49aebf30c13d224d0a8b1f86dd9  [cloudferrylib/os/actions/check_compute_backen...\n",
      "0053cb8decd2306e0969549cdc905d84e490042b  [cloudferrylib/base/resource.py, cloudferrylib...\n",
      "                                                                                      files\n",
      "00ef109d29ba7d4277d9eb99e9376617cbafe2bd  [Dockerfile, service/phpldapadmin/phpldapadmin...\n",
      "010e1180b6be4b93997298abbe65986952eb4c86  [image/service/phpldapadmin/assets/config.php,...\n",
      "02bceaefb7fed5828e5fd223a5205b4a65f1806b                           [Changelog.md, Makefile]\n",
      "045bbfb7ba21f0392910d4e865baaa7b8eaea592                                                 []\n",
      "0545034217b61d2236aa3104b59bb1f884dcee5d                                         [Makefile]\n",
      "                                                                                      files\n",
      "011114f0fc867801c0d93f16ad9668910c45b4c4                       [README.md, f2s/fsclient.py]\n",
      "08e2c5bd33f2aa005da28c7b0533d62b9642674a                                       [.gitignore]\n",
      "09a590cce509498a7ad6a5c41b5e2f8b2109fb5d  [f2s.py, resources/ceilometer-compute/meta.yam...\n",
      "0a6e0ab9de1cbcfdfd9bad08cc123ff8b945a855  [vrs/ceph-osd.yml, vrs/cinder-vmware.yml, vrs/...\n",
      "0ae6eb58afc02ee6b08a3298a337ec9027923647                                        [setup.cfg]\n",
      "                                                                                      files\n",
      "001ab51b3314fa4bcc4ff72e38d69080c1e3d14f  [index.rst, pages/about-fuel/0020-what-is-fuel...\n",
      "0224f2dddd032eeb22751362f29d7c9d61910a35  [pages/installation-fuel-cli/0060-understand-t...\n",
      "024d7866224a54d9dd9522d3a21a84323b9a16a5  [_images/Neutron_32_gre_v2.png, _images/Neutro...\n",
      "034444dbc8e24327e33c8346a4d0491e496bcc64  [pages/install-guide/0050-supported-software.r...\n",
      "03aa8e8b0938a739470caacb390f3bc975248955  [frequently-asked-questions.rst, pages/about-f...\n",
      "                                                                                      files\n",
      "08979f041ea13cdad3016f3911b5c6e27e2a3acf  [ci/ci_base.py, ci/ci_bm.py, ci/ci_vm.py, cobb...\n",
      "09e770c28d1117e7239cdea3f96d0f80eeea4349  [doc/conf.py, doc/index.rst, doc/makeautomodul...\n",
      "0c0fe841d14b39d180be3380a0686b2a2f6c5b14  [helpers/config_astute.py, settings.py, tests/...\n",
      "0d1b59dfee7dbca4cf1952abc7e604c63773a405  [helpers/env_manager.py, helpers/manifest.py, ...\n",
      "0f615638a3ac49737215a372fa8f30d1bfbfcbfc  [doc/conf.py, doc/makeautomodules.sh, doc/page...\n",
      "                                                                                      files\n",
      "000322cc174436cacd2ba4f8876949230587d57b  [deployment/puppet/cluster/manifests/haproxy.p...\n",
      "0018b484a28c6a6359cb0f056798795346bc47a6    [deployment/puppet/nailgun/files/venv-ostf.txt]\n",
      "00203c6fa217d8659319df62822a63b951f20331      [deployment/puppet/horizon/manifests/init.pp]\n",
      "0023cd834ef550270a892c2e3e78abc773a00fb5  [deployment/puppet/nova/manifests/rackspace/al...\n",
      "0027df77e7b807813087c8cf9699ec1571388598  [deployment/puppet/nova/lib/puppet/provider/no...\n",
      "                                                                                      files\n",
      "023d42558e1bfb50e5ecb2bd2daf7417cb7851aa  [tests/components/functionality/cluster/dialog...\n",
      "02aee31bc163c442fe6b1fe2b84361207de91001  [tests/components/functionality/cluster/dialog...\n",
      "04e97ab1430abf66752faa13ea17efc547a1ce13  [tests/modules/test_cluster_nodes.py, tests/mo...\n",
      "05080931a89dd9988dd8904c0bb09983973db320                                           [engine]\n",
      "07c99cc14e36f31010cdb85e0104c019d3c7cde6  [tests/components/settings.py, tests/modules/t...\n",
      "                                                                                      files\n",
      "014720e6f611e236790351f6cd01b52e61364f17                                 [cmd/wrap/main.go]\n",
      "01fdb12b0e5174f1200ae65541ee5ecc940a6b1e  [examples/extended/delete.sh, examples/extende...\n",
      "023ccd6e050b3af2b9cad3c4cd56076055b5c5d8     [e2e/utils/appcmanager.go, e2e/utils/utils.go]\n",
      "02af58b9938fff096ab67cd3707cb3e5e392a207  [mocks/configmaps.go, resources/configmap_test...\n",
      "04e6a9a8b6c8c97527ab5ec4bda9da1ea06fb0b6  [pkg/client/flows.go, pkg/mocks/fake_replicas....\n",
      "                                                                                      files\n",
      "00090870b3b9b6bb2d690b98fca44c81ca9509a1  [glide.lock, glide.yaml, test/e2e/basic_test.g...\n",
      "001e5b22c1fdf391355803923fb02545eac9395b  [Makefile, pkg/extensions/register.go, test/e2...\n",
      "0337d83f70d2ea932135540a0765b3d216d7aa54  [pkg/extensions/types.go, pkg/extensions/types...\n",
      "03507e27a9ef9fbaf598f82c844e7370e49b229a                  [README.md, examples/ip-pool.yml]\n",
      "072d0f5194f105d3b6925e43db5ba03c1c30e7ee  [glide.lock, glide.yaml, test/e2e/basic_test.g...\n",
      "                                                                                      files\n",
      "01c1b0e84073a4429dd2f9bb5cc1e1f8f6efd781                              [kostyor/rest_api.py]\n",
      "02243194bab723c3b584ed7dec4fd77e0b15bcf1                              [kostyor/rest_api.py]\n",
      "023ff49dd0e4c424354a091c413da065ed1b5b2b                  [kostyor/db/sqlalchemy/models.py]\n",
      "02ba6059df5a8ce35fc5bb46792bf446a42cd819                  [doc/source/drivers/fuel-ccp.rst]\n",
      "02c13617ff29c0c63dc9579841b532ee0950727c  [kostyor/rest_api.py, kostyor/tests/unit/rest_...\n",
      "                                                                                      files\n",
      "011ea6214a355e5a8b87f93ee2b53a252c99e189                         [kqueen_ui/config/prod.py]\n",
      "016b8e9d5213f01703a750090341291490e5e590  [kqueen_ui/blueprints/ui/views.py, kqueen_ui/u...\n",
      "019cb63dd02d3c5d78a7ced0e2f2e75f42026654                                       [README.rst]\n",
      "02048ea953011db609a8c702c9008c3a25954e3f           [kqueen_ui/asset/dynamic/scss/main.scss]\n",
      "02ca253332acacc95e94f0fced2d37c64d804c22                       [kqueen_ui/generic_views.py]\n",
      "                                                                                      files\n",
      "008eb4d2219cfd28760aa53ae16378ad473071ee                           [launchpad-reporting/db]\n",
      "0194cc595e4a17c5f02f9513730df6b466be081d  [.gitignore, launchpad-reporting/db.py, launch...\n",
      "019af0f319c9fb0e0b2af7bd300c02578ad3f2af                           [launchpad-reporting/db]\n",
      "01b085f47970385a5b22bee3323accfccfa99951                                        [syncdb.py]\n",
      "026817ca36088f5f240607e22db85072fbad1521                   [templates/project_fuelmos.html]\n",
      "                                                                                      files\n",
      "0008369fe2db284aeec53b73621c4b29ad462479                          [package.json, yarn.lock]\n",
      "0016a3a4bd929d01813fddb298dac11f9c78a44b                          [package.json, yarn.lock]\n",
      "00289e1d64303c6a529cdd5e80315acc528d7818  [package.json, src/renderer/components/Cluster...\n",
      "0030d5fd96249250f84593b9e84db08cab6f5b27                          [package.json, yarn.lock]\n",
      "004a1e90b5e4cde7c7b139756116f52ce175ad20                          [package.json, yarn.lock]\n",
      "                                                                                      files\n",
      "0011d46ead7b658fdec9d010d86d1c11478dd0f0  [controller.go, docs/remote.md, driverapi/driv...\n",
      "0020b76d39a2a7917984e0bf3a18ad8b08d40039        [ipam/allocator.go, ipam/allocator_test.go]\n",
      "003ef62324c72ed47cb6b8ea58ffa308700a4be8                    [drivers/overlay/ov_network.go]\n",
      "0048e5578df4b8868da054c5846dc7bcf2318044  [drivers/bridge/bridge.go, drivers/bridge/inte...\n",
      "0055940a9080ffb67801314545375c084db84b9c  [drivers/overlay/ov_network.go, drivers/overla...\n",
      "                                                                                 files\n",
      "0479cf51f71c54fc47c192c08df70d04556f3d4b  [storrest/storcli.py, tests/test_storcli.py]\n",
      "05d839200c32d04af2fb2009efa370f36e6c263b                                 [doc/api.txt]\n",
      "07200a20baab5b24cd77d8c41f9bf3870e2bdc86                           [bin/storrest.init]\n",
      "08715de398760221f8d0f46603d03f81d163ff1c                        [storrest/storrest.py]\n",
      "10ca1a333aaa4e8fe415b51071e4ac836bb99006                       [tests/test_storcli.py]\n",
      "                                                                                      files\n",
      "001be4d3e3094464cd2e30b9091ec785185f8cb7                  [tempest/services/botoclients.py]\n",
      "006a5b9642b2dbac2cbbc98475a03ee5b1a739a6  [bin/magnetodb-api, etc/magnetodb-test.conf, e...\n",
      "00a4cf0c3560d08f25f2f526fb168df264634730                                        [setup.cfg]\n",
      "02b198ba512f65e22099f34e29d326620c667325  [magnetodb/storage/impl/cassandra_impl.py, mag...\n",
      "05325b162f1b27762caa2af66a6cf12ace0f3a08                [tempest/api/keyvalue/test_scan.py]\n",
      "                                                                                      files\n",
      "00c48de2d506dd961ed25dc6a1db59ab708cbaed  [classes/system/nova/compute/cluster.yml, clas...\n",
      "0114057b29e5d367119eb17d76c60b38e79dccb7  [classes/system/openssh/server/team/stacklight...\n",
      "013eecff640664a644489889699de4a7cf632b0a  [classes/system/heka/aggregator/single.yml, cl...\n",
      "0268be0d55f30737e463a9f252922ecd7adad957  [classes/cluster/mk20_stacklight_advanced/init...\n",
      "035c0961ce777526d03d803902266f1e4ab181ba  [classes/system/salt/master/formula/git/openst...\n",
      "                                                                                      files\n",
      "00103b7daf9c9c28d6a654d9c4e1d1decde13e27  [jenkins-job-builder/maintenance/helpers/test_...\n",
      "00115205de5e2163cf734c8eac24bd683759dcbc  [jenkins-job-builder/product-9.0/jjb_templates...\n",
      "001aa6d8a4ebd98d54b957d439fa099962537915  [jenkins-job-builder/product-9.0/superjobs/gla...\n",
      "00a95a2ff096632f53fff0968be4318eaaab0efb  [jenkins-job-builder/shell_scripts/tempest_tes...\n",
      "00ddeff0b591cb89080fa946b51bc4b9fd5e4c46  [jenkins-job-builder/templates/job_templates.y...\n",
      "                                                                                      files\n",
      "00af1f968f14cebe9cc57cdd8f655bc0acfe0bd5                                 [cleanup_cloud.sh]\n",
      "01462d1aac15dbfa154630bba31cabec0eb87daf                                     [setup_env.sh]\n",
      "03171dc23239a229856845de07540335192e542e                                     [setup_env.sh]\n",
      "097d508239d11bcf09d11b8ba172ef5057b4032d  [setup_env.sh, shouldfail/7_0/ceph_eph_volumes...\n",
      "0a45eb19ee22200e03f60ee24dbba13194ff40d0                   [shouldfail/7_0/shouldfail.yaml]\n",
      "                                                                                      files\n",
      "001cb0702e3ee00cc0b11091ca4cb32acb8c8105       [dashboard/glazierdashboard/tabula/views.py]\n",
      "001dbbe20b00031f767682155f468e2f962f2f01  [REST_service/Rest.conf, REST_service/test_res...\n",
      "002312ae65b565be8878b0ee82b5521da7074f59                          [conductor/bin/conductor]\n",
      "0024ab48236976125afa822c0e9b0bba6f4e71c3  [docs/.gitignore, docs/LICENSE, docs/README.rs...\n",
      "0075ba5c579affb8ec619b65c189da2841095e6e                      [activeDirectory-create.json]\n",
      "                                                                                      files\n",
      "00eec0064d2b03fe37f81c1ec9b488afb14681b6  [ui/app/services/assets/assets.js, ui/app/serv...\n",
      "062708154ed2a0aa2118343ca456fc3c53662ab1  [ui/app/module.ts, ui/app/services/api/api.ts,...\n",
      "069cba7cf0ce5bf837e238b765f81779fdac47c2  [ui/app/components/app/app.ts, ui/app/vendor.t...\n",
      "089810afbe877611e65c30beb31137c9e45dae43  [ui/app/components/blueprints/blueprints.html,...\n",
      "0ac900b8c7d3f0a6d945a803208722c24bcbbc51  [cmd/democmd.go, doc/UI.md, fsm/watcher.go, se...\n",
      "                                                                                      files\n",
      "00b0d7e1f20a379e581623526ca986f557c40ec9  [django-nova/src/django_nova/forms.py, django-...\n",
      "03946ec42564e7bd814789659837684eea785050  [django-nova/setup.py, openstack-dashboard/too...\n",
      "03dce1929d885d45cdccdb96953f283c85930074             [django-nova/src/django_nova/forms.py]\n",
      "03ee9f0d5f69747586738512b8f6bca8ea1b02c1  [openstack-dashboard/dashboard/templates/_sysp...\n",
      "04d28e8a244af57e3cc12928842cc2a6ba15cf29            [django-nova/src/django_nova/models.py]\n",
      "                                                                                      files\n",
      "000d4cdc409021e68d5ab480d62621bf627b7ef3                                           [README]\n",
      "014f8941c94d753863af9857fae38d05e4a7b373  [SOURCES/glance-fix-handling-of-image-cache-en...\n",
      "03c5366ee07a3550e9498a6c657c771ceeb7ccbe                        [SPECS/openstack-nova.spec]\n",
      "049b987201cc03ddf78133016218fa124f6755dc                      [SPECS/openstack-glance.spec]\n",
      "06604ba9d153ca80b34c3fa427b8fe4184d6b046  [SOURCES/novaclient-remove-argparse-from-egg-r...\n",
      "                                                                                      files\n",
      "031f8e8753eb61cafd9684cb95d5e38fcb76e116                               [tests/test_base.py]\n",
      "032017f3249a287a420e929f6b3a5fc2d2235539                       [balancerclient/v1/shell.py]\n",
      "07978d34ab9fcb2491f8a2d09da28aa20f04be4c                  [.gitignore, setup.cfg, setup.py]\n",
      "08b19b3037f4ab046aeaef7ff41eb6cb9aef4326                      [balancerclient/v1/client.py]\n",
      "0ea6cdce7ff1dac262a031389d26909e1945e730  [run_tests.sh, tools/install_venv.py, tools/pi...\n",
      "                                                                                      files\n",
      "000cc93bbc3452f0583d3929b065bd77a0ff7e29                [balancer/loadbalancers/vserver.py]\n",
      "00514f65701db53e64bdf970bfabf0735e9b0e9a            [balancer/tests/unit/test_acedriver.py]\n",
      "00555f0b4b240b208e6469112fa11ca0b3c17e20  [balancer/drivers/haproxy/HaproxyDriver.py, ba...\n",
      "005c3eb4a57c88cc799ce780357730fea6ac3889            [balancer/tests/unit/test_acedriver.py]\n",
      "007e6ad20bd66c57ea5a6b0ab8cf697f37cc1b48  [balancer/core/LoadBalancerCommandsWorker.py, ...\n",
      "                                                                                      files\n",
      "01128d28568740aa90d8b24c357c930c6823baf9  [examples/osdpl/core-ceph-local-non-dvr-crypt-...\n",
      "02e13efd952906b5d6eea6b28d371fa8bd04a91c  [examples/osdpl/core-ceph-ceph-dvr.yaml, examp...\n",
      "03920e1ea6db32e332bf7daf2f0067da3fa5f40f                  [release/50-ceph-controller.yaml]\n",
      "03bc240613ba0430b16e13620b4248a24e440bb7                   [release/80-redis-operator.yaml]\n",
      "04dd4d06f65f086c05eff680b0f8dad90faefe92  [examples/tf/tungstenfabric.yaml, release/tech...\n",
      "                                                                                      files\n",
      "00154765a934c82573b9ac187fd2ba02fd4ab2ac  [resources/cinder_api_puppet/README.md, resour...\n",
      "00427f9aedd749d82feb6db15d78b4345ad90e5f  [resources/cinder_api_puppet/README.md, resour...\n",
      "00648db621583078dcbc44507f2490384ac8f4fc                                        [README.md]\n",
      "0092c722808a6b60be55135ca8c9fbe083d5c58f  [examples/riak/haproxy_riak_config.yaml, examp...\n",
      "0176726e7df4e6205f87f7d19da2eccc85fcf382  [examples/riak/riaks.py, templates/riak_nodes....\n",
      "                                                                                      files\n",
      "003c7b029ea50a01c3311d1794f8816085950842                     [templates/openstack_base.yml]\n",
      "004030b5ca7e9de300cc651d5bc8cb942832dcb0                                       [.gitignore]\n",
      "00ab13546add6c19181241c49d6f8e1a5d726729                          [solar/solar/cli/main.py]\n",
      "00ac4e3a0b9c6d3b13d0e4a71b4192052d54f983  [resources/hosts_file/meta.yaml, resources/ro_...\n",
      "011c2bcec42639953f998c2f5c255b5bdb875dfb            [solar/solar/core/handlers/__init__.py]\n",
      "                                                                                      files\n",
      "005193b9efd39624ad50a1be6a371a190544a125  [classes/cluster/k8s_calico/kubernetes/control...\n",
      "00ca6954332234626bf61e45d4ac086eda5c6fca              [classes/cluster/k8s_calico/init.yml]\n",
      "0171b2b59f36480f138a40e1ac9508de8458f839  [classes/cluster/mk22_lab_advanced/openstack/c...\n",
      "017d71dd602038b1a86c8a38098db19eb3bc3c32  [classes/cluster/mk22_lab_dvr/infra/config.yml...\n",
      "02ee4a9967ae9216d4152515abf6ed0a77b85d00  [scripts/bootstrap_all.sh, scripts/opencontrai...\n",
      "                                                                                      files\n",
      "001407b969bc12d48bd7f10960f84f519bb19111  [.bzrignore, .functests, .probetests, .unittes...\n",
      "001abfa0bb796a7b8d7fbe5cbd6ead332591e3d6  [doc/source/admin_guide.rst, doc/source/deploy...\n",
      "005733d950032ee40be4a622363eedc4421b45ef  [swift/common/key_manager/drivers/sql/driver.p...\n",
      "0065859bd816f4efb90d05fb15d9640881157fab                      [swift/common/constraints.py]\n",
      "0066ed02d7c1dc097b2de887299bb0130cac7796  [bin/swift-auth-add-user, doc/source/developme...\n",
      "                                                                                      files\n",
      "002b8433c9535dd2c385e66b50834efde3d0fa97  [tcp_tests/templates/cookied-bm-mcp-dvr-vxlan/...\n",
      "002c267f9586acf69bf27dcf15102b1309b2215f  [tcp_tests/templates/cookied-bm-mcp-dvr-vxlan/...\n",
      "0048fcd1413be90e922f8baa1ba012d25adade61  [tcp_tests/templates/cookied-bm-mcp-ocata-cont...\n",
      "0067b2dc17ab0d404bb934303acc20ceeece18ba        [tcp_tests/templates/shared-openstack.yaml]\n",
      "0079ea87d1450e892fd7eb36d0334f3435b271e9  [tcp_tests/templates/cookied-mcp-queens-dvr-ce...\n",
      "                                                                                      files\n",
      "00203fa889d217dc5e9015a154eb81c2e1694bba                                  [scripts/init.sh]\n",
      "002ccf3295f1aeec17b45c6356ac63cee4a21581                                     [CHANGELOG.md]\n",
      "0048bf21202fb0bbf8100c4cac19b2e1b02fd2bc                                     [CHANGELOG.md]\n",
      "005face7c0e263692d8d9a70b312be6acb307688                    [plugins/inputs/dcos/client.go]\n",
      "0060df987752ad561b6c0684a684d326f89bf5e5  [plugins/inputs/kafka_consumer/kafka_consumer.go]\n",
      "                                                                      files\n",
      "0000b63765f3b49c049f0d1263c7a89983be4c65             [teuthology/ceph.conf]\n",
      "000efc658d8ed3d768760902265e73e8cf4c8cb7         [teuthology/task/samba.py]\n",
      "001701a0f7a4644805467e6eb229a08c146ee3fb  [teuthology/task/mon_recovery.py]\n",
      "001afeef227411983e83d9854738fd99d3e400c0          [teuthology/run_tasks.py]\n",
      "0026c004cb1609c39ad0a7e7c6e65b66f8a100d6          [teuthology/provision.py]\n"
     ]
    },
    {
     "data": {
      "text/plain": [
       "[]"
      ]
     },
     "execution_count": 1,
     "metadata": {},
     "output_type": "execute_result"
    }
   ],
   "source": [
    "from repovalidator import RepoValidator\n",
    "import os\n",
    "\n",
    "valids = []\n",
    "for subdir, dirs, files in os.walk(\"../data/processed/mirantis/commits-files\"):\n",
    "    # print(subdir)\n",
    "    # print(dirs)\n",
    "    # print(files)\n",
    "\n",
    "    for file in files:\n",
    "        # print(file)\n",
    "        repo = file.split(\".\")[0]\n",
    "        path = os.path.join(subdir, file)\n",
    "        # print(repo)\n",
    "        # print(path)\n",
    "        RepoValidator(path)\n",
    "        # if RepoValidator(path).has_11_percent_of_iac():\n",
    "        #     valids.append(repo)\n",
    "valids            "
   ]
  },
  {
   "cell_type": "code",
   "execution_count": null,
   "id": "934234c51afe2a5a",
   "metadata": {
    "collapsed": false
   },
   "outputs": [],
   "source": [
    "import json\n",
    "\n",
    "with open('../data/processed/mirantis/valid-repos.json', \"w\") as f:\n",
    "    json.dump(valids, f)"
   ]
  },
  {
   "cell_type": "markdown",
   "id": "de168eef",
   "metadata": {},
   "source": [
    "# Extract XCMs (`processed/ORG/REPO.xcms.json`)"
   ]
  },
  {
   "cell_type": "code",
   "execution_count": 1,
   "id": "7a17337f",
   "metadata": {},
   "outputs": [
    {
     "name": "stdout",
     "output_type": "stream",
     "text": [
      "    Extracting XCM from repo 'fuel'\n",
      "   7113 commits total\n"
     ]
    }
   ],
   "source": [
    "import json\n",
    "from commit_message_processor import CommitMessageProcessor\n",
    "\n",
    "with open(\"../data/processed/mirantis/valid-repos.json\", \"r\") as file:\n",
    "    processor = CommitMessageProcessor()\n",
    "    data = json.load(file)\n",
    "    for repo in data: \n",
    "        processor.extract_xcm(\"mirantis\", repo)\n",
    "\n",
    "print(\"done\")\n",
    "# processor = CommitMessageProcesser()\n",
    "# res = requests.get(processor.get_issue_url(\"mirantis\", \"f2s\", \"13\")).json()\n",
    "# print(res)"
   ]
  }
 ],
 "metadata": {
  "kernelspec": {
   "display_name": "Python 3",
   "language": "python",
   "name": "python3"
  },
  "language_info": {
   "codemirror_mode": {
    "name": "ipython",
    "version": 3
   },
   "file_extension": ".py",
   "mimetype": "text/x-python",
   "name": "python",
   "nbconvert_exporter": "python",
   "pygments_lexer": "ipython3",
   "version": "3.12.0"
  }
 },
 "nbformat": 4,
 "nbformat_minor": 5
}
