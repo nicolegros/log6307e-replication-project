{
 "cells": [
  {
   "cell_type": "markdown",
   "source": [
    "# RQ-1: What source code properties characterize defective infrastructure as code scripts"
   ],
   "metadata": {
    "collapsed": false
   },
   "id": "ceb1fcc763d2e1"
  },
  {
   "cell_type": "markdown",
   "source": [
    "## Mirantis"
   ],
   "metadata": {
    "collapsed": false
   },
   "id": "18e0420cf03a45af"
  },
  {
   "cell_type": "code",
   "execution_count": null,
   "id": "initial_id",
   "metadata": {
    "collapsed": true
   },
   "outputs": [],
   "source": [
    "import pandas as pd\n",
    "\n",
    "mirantis = pd.read_csv(\"../data/IST_MIR.csv\")"
   ]
  },
  {
   "cell_type": "code",
   "execution_count": null,
   "outputs": [],
   "source": [
    "\n",
    "X = mirantis[mirantis[\"defect_status\"] == 0].drop(\"org\", axis=1).drop(\"file_\", axis=1)\n",
    "Y = mirantis[mirantis[\"defect_status\"] == 1].drop(\"org\", axis=1).drop(\"file_\", axis=1)\n",
    "X\n"
   ],
   "metadata": {
    "collapsed": false
   },
   "id": "32670cb136302ee"
  },
  {
   "cell_type": "code",
   "execution_count": null,
   "outputs": [],
   "source": [
    "import scipy\n",
    "mann_pvalues = scipy.stats.mannwhitneyu(X, Y, method=\"exact\", alternative=\"two-sided\").pvalue"
   ],
   "metadata": {
    "collapsed": false
   },
   "id": "e04a0fab6cc18560"
  },
  {
   "cell_type": "code",
   "execution_count": null,
   "outputs": [],
   "source": [
    "from cliffs_delta import cliffs_delta # https://github.com/neilernst/cliffsDelta\n",
    "results = {}\n",
    "for index, column in enumerate(X):\n",
    "    d, res = cliffs_delta(X[column], Y[column])\n",
    "    results[column] = {\n",
    "        \"pvalue\": mann_pvalues[index],\n",
    "        \"delta\": d,\n",
    "        \"interpretation\": res\n",
    "    }\n",
    "pd.DataFrame.from_dict(results)"
   ],
   "metadata": {
    "collapsed": false
   },
   "id": "28ff5db048cc5da2"
  },
  {
   "cell_type": "markdown",
   "source": [
    "### Mirantis results\n",
    "|  | URL | File | Lines\\_of\\_code | Require | Ensure | Include | Attribute | Hard\\_coded\\_string | Comment | Command | File\\_mode | SSH\\_KEY | defect\\_status |\n",
    "| :--- | :--- | :--- | :--- | :--- | :--- | :--- | :--- | :--- | :--- | :--- | :--- | :--- | :--- |\n",
    "| pvalue | 0.009196 | 0.000019 | 0.0 | 0.000032 | 0.000007 | 0.000145 | 0.0 | 0.0 | 0.000016 | 0.004841 | 0.000002 | 0.000004 | 0.0 |\n",
    "| delta | -0.224702 | -0.364955 | -0.499752 | -0.355655 | -0.382316 | -0.325645 | -0.470238 | -0.551091 | -0.368552 | -0.242932 | -0.408606 | -0.392237 | -1.0 |\n",
    "| interpretation | small | medium | large | medium | medium | small | medium | large | medium | small | medium | medium | large |\n"
   ],
   "metadata": {
    "collapsed": false
   },
   "id": "c0854f906d4c2838"
  },
  {
   "cell_type": "markdown",
   "source": [
    "## Mozilla"
   ],
   "metadata": {
    "collapsed": false
   },
   "id": "ff614fc479910c08"
  },
  {
   "cell_type": "code",
   "execution_count": 107,
   "outputs": [
    {
     "data": {
      "text/plain": "                       URL      File   Require      Ensure   Include  \\\npvalue            0.080637  0.000135  0.000048    0.062343       0.0   \ndelta            -0.084329  -0.18368 -0.195612    -0.08997 -0.313331   \ninterpretation  negligible     small     small  negligible     small   \n\n               Attribute Hard_coded_string   Command File_mode   SSH_KEY  \\\npvalue               0.0               0.0   0.00016  0.000001  0.000001   \ndelta          -0.407558         -0.405333 -0.181672  -0.24097  -0.24097   \ninterpretation    medium            medium     small     small     small   \n\n               Lines_of_code     Comment defect_status  \npvalue                   0.0    0.575592           0.0  \ndelta              -0.509725   -0.027063          -1.0  \ninterpretation         large  negligible         large  ",
      "text/html": "<div>\n<style scoped>\n    .dataframe tbody tr th:only-of-type {\n        vertical-align: middle;\n    }\n\n    .dataframe tbody tr th {\n        vertical-align: top;\n    }\n\n    .dataframe thead th {\n        text-align: right;\n    }\n</style>\n<table border=\"1\" class=\"dataframe\">\n  <thead>\n    <tr style=\"text-align: right;\">\n      <th></th>\n      <th>URL</th>\n      <th>File</th>\n      <th>Require</th>\n      <th>Ensure</th>\n      <th>Include</th>\n      <th>Attribute</th>\n      <th>Hard_coded_string</th>\n      <th>Command</th>\n      <th>File_mode</th>\n      <th>SSH_KEY</th>\n      <th>Lines_of_code</th>\n      <th>Comment</th>\n      <th>defect_status</th>\n    </tr>\n  </thead>\n  <tbody>\n    <tr>\n      <th>pvalue</th>\n      <td>0.080637</td>\n      <td>0.000135</td>\n      <td>0.000048</td>\n      <td>0.062343</td>\n      <td>0.0</td>\n      <td>0.0</td>\n      <td>0.0</td>\n      <td>0.00016</td>\n      <td>0.000001</td>\n      <td>0.000001</td>\n      <td>0.0</td>\n      <td>0.575592</td>\n      <td>0.0</td>\n    </tr>\n    <tr>\n      <th>delta</th>\n      <td>-0.084329</td>\n      <td>-0.18368</td>\n      <td>-0.195612</td>\n      <td>-0.08997</td>\n      <td>-0.313331</td>\n      <td>-0.407558</td>\n      <td>-0.405333</td>\n      <td>-0.181672</td>\n      <td>-0.24097</td>\n      <td>-0.24097</td>\n      <td>-0.509725</td>\n      <td>-0.027063</td>\n      <td>-1.0</td>\n    </tr>\n    <tr>\n      <th>interpretation</th>\n      <td>negligible</td>\n      <td>small</td>\n      <td>small</td>\n      <td>negligible</td>\n      <td>small</td>\n      <td>medium</td>\n      <td>medium</td>\n      <td>small</td>\n      <td>small</td>\n      <td>small</td>\n      <td>large</td>\n      <td>negligible</td>\n      <td>large</td>\n    </tr>\n  </tbody>\n</table>\n</div>"
     },
     "execution_count": 107,
     "metadata": {},
     "output_type": "execute_result"
    }
   ],
   "source": [
    "import pandas as pd\n",
    "import scipy\n",
    "from cliffs_delta import cliffs_delta\n",
    "\n",
    "mozilla = pd.read_csv(\"../data/IST_MOZ.csv\")\n",
    "\n",
    "X = mozilla[mozilla[\"defect_status\"] == 0].drop(\"org\", axis=1).drop(\"file_\", axis=1)\n",
    "Y = mozilla[mozilla[\"defect_status\"] == 1].drop(\"org\", axis=1).drop(\"file_\", axis=1)\n",
    "\n",
    "\n",
    "mann_pvalues = scipy.stats.mannwhitneyu(X, Y, method=\"exact\", alternative=\"two-sided\").pvalue\n",
    "\n",
    "results = {}\n",
    "for index, column in enumerate(X):\n",
    "    d, res = cliffs_delta(X[column], Y[column])\n",
    "    results[column] = {\n",
    "        \"pvalue\": mann_pvalues[index],\n",
    "        \"delta\": d,\n",
    "        \"interpretation\": res\n",
    "    }\n",
    "pd.DataFrame.from_dict(results)"
   ],
   "metadata": {
    "collapsed": false,
    "ExecuteTime": {
     "end_time": "2023-10-25T17:46:06.255400Z",
     "start_time": "2023-10-25T17:30:51.181986Z"
    }
   },
   "id": "995f60f2c7a38319"
  },
  {
   "cell_type": "markdown",
   "source": [
    "### Mozilla results\n",
    "|  | URL | File | Require | Ensure | Include | Attribute | Hard\\_coded\\_string | Command | File\\_mode | SSH\\_KEY | Lines\\_of\\_code | Comment | defect\\_status |\n",
    "| :--- | :--- | :--- | :--- | :--- | :--- | :--- | :--- | :--- | :--- | :--- | :--- | :--- | :--- |\n",
    "| pvalue | 0.080637 | 0.000135 | 0.000048 | 0.062343 | 0.0 | 0.0 | 0.0 | 0.00016 | 0.000001 | 0.000001 | 0.0 | 0.575592 | 0.0 |\n",
    "| delta | -0.084329 | -0.18368 | -0.195612 | -0.08997 | -0.313331 | -0.407558 | -0.405333 | -0.181672 | -0.24097 | -0.24097 | -0.509725 | -0.027063 | -1.0 |\n",
    "| interpretation | negligible | small | small | negligible | small | medium | medium | small | small | small | large | negligible | large |\n"
   ],
   "metadata": {
    "collapsed": false
   },
   "id": "f4d963809441a5af"
  },
  {
   "cell_type": "markdown",
   "source": [
    "## Openstack"
   ],
   "metadata": {
    "collapsed": false
   },
   "id": "2bede5b65c683fc7"
  },
  {
   "cell_type": "code",
   "execution_count": null,
   "outputs": [],
   "source": [
    "import pandas as pd\n",
    "import scipy\n",
    "from cliffs_delta import cliffs_delta\n",
    "\n",
    "openstack = pd.read_csv(\"../data/IST_OST.csv\")\n",
    "\n",
    "X = openstack[openstack[\"defect_status\"] == 0].drop(\"org\", axis=1).drop(\"file_\", axis=1)\n",
    "Y = openstack[openstack[\"defect_status\"] == 1].drop(\"org\", axis=1).drop(\"file_\", axis=1)\n",
    "\n",
    "\n",
    "mann_pvalues = scipy.stats.mannwhitneyu(X, Y, method=\"exact\", alternative=\"two-sided\").pvalue\n",
    "\n",
    "results = {}\n",
    "for index, column in enumerate(X):\n",
    "    d, res = cliffs_delta(X[column], Y[column])\n",
    "    results[column] = {\n",
    "        \"pvalue\": mann_pvalues[index],\n",
    "        \"delta\": d,\n",
    "        \"interpretation\": res\n",
    "    }\n",
    "pd.DataFrame.from_dict(results)\n"
   ],
   "metadata": {
    "collapsed": false,
    "is_executing": true,
    "ExecuteTime": {
     "start_time": "2023-10-26T14:56:38.769253Z"
    }
   },
   "id": "49848e757554bdf1"
  },
  {
   "cell_type": "markdown",
   "source": [
    "### Openstack results"
   ],
   "metadata": {
    "collapsed": false
   },
   "id": "20fe3ef7db062f9c"
  },
  {
   "cell_type": "markdown",
   "source": [
    "## Wikimedia"
   ],
   "metadata": {
    "collapsed": false
   },
   "id": "10ec35c1a1ab39eb"
  },
  {
   "cell_type": "code",
   "execution_count": 1,
   "outputs": [
    {
     "data": {
      "text/plain": "                     URL      File   Require    Ensure   Include Attribute  \\\npvalue          0.010983  0.000003  0.000001  0.000018       0.0       0.0   \ndelta          -0.171429 -0.311387 -0.321417 -0.287509 -0.373545 -0.472648   \ninterpretation     small     small     small     small    medium    medium   \n\n               Hard_coded_string   Command File_mode   SSH_KEY Lines_of_code  \\\npvalue                       0.0  0.007938  0.000391  0.000277           0.0   \ndelta                  -0.546124 -0.178836 -0.238187 -0.244168     -0.513366   \ninterpretation             large     small     small     small         large   \n\n                 Comment defect_status  \npvalue            0.0009           0.0  \ndelta          -0.223234          -1.0  \ninterpretation     small         large  ",
      "text/html": "<div>\n<style scoped>\n    .dataframe tbody tr th:only-of-type {\n        vertical-align: middle;\n    }\n\n    .dataframe tbody tr th {\n        vertical-align: top;\n    }\n\n    .dataframe thead th {\n        text-align: right;\n    }\n</style>\n<table border=\"1\" class=\"dataframe\">\n  <thead>\n    <tr style=\"text-align: right;\">\n      <th></th>\n      <th>URL</th>\n      <th>File</th>\n      <th>Require</th>\n      <th>Ensure</th>\n      <th>Include</th>\n      <th>Attribute</th>\n      <th>Hard_coded_string</th>\n      <th>Command</th>\n      <th>File_mode</th>\n      <th>SSH_KEY</th>\n      <th>Lines_of_code</th>\n      <th>Comment</th>\n      <th>defect_status</th>\n    </tr>\n  </thead>\n  <tbody>\n    <tr>\n      <th>pvalue</th>\n      <td>0.010983</td>\n      <td>0.000003</td>\n      <td>0.000001</td>\n      <td>0.000018</td>\n      <td>0.0</td>\n      <td>0.0</td>\n      <td>0.0</td>\n      <td>0.007938</td>\n      <td>0.000391</td>\n      <td>0.000277</td>\n      <td>0.0</td>\n      <td>0.0009</td>\n      <td>0.0</td>\n    </tr>\n    <tr>\n      <th>delta</th>\n      <td>-0.171429</td>\n      <td>-0.311387</td>\n      <td>-0.321417</td>\n      <td>-0.287509</td>\n      <td>-0.373545</td>\n      <td>-0.472648</td>\n      <td>-0.546124</td>\n      <td>-0.178836</td>\n      <td>-0.238187</td>\n      <td>-0.244168</td>\n      <td>-0.513366</td>\n      <td>-0.223234</td>\n      <td>-1.0</td>\n    </tr>\n    <tr>\n      <th>interpretation</th>\n      <td>small</td>\n      <td>small</td>\n      <td>small</td>\n      <td>small</td>\n      <td>medium</td>\n      <td>medium</td>\n      <td>large</td>\n      <td>small</td>\n      <td>small</td>\n      <td>small</td>\n      <td>large</td>\n      <td>small</td>\n      <td>large</td>\n    </tr>\n  </tbody>\n</table>\n</div>"
     },
     "execution_count": 1,
     "metadata": {},
     "output_type": "execute_result"
    }
   ],
   "source": [
    "import pandas as pd\n",
    "import scipy\n",
    "from cliffs_delta import cliffs_delta\n",
    "\n",
    "wikimedia = pd.read_csv(\"../data/IST_WIK.csv\")\n",
    "\n",
    "X = wikimedia[wikimedia[\"defect_status\"] == 0].drop(\"org\", axis=1).drop(\"file_\", axis=1)\n",
    "Y = wikimedia[wikimedia[\"defect_status\"] == 1].drop(\"org\", axis=1).drop(\"file_\", axis=1)\n",
    "\n",
    "\n",
    "mann_pvalues = scipy.stats.mannwhitneyu(X, Y, method=\"exact\", alternative=\"two-sided\").pvalue\n",
    "\n",
    "results = {}\n",
    "for index, column in enumerate(X):\n",
    "    d, res = cliffs_delta(X[column], Y[column])\n",
    "    results[column] = {\n",
    "        \"pvalue\": mann_pvalues[index],\n",
    "        \"delta\": d,\n",
    "        \"interpretation\": res\n",
    "    }\n",
    "pd.DataFrame.from_dict(results)"
   ],
   "metadata": {
    "collapsed": false,
    "ExecuteTime": {
     "end_time": "2023-10-26T14:55:27.928528Z",
     "start_time": "2023-10-26T14:54:36.416355Z"
    }
   },
   "id": "dec2ad72b60acf0a"
  },
  {
   "cell_type": "markdown",
   "source": [
    "### Wikimedia results\n",
    "|  | URL | File | Require | Ensure | Include | Attribute | Hard\\_coded\\_string | Command | File\\_mode | SSH\\_KEY | Lines\\_of\\_code | Comment | defect\\_status |\n",
    "| :--- | :--- | :--- | :--- | :--- | :--- | :--- | :--- | :--- | :--- | :--- | :--- | :--- | :--- |\n",
    "| pvalue | 0.010983 | 0.000003 | 0.000001 | 0.000018 | 0.0 | 0.0 | 0.0 | 0.007938 | 0.000391 | 0.000277 | 0.0 | 0.0009 | 0.0 |\n",
    "| delta | -0.171429 | -0.311387 | -0.321417 | -0.287509 | -0.373545 | -0.472648 | -0.546124 | -0.178836 | -0.238187 | -0.244168 | -0.513366 | -0.223234 | -1.0 |\n",
    "| interpretation | small | small | small | small | medium | medium | large | small | small | small | large | small | large |\n"
   ],
   "metadata": {
    "collapsed": false
   },
   "id": "c147d9589d944932"
  }
 ],
 "metadata": {
  "kernelspec": {
   "display_name": "Python 3",
   "language": "python",
   "name": "python3"
  },
  "language_info": {
   "codemirror_mode": {
    "name": "ipython",
    "version": 2
   },
   "file_extension": ".py",
   "mimetype": "text/x-python",
   "name": "python",
   "nbconvert_exporter": "python",
   "pygments_lexer": "ipython2",
   "version": "2.7.6"
  }
 },
 "nbformat": 4,
 "nbformat_minor": 5
}
