{
 "cells": [
  {
   "cell_type": "markdown",
   "id": "9405dd35",
   "metadata": {},
   "source": [
    "# Get the list of repositories (`processed/ORG/repos.json`)"
   ]
  },
  {
   "cell_type": "code",
   "execution_count": null,
   "id": "2d7507ce",
   "metadata": {},
   "outputs": [],
   "source": [
    "from repoextractor import RepoExtractor\n",
    "\n",
    "ORG = \"wikimedia\"\n",
    "RepoExtractor().extract_repo_names(ORG)"
   ]
  },
  {
   "cell_type": "markdown",
   "id": "242a7162b8306495",
   "metadata": {
    "collapsed": false
   },
   "source": [
    "\n",
    "# Extract raw commits (`raw/ORG/REPO.commits.json`)\n"
   ]
  },
  {
   "cell_type": "code",
   "execution_count": 2,
   "id": "6194712b6564fe7a",
   "metadata": {
    "collapsed": false
   },
   "outputs": [
    {
     "name": "stdout",
     "output_type": "stream",
     "text": [
      "wikimedia/wikipedia-ios\n"
     ]
    }
   ],
   "source": [
    "from repoextractor import RepoExtractor\n",
    "import json\n",
    "import datetime\n",
    "\n",
    "ORG = \"wikimedia\"\n",
    "\n",
    "today = datetime.datetime.today()\n",
    "deadline = datetime.timedelta(days=365*2)\n",
    "since = today - deadline\n",
    "\n",
    "with open(f\"../data/processed/{ORG}/repos.json\", \"r\") as file:\n",
    "    data = json.load(file)\n",
    "    \n",
    "    start_index = 0\n",
    "    for i, repo in enumerate(data):\n",
    "        if repo[\"name\"] == \"mediawiki-extensions-Collection\":\n",
    "            start_index = i\n",
    "            break\n",
    "\n",
    "    for repo in data[start_index + 1:]:\n",
    "        print(repo[\"name\"])\n",
    "        RepoExtractor().extract_raw_commits_from_repo(repo[\"name\"], since)\n",
    "    \n",
    "    "
   ]
  },
  {
   "cell_type": "markdown",
   "id": "a0b0bb029ea12787",
   "metadata": {
    "collapsed": false
   },
   "source": [
    "\n",
    "# Extract commit messages and dates (`processed/ORG/commits-messages-dates/REPO.pickle`)\n"
   ]
  },
  {
   "cell_type": "code",
   "execution_count": 3,
   "id": "bf3325e012bb73a0",
   "metadata": {
    "collapsed": false
   },
   "outputs": [],
   "source": [
    "from repoextractor import RepoExtractor\n",
    "import os\n",
    "\n",
    "for subdir, dirs, files in os.walk(f\"../data/raw/{ORG}\"):\n",
    "    for file in files:\n",
    "        repo = file.split(\".\")[0]\n",
    "        path = os.path.join(subdir, file)\n",
    "        RepoExtractor().save_commits_messages_dates(path,\n",
    "                                                    ORG,\n",
    "                                                    repo)\n",
    "        \n"
   ]
  },
  {
   "cell_type": "markdown",
   "id": "b2093e20ef585f81",
   "metadata": {
    "collapsed": false
   },
   "source": [
    "\n",
    "# Extract repos with at least 2 commits per month (`processed/ORG/months-valid.json`)\n"
   ]
  },
  {
   "cell_type": "code",
   "execution_count": null,
   "id": "966ca1b19c0bb3fc",
   "metadata": {
    "collapsed": false
   },
   "outputs": [],
   "source": [
    "from repovalidator import RepoValidator\n",
    "import json\n",
    "import os\n",
    "\n",
    "repos_bool = []\n",
    "for subdir, dirs, files in os.walk(f\"../data/processed/{ORG}/commits-messages-dates\"):\n",
    "    for file in files:\n",
    "        filename = file.split(\".\")[0]\n",
    "        complete_path = os.path.join(subdir, file)\n",
    "        repos_bool.append({\"name\": filename, \"is_valid\": RepoValidator(complete_path).has_at_least_2_commits_per_month()})\n",
    "        \n",
    "with open(f\"../data/processed/{ORG}/months-valid.json\", \"w\") as f:\n",
    "    valids = list(map(lambda y: y[\"name\"], filter(lambda x: x[\"is_valid\"], repos_bool)))\n",
    "    json.dump(valids, f)"
   ]
  },
  {
   "cell_type": "markdown",
   "id": "1e383bd0ea837321",
   "metadata": {
    "collapsed": false
   },
   "source": [
    "\n",
    "# Extract commits with their files (`/processed/ORG/commits-files/REPO.commits.pickle`)\n"
   ]
  },
  {
   "cell_type": "code",
   "execution_count": null,
   "id": "de39ccaff22c88c",
   "metadata": {
    "collapsed": false
   },
   "outputs": [],
   "source": [
    "from repoextractor import RepoExtractor\n",
    "import json\n",
    "import datetime\n",
    "\n",
    "ORG = \"wikimedia\"\n",
    "today = datetime.datetime.today()\n",
    "delta = datetime.timedelta(days=365*2)\n",
    "since = today - delta\n",
    "\n",
    "with open(f\"../data/processed/{ORG}/months-valid.json\", \"r\") as file:\n",
    "    extractor = RepoExtractor()\n",
    "    data = json.load(file)\n",
    "\n",
    "    for repo in data: \n",
    "        r = extractor.get_repo(f\"{ORG}/{repo}\")\n",
    "        extractor.extract_repo(r, ORG, since=since)\n",
    "        \n",
    "        \n"
   ]
  },
  {
   "cell_type": "markdown",
   "id": "2da0e7b16fbbb658",
   "metadata": {
    "collapsed": false
   },
   "source": [
    "\n",
    "# Extract repos with at least 11% of IaC files (`processed/ORG/valid-repos.json`)\n"
   ]
  },
  {
   "cell_type": "code",
   "execution_count": 1,
   "id": "c4b8037323346140",
   "metadata": {
    "collapsed": false
   },
   "outputs": [
    {
     "name": "stdout",
     "output_type": "stream",
     "text": [
      "    Validating repo abstract-wikipedia-data-science\n",
      "                                                                                      files\n",
      "0011b674d08e83e8288c49c886b0f2f5e335037b  [cronjobs.txt, detect_similarity.py, shell_scr...\n",
      "0017ea4ed7d53a9cef5eb139b16a03e5afd6cb8c                                        [README.md]\n",
      "0033490a2f5e59047c4bc4f937e20d3fd4320f1b                                        [README.md]\n",
      "0142627aba6de0a71f90de830825499b43e664d1                                  [get_db_pages.py]\n",
      "0287ed1adfa457754f5816ba9b87f1a365082660                   [db_script.py, fetch_content.py]\n",
      "    Validating repo analytics-aggregator-data\n",
      "                                                                                      files\n",
      "001045985c82ff5501ddaf88827d82a99f6e0354  [projectcounts/daily/aawiki.csv, projectcounts...\n",
      "002ceadba6d3c9e86abf1751de60cea348f10afd  [projectcounts/daily/aawiki.csv, projectcounts...\n",
      "009b80d13910d6d4faf3708a97626d29547d6ea1  [projectcounts/daily/aawiki.csv, projectcounts...\n",
      "01a2abcfacd5f568d78568c693817199bbb5e78c  [projectcounts/daily/aawiki.csv, projectcounts...\n",
      "02db6bafa43744d394aaeb3fb3a4ae37fffb063a  [projectcounts/daily/aawiki.csv, projectcounts...\n",
      "    Validating repo analytics-geowiki-data-public\n",
      "                                                                                      files\n",
      "0067d267ab8c3e66455bf7e7c754ab8d36d37c05  [datafiles/abwiki_editor_counts.csv, datafiles...\n",
      "00808ccf28d293a9ec56f974bcee2f7a2ee40ada  [datafiles/abwiki_editor_counts.csv, datafiles...\n",
      "00ed2fc463cf6d7ea96fb61727928fda5316c4c6  [datafiles/abwiki_editor_counts.csv, datafiles...\n",
      "0117fed27f15ddc2f90c26fedee61ceda68ed1c3  [datafiles/abwiki_editor_counts.csv, datafiles...\n",
      "01b6a3289ba0fff5851c48d42ec43f0cb2b78014  [datafiles/abwiki_editor_counts.csv, datafiles...\n",
      "    Validating repo analytics-limn-wikidata-data\n",
      "                                                                                      files\n",
      "029cddfa32ce2d6136901f90d97eae67b827ea07  [src/export.sh, src/wikidata_getclaims_propert...\n",
      "0d0c9d2d34148da696f435e5cf03b1e9353ec670           [graphite/api/getclaims_property_use.sh]\n",
      "105ba211ec27facbad688c5ec40648ff552db5e1  [graphite/entityUsage.php, graphite/site_stats...\n",
      "10f832d1c0912e07eccc9d8d7a50f48606bb6376                     [graphite/sparql/minutely.php]\n",
      "110797161d07efb0ac45e013121f3589898e4467  [graphite/datamodel/sql/statements_per_entity....\n",
      "    Validating repo analytics-multimedia\n",
      "                                                                                      files\n",
      "02e0359cba517d786f2f9b01c4656808c9481dc4  [actions/fiwiki.sql, generate.php, perf/fiwiki...\n",
      "02e5865641441b0145507067e1b9238c3996327b  [clear-utility-tables.sql, config.default.json...\n",
      "05f11d7342a168745a23b8dc517926fd7fc93672                           [uw-funnel/absolute.sql]\n",
      "061cba35b2f1fccefbcce18cebf2c65b5342e3e9                                      [generate.py]\n",
      "064a155d82b0f708ed5b8c41f2fa37ea50c37542                                [build-optout-tsvs]\n",
      "    Validating repo analytics-refinery\n",
      "                                                                                      files\n",
      "0011e8e4d2560c509f63860065b68c509f435094  [hive/wikidata/create_wikidata_item_page_link_...\n",
      "002c6e1f7b322173ca8c7e2bbe3a46d7294f5e58  [hive/learning/features/actor/hourly/create_ac...\n",
      "004495425c5d90892fd7800ad6bb7788e56881df     [static_data/pageview/allowlist/allowlist.tsv]\n",
      "0053b97ea39ec2cbf781afc133726a64f020d8df          [oozie/aqs/hourly/coordinator.properties]\n",
      "006cf7446ee6d3a43495e8395771ac05776d4f38  [oozie/cassandra/bundle.xml, oozie/cassandra/c...\n",
      "    Validating repo analytics-user-metrics\n",
      "                                                                                      files\n",
      "005cf855a77fc82dadc38bcc38990dbaae948cfc                                        [README.md]\n",
      "00ed247080de461b45e388d6ba3ced420972d5f1  [src/api/run.py, src/api/templates/all_urls.ht...\n",
      "01339d3e5bc956e0f630b5230925f106a7438db6       [user_metrics/api/engine/request_manager.py]\n",
      "0158bec2e8c2e74a0669437f274fca84f9b7ba60                   [user_metrics/etl/aggregator.py]\n",
      "0176f02a605c904f28031489f102097d320188cd                      [scripts/settings.py.example]\n",
      "    Validating repo apiclient-wiki\n",
      "                                                                files\n",
      "0468c2cfda1e15cb808ba350dcc118ba225c6c4f            [js/apiclient.js]\n",
      "06427edae49c8668321fbb84081508515466a9a2                 [index.html]\n",
      "0863d262e467a722ec173f212a5794c3db8f2918                 [index.html]\n",
      "08e5e2a1e7d18e3510cdc2728ec08136381a51f7            [js/apiclient.js]\n",
      "0cd1fda83ad9c50dc8e2ce4af07a4d3865d72359  [404.html, js/apiclient.js]\n",
      "    Validating repo apps-android-wikipedia\n",
      "                                                                                      files\n",
      "0014925c3cd774934811ddc8f532ecd7720fc99f  [app/src/main/java/org/wikipedia/dataclient/Se...\n",
      "00265e0e5200a6cc3da36b0ed1ca6057d7423b45  [app/src/main/res/values-bg/strings.xml, app/s...\n",
      "004c3b74de7eee4430ba420e0d52415378c6d512  [app/src/main/java/org/wikipedia/talk/TalkTopi...\n",
      "0051fc8d8cbb0261366e2b5e41d4d1ca75c823ee               [app/src/main/res/values/styles.xml]\n",
      "0056393919ec1ab6ed6bf3e194ae32e687246330  [app/src/main/res/values-ar/strings.xml, app/s...\n",
      "    Validating repo design-codex\n",
      "                                                                                      files\n",
      "001f592399e37464ef2cd8f2c65d1141ac4316e0  [CHANGELOG.md, package-lock.json, packages/cod...\n",
      "00246a3b0336d5f0e5ab974da91ad224cde5a6ff  [packages/codex-design-tokens/src/codex-base.j...\n",
      "007f30f8a8893c66fbed1cac6c294978b3f21871              [packages/codex/src/demo/Sandbox.vue]\n",
      "009f0f05385388fa6ef0251964b56e29d329dddd  [packages/codex-icons/src/icons.ts, packages/c...\n",
      "00c82b47dcae3bad72b603dc6aec6f61d46ffd8c  [packages/codex-docs/component-demos/message/m...\n",
      "    Validating repo integration-config\n",
      "                                                                                     files\n",
      "0027bc95f58136f5416e445c0ededed297953df4  [tests/test_zuul_scheduler.py, zuul/layout.yaml]\n",
      "003bd283afedb55fd665947f94da56d9b54957fe                     [zuul/parameter_functions.py]\n",
      "00471e03a939f363b9001f791ade7000e644a80e                                [zuul/layout.yaml]\n",
      "007d76350464ca494b4abb4faf71e540d625d76a                                [zuul/layout.yaml]\n",
      "0080e9c84a6ccf53decdfb33174eb3385a7f8166                                [zuul/layout.yaml]\n",
      "    Validating repo labs-tools-awmd-stats\n",
      "Empty DataFrame\n",
      "Columns: []\n",
      "Index: []\n"
     ]
    },
    {
     "ename": "AttributeError",
     "evalue": "'DataFrame' object has no attribute 'files'",
     "output_type": "error",
     "traceback": [
      "\u001b[1;31m---------------------------------------------------------------------------\u001b[0m",
      "\u001b[1;31mAttributeError\u001b[0m                            Traceback (most recent call last)",
      "\u001b[1;32m~\\AppData\\Local\\Temp\\ipykernel_31796\\3116094928.py\u001b[0m in \u001b[0;36m?\u001b[1;34m()\u001b[0m\n\u001b[0;32m      9\u001b[0m     \u001b[1;32mfor\u001b[0m \u001b[0mfile\u001b[0m \u001b[1;32min\u001b[0m \u001b[0mfiles\u001b[0m\u001b[1;33m:\u001b[0m\u001b[1;33m\u001b[0m\u001b[1;33m\u001b[0m\u001b[0m\n\u001b[0;32m     10\u001b[0m         \u001b[0mrepo\u001b[0m \u001b[1;33m=\u001b[0m \u001b[0mfile\u001b[0m\u001b[1;33m.\u001b[0m\u001b[0msplit\u001b[0m\u001b[1;33m(\u001b[0m\u001b[1;34m\".\"\u001b[0m\u001b[1;33m)\u001b[0m\u001b[1;33m[\u001b[0m\u001b[1;36m0\u001b[0m\u001b[1;33m]\u001b[0m\u001b[1;33m\u001b[0m\u001b[1;33m\u001b[0m\u001b[0m\n\u001b[0;32m     11\u001b[0m         \u001b[0mpath\u001b[0m \u001b[1;33m=\u001b[0m \u001b[0mos\u001b[0m\u001b[1;33m.\u001b[0m\u001b[0mpath\u001b[0m\u001b[1;33m.\u001b[0m\u001b[0mjoin\u001b[0m\u001b[1;33m(\u001b[0m\u001b[0msubdir\u001b[0m\u001b[1;33m,\u001b[0m \u001b[0mfile\u001b[0m\u001b[1;33m)\u001b[0m\u001b[1;33m\u001b[0m\u001b[1;33m\u001b[0m\u001b[0m\n\u001b[0;32m     12\u001b[0m         \u001b[0mprint\u001b[0m\u001b[1;33m(\u001b[0m\u001b[1;33mf\"\u001b[0m\u001b[1;33m    Validating repo \u001b[0m\u001b[1;33m{\u001b[0m\u001b[0mrepo\u001b[0m\u001b[1;33m}\u001b[0m\u001b[1;33m\"\u001b[0m\u001b[1;33m)\u001b[0m\u001b[1;33m\u001b[0m\u001b[1;33m\u001b[0m\u001b[0m\n\u001b[1;32m---> 13\u001b[1;33m         \u001b[1;32mif\u001b[0m \u001b[0mRepoValidator\u001b[0m\u001b[1;33m(\u001b[0m\u001b[0mpath\u001b[0m\u001b[1;33m)\u001b[0m\u001b[1;33m.\u001b[0m\u001b[0mhas_11_percent_of_iac\u001b[0m\u001b[1;33m(\u001b[0m\u001b[1;33m)\u001b[0m\u001b[1;33m:\u001b[0m\u001b[1;33m\u001b[0m\u001b[1;33m\u001b[0m\u001b[0m\n\u001b[0m\u001b[0;32m     14\u001b[0m             \u001b[0mvalids\u001b[0m\u001b[1;33m.\u001b[0m\u001b[0mappend\u001b[0m\u001b[1;33m(\u001b[0m\u001b[0mrepo\u001b[0m\u001b[1;33m)\u001b[0m\u001b[1;33m\u001b[0m\u001b[1;33m\u001b[0m\u001b[0m\n\u001b[0;32m     15\u001b[0m \u001b[0mvalids\u001b[0m\u001b[1;33m\u001b[0m\u001b[1;33m\u001b[0m\u001b[0m\n",
      "\u001b[1;32mc:\\Users\\m_bla\\Desktop\\Code_Poly\\LOG6307\\log6307e-replication-project\\src\\repovalidator.py\u001b[0m in \u001b[0;36m?\u001b[1;34m(self)\u001b[0m\n\u001b[0;32m     22\u001b[0m     \u001b[1;32mdef\u001b[0m \u001b[0mhas_11_percent_of_iac\u001b[0m\u001b[1;33m(\u001b[0m\u001b[0mself\u001b[0m\u001b[1;33m)\u001b[0m \u001b[1;33m->\u001b[0m \u001b[0mbool\u001b[0m\u001b[1;33m:\u001b[0m\u001b[1;33m\u001b[0m\u001b[1;33m\u001b[0m\u001b[0m\n\u001b[0;32m     23\u001b[0m         \u001b[0mlist_folder\u001b[0m \u001b[1;33m=\u001b[0m \u001b[1;33m[\u001b[0m\u001b[1;33m]\u001b[0m\u001b[1;33m\u001b[0m\u001b[1;33m\u001b[0m\u001b[0m\n\u001b[0;32m     24\u001b[0m         \u001b[0mprint\u001b[0m\u001b[1;33m(\u001b[0m\u001b[0mself\u001b[0m\u001b[1;33m.\u001b[0m\u001b[0mdf\u001b[0m\u001b[1;33m.\u001b[0m\u001b[0mhead\u001b[0m\u001b[1;33m(\u001b[0m\u001b[1;33m)\u001b[0m\u001b[1;33m)\u001b[0m\u001b[1;33m\u001b[0m\u001b[1;33m\u001b[0m\u001b[0m\n\u001b[1;32m---> 25\u001b[1;33m         \u001b[1;32mfor\u001b[0m \u001b[0ml\u001b[0m \u001b[1;32min\u001b[0m \u001b[0mself\u001b[0m\u001b[1;33m.\u001b[0m\u001b[0mdf\u001b[0m\u001b[1;33m.\u001b[0m\u001b[0mfiles\u001b[0m\u001b[1;33m.\u001b[0m\u001b[0mto_list\u001b[0m\u001b[1;33m(\u001b[0m\u001b[1;33m)\u001b[0m\u001b[1;33m:\u001b[0m\u001b[1;33m\u001b[0m\u001b[1;33m\u001b[0m\u001b[0m\n\u001b[0m\u001b[0;32m     26\u001b[0m             \u001b[0mlist_folder\u001b[0m\u001b[1;33m.\u001b[0m\u001b[0mextend\u001b[0m\u001b[1;33m(\u001b[0m\u001b[0ml\u001b[0m\u001b[1;33m)\u001b[0m\u001b[1;33m\u001b[0m\u001b[1;33m\u001b[0m\u001b[0m\n\u001b[0;32m     27\u001b[0m         \u001b[0munique_files\u001b[0m \u001b[1;33m=\u001b[0m \u001b[0mnp\u001b[0m\u001b[1;33m.\u001b[0m\u001b[0munique\u001b[0m\u001b[1;33m(\u001b[0m\u001b[0mlist_folder\u001b[0m\u001b[1;33m)\u001b[0m\u001b[1;33m.\u001b[0m\u001b[0mtolist\u001b[0m\u001b[1;33m(\u001b[0m\u001b[1;33m)\u001b[0m\u001b[1;33m\u001b[0m\u001b[1;33m\u001b[0m\u001b[0m\n\u001b[0;32m     28\u001b[0m \u001b[1;33m\u001b[0m\u001b[0m\n",
      "\u001b[1;32m~\\AppData\\Roaming\\Python\\Python312\\site-packages\\pandas\\core\\generic.py\u001b[0m in \u001b[0;36m?\u001b[1;34m(self, name)\u001b[0m\n\u001b[0;32m   6200\u001b[0m             \u001b[1;32mand\u001b[0m \u001b[0mname\u001b[0m \u001b[1;32mnot\u001b[0m \u001b[1;32min\u001b[0m \u001b[0mself\u001b[0m\u001b[1;33m.\u001b[0m\u001b[0m_accessors\u001b[0m\u001b[1;33m\u001b[0m\u001b[1;33m\u001b[0m\u001b[0m\n\u001b[0;32m   6201\u001b[0m             \u001b[1;32mand\u001b[0m \u001b[0mself\u001b[0m\u001b[1;33m.\u001b[0m\u001b[0m_info_axis\u001b[0m\u001b[1;33m.\u001b[0m\u001b[0m_can_hold_identifiers_and_holds_name\u001b[0m\u001b[1;33m(\u001b[0m\u001b[0mname\u001b[0m\u001b[1;33m)\u001b[0m\u001b[1;33m\u001b[0m\u001b[1;33m\u001b[0m\u001b[0m\n\u001b[0;32m   6202\u001b[0m         \u001b[1;33m)\u001b[0m\u001b[1;33m:\u001b[0m\u001b[1;33m\u001b[0m\u001b[1;33m\u001b[0m\u001b[0m\n\u001b[0;32m   6203\u001b[0m             \u001b[1;32mreturn\u001b[0m \u001b[0mself\u001b[0m\u001b[1;33m[\u001b[0m\u001b[0mname\u001b[0m\u001b[1;33m]\u001b[0m\u001b[1;33m\u001b[0m\u001b[1;33m\u001b[0m\u001b[0m\n\u001b[1;32m-> 6204\u001b[1;33m         \u001b[1;32mreturn\u001b[0m \u001b[0mobject\u001b[0m\u001b[1;33m.\u001b[0m\u001b[0m__getattribute__\u001b[0m\u001b[1;33m(\u001b[0m\u001b[0mself\u001b[0m\u001b[1;33m,\u001b[0m \u001b[0mname\u001b[0m\u001b[1;33m)\u001b[0m\u001b[1;33m\u001b[0m\u001b[1;33m\u001b[0m\u001b[0m\n\u001b[0m",
      "\u001b[1;31mAttributeError\u001b[0m: 'DataFrame' object has no attribute 'files'"
     ]
    }
   ],
   "source": [
    "from repovalidator import RepoValidator\n",
    "import json\n",
    "import os\n",
    "\n",
    "ORG = \"wikimedia\"\n",
    "\n",
    "valids = []\n",
    "for subdir, dirs, files in os.walk(f\"../data/processed/{ORG}/commits-files\"):\n",
    "    for file in files:\n",
    "        repo = file.split(\".\")[0]\n",
    "        path = os.path.join(subdir, file)\n",
    "        print(f\"    Validating repo {repo}\")\n",
    "        if RepoValidator(path).has_11_percent_of_iac():\n",
    "            valids.append(repo)\n",
    "valids            "
   ]
  },
  {
   "cell_type": "code",
   "execution_count": null,
   "id": "934234c51afe2a5a",
   "metadata": {
    "collapsed": false
   },
   "outputs": [],
   "source": [
    "with open(f'../data/processed/{ORG}/valid-repos.json', \"w\") as f:\n",
    "    json.dump(valids, f)"
   ]
  }
 ],
 "metadata": {
  "kernelspec": {
   "display_name": "Python 3",
   "language": "python",
   "name": "python3"
  },
  "language_info": {
   "codemirror_mode": {
    "name": "ipython",
    "version": 3
   },
   "file_extension": ".py",
   "mimetype": "text/x-python",
   "name": "python",
   "nbconvert_exporter": "python",
   "pygments_lexer": "ipython3",
   "version": "3.12.0"
  }
 },
 "nbformat": 4,
 "nbformat_minor": 5
}
