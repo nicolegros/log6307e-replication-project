{
 "cells": [
  {
   "cell_type": "markdown",
   "id": "9405dd35",
   "metadata": {},
   "source": [
    "# Get the list of repositories (`processed/ORG/repos.json`)"
   ]
  },
  {
   "cell_type": "code",
   "execution_count": null,
   "id": "2d7507ce",
   "metadata": {},
   "outputs": [],
   "source": [
    "from repoextractor import RepoExtractor\n",
    "\n",
    "ORG = \"wikimedia\"\n",
    "RepoExtractor().extract_repo_names(ORG)"
   ]
  },
  {
   "cell_type": "markdown",
   "id": "242a7162b8306495",
   "metadata": {
    "collapsed": false
   },
   "source": [
    "\n",
    "# Extract raw commits (`raw/ORG/REPO.commits.json`)\n"
   ]
  },
  {
   "cell_type": "code",
   "execution_count": 2,
   "id": "6194712b6564fe7a",
   "metadata": {
    "collapsed": false
   },
   "outputs": [
    {
     "name": "stdout",
     "output_type": "stream",
     "text": [
      "wikimedia/wikipedia-ios\n"
     ]
    }
   ],
   "source": [
    "from repoextractor import RepoExtractor\n",
    "import json\n",
    "import datetime\n",
    "\n",
    "ORG = \"wikimedia\"\n",
    "\n",
    "today = datetime.datetime.today()\n",
    "deadline = datetime.timedelta(days=365*2)\n",
    "since = today - deadline\n",
    "\n",
    "with open(f\"../data/processed/{ORG}/repos.json\", \"r\") as file:\n",
    "    data = json.load(file)\n",
    "    \n",
    "    start_index = 0\n",
    "    for i, repo in enumerate(data):\n",
    "        if repo[\"name\"] == \"mediawiki-extensions-Collection\":\n",
    "            start_index = i\n",
    "            break\n",
    "\n",
    "    for repo in data[start_index + 1:]:\n",
    "        print(repo[\"name\"])\n",
    "        RepoExtractor().extract_raw_commits_from_repo(repo[\"name\"], since)\n",
    "    \n",
    "    "
   ]
  },
  {
   "cell_type": "markdown",
   "id": "a0b0bb029ea12787",
   "metadata": {
    "collapsed": false
   },
   "source": [
    "\n",
    "# Extract commit messages and dates (`processed/ORG/commits-messages-dates/REPO.pickle`)\n"
   ]
  },
  {
   "cell_type": "code",
   "execution_count": 3,
   "id": "bf3325e012bb73a0",
   "metadata": {
    "collapsed": false
   },
   "outputs": [],
   "source": [
    "from repoextractor import RepoExtractor\n",
    "import os\n",
    "\n",
    "for subdir, dirs, files in os.walk(f\"../data/raw/{ORG}\"):\n",
    "    for file in files:\n",
    "        repo = file.split(\".\")[0]\n",
    "        path = os.path.join(subdir, file)\n",
    "        RepoExtractor().save_commits_messages_dates(path,\n",
    "                                                    ORG,\n",
    "                                                    repo)\n",
    "        \n"
   ]
  },
  {
   "cell_type": "markdown",
   "id": "b2093e20ef585f81",
   "metadata": {
    "collapsed": false
   },
   "source": [
    "\n",
    "# Extract repos with at least 2 commits per month (`processed/ORG/months-valid.json`)\n"
   ]
  },
  {
   "cell_type": "code",
   "execution_count": null,
   "id": "966ca1b19c0bb3fc",
   "metadata": {
    "collapsed": false
   },
   "outputs": [],
   "source": [
    "from repovalidator import RepoValidator\n",
    "import json\n",
    "import os\n",
    "\n",
    "repos_bool = []\n",
    "for subdir, dirs, files in os.walk(f\"../data/processed/{ORG}/commits-messages-dates\"):\n",
    "    for file in files:\n",
    "        filename = file.split(\".\")[0]\n",
    "        complete_path = os.path.join(subdir, file)\n",
    "        repos_bool.append({\"name\": filename, \"is_valid\": RepoValidator(complete_path).has_at_least_2_commits_per_month()})\n",
    "        \n",
    "with open(f\"../data/processed/{ORG}/months-valid.json\", \"w\") as f:\n",
    "    valids = list(map(lambda y: y[\"name\"], filter(lambda x: x[\"is_valid\"], repos_bool)))\n",
    "    json.dump(valids, f)"
   ]
  },
  {
   "cell_type": "markdown",
   "id": "1e383bd0ea837321",
   "metadata": {
    "collapsed": false
   },
   "source": [
    "\n",
    "# Extract commits with their files (`/processed/ORG/commits-files/REPO.commits.pickle`)\n"
   ]
  },
  {
   "cell_type": "code",
   "execution_count": null,
   "id": "de39ccaff22c88c",
   "metadata": {
    "collapsed": false
   },
   "outputs": [],
   "source": [
    "from repoextractor import RepoExtractor\n",
    "import json\n",
    "import datetime\n",
    "\n",
    "ORG = \"wikimedia\"\n",
    "today = datetime.datetime.today()\n",
    "delta = datetime.timedelta(days=365*2)\n",
    "since = today - delta\n",
    "\n",
    "with open(f\"../data/processed/{ORG}/months-valid.json\", \"r\") as file:\n",
    "    extractor = RepoExtractor()\n",
    "    data = json.load(file)\n",
    "\n",
    "    for repo in data: \n",
    "        r = extractor.get_repo(f\"{ORG}/{repo}\")\n",
    "        extractor.extract_repo(r, ORG, since=since)\n",
    "        \n",
    "        \n"
   ]
  },
  {
   "cell_type": "markdown",
   "id": "2da0e7b16fbbb658",
   "metadata": {
    "collapsed": false
   },
   "source": [
    "\n",
    "# Extract repos with at least 11% of IaC files (`processed/ORG/valid-repos.json`)\n"
   ]
  },
  {
   "cell_type": "code",
   "execution_count": null,
   "id": "c4b8037323346140",
   "metadata": {
    "collapsed": false
   },
   "outputs": [],
   "source": [
    "from repovalidator import RepoValidator\n",
    "import json\n",
    "import os\n",
    "\n",
    "ORG = \"wikimedia\"\n",
    "\n",
    "valids = []\n",
    "for subdir, dirs, files in os.walk(f\"../data/processed/{ORG}/commits-files\"):\n",
    "    for file in files:\n",
    "        repo = file.split(\".\")[0]\n",
    "        path = os.path.join(subdir, file)\n",
    "        print(f\"    Validating repo {repo}\")\n",
    "        if RepoValidator(path).has_11_percent_of_iac():\n",
    "            valids.append(repo)\n",
    "valids            "
   ]
  },
  {
   "cell_type": "code",
   "execution_count": 2,
   "id": "934234c51afe2a5a",
   "metadata": {
    "collapsed": false
   },
   "outputs": [],
   "source": [
    "with open(f'../data/processed/{ORG}/valid-repos.json', \"w\") as f:\n",
    "    json.dump(valids, f)"
   ]
  },
  {
   "cell_type": "markdown",
   "id": "9713a3b0",
   "metadata": {},
   "source": [
    "# Extract XCMs (`processed/ORG/REPO.xcms.json`)"
   ]
  },
  {
   "cell_type": "code",
   "execution_count": 4,
   "id": "cc3e3a11",
   "metadata": {},
   "outputs": [
    {
     "name": "stdout",
     "output_type": "stream",
     "text": [
      "    Extracting XCM from repo 'integration-config'\n",
      "   1597 commits total\n",
      "        Saving xcms to ../data/processed/wikimedia/xcms/integration-config.json\n",
      "done\n"
     ]
    }
   ],
   "source": [
    "import json\n",
    "from commit_message_processor import CommitMessageProcessor\n",
    "\n",
    "ORG = \"wikimedia\"\n",
    "\n",
    "with open(f\"../data/processed/{ORG}/valid-repos.json\", \"r\") as file:\n",
    "    processor = CommitMessageProcessor()\n",
    "    data = json.load(file)\n",
    "    for repo in data: \n",
    "        processor.extract_xcm(ORG, repo)\n",
    "\n",
    "print(\"done\")"
   ]
  }
 ],
 "metadata": {
  "kernelspec": {
   "display_name": "Python 3",
   "language": "python",
   "name": "python3"
  },
  "language_info": {
   "codemirror_mode": {
    "name": "ipython",
    "version": 3
   },
   "file_extension": ".py",
   "mimetype": "text/x-python",
   "name": "python",
   "nbconvert_exporter": "python",
   "pygments_lexer": "ipython3",
   "version": "3.12.0"
  }
 },
 "nbformat": 4,
 "nbformat_minor": 5
}
