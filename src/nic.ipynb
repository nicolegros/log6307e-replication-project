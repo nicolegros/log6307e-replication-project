{
 "cells": [
  {
   "cell_type": "markdown",
   "source": [
    "\n",
    "# Extract raw commits (`raw/ORG/REPO.commits.json`)\n"
   ],
   "metadata": {
    "collapsed": false
   },
   "id": "242a7162b8306495"
  },
  {
   "cell_type": "code",
   "execution_count": null,
   "outputs": [],
   "source": [
    "from src.repoextractor import RepoExtractor\n",
    "import json\n",
    "with open(\"../data/processed/mirantis/repos.json\", \"r\") as file:\n",
    "    data = json.load(file)\n",
    "    \n",
    "    for repo in data:\n",
    "        print(repo[\"name\"])\n",
    "        RepoExtractor().extract_raw_commits_from_repo(repo[\"name\"])\n",
    "    \n",
    "    "
   ],
   "metadata": {
    "collapsed": false
   },
   "id": "6194712b6564fe7a"
  },
  {
   "cell_type": "markdown",
   "source": [
    "\n",
    "# Extract commit messages and dates (`processed/ORG/commits-messages-dates/REPO.pickle`)\n"
   ],
   "metadata": {
    "collapsed": false
   },
   "id": "a0b0bb029ea12787"
  },
  {
   "cell_type": "code",
   "execution_count": null,
   "outputs": [],
   "source": [
    "import os\n",
    "from repoextractor import RepoExtractor\n",
    "\n",
    "for subdir, dirs, files in os.walk(\"../data/raw/mirantis\"):\n",
    "    for file in files:\n",
    "        repo = file.split(\".\")[0]\n",
    "        path = os.path.join(subdir, file)\n",
    "        RepoExtractor().save_commits_messages_dates(path,\n",
    "                                                    \"mirantis\",\n",
    "                                                    repo)\n",
    "        \n"
   ],
   "metadata": {
    "collapsed": false
   },
   "id": "bf3325e012bb73a0"
  },
  {
   "cell_type": "markdown",
   "source": [
    "\n",
    "# Extract repos with at least 2 commits per month (`processed/ORG/months-valid.json`)\n"
   ],
   "metadata": {
    "collapsed": false
   },
   "id": "b2093e20ef585f81"
  },
  {
   "cell_type": "code",
   "execution_count": null,
   "outputs": [],
   "source": [
    "from src.repovalidator import RepoValidator\n",
    "import os\n",
    "import json\n",
    "\n",
    "repos_bool = []\n",
    "for subdir, dirs, files in os.walk(\"../data/processed/mirantis/commits-messages-dates\"):\n",
    "    for file in files:\n",
    "        filename = file.split(\".\")[0]\n",
    "        complete_path = os.path.join(subdir, file)\n",
    "        repos_bool.append({\"name\": filename, \"is_valid\": RepoValidator(complete_path).has_at_least_2_commits_per_month()})\n",
    "        \n",
    "with open(\"../data/processed/mirantis/months-valid.json\", \"w\") as f:\n",
    "    valids = list(map(lambda y: y[\"name\"], filter(lambda x: x[\"is_valid\"], repos_bool)))\n",
    "    json.dump(valids, f)"
   ],
   "metadata": {
    "collapsed": false
   },
   "id": "966ca1b19c0bb3fc"
  },
  {
   "cell_type": "markdown",
   "source": [
    "\n",
    "# Extract commits with their files (`/processed/ORG/commits-files/REPO.commits.pickle`)\n"
   ],
   "metadata": {
    "collapsed": false
   },
   "id": "1e383bd0ea837321"
  },
  {
   "cell_type": "code",
   "execution_count": null,
   "outputs": [],
   "source": [
    "import json\n",
    "from repoextractor import RepoExtractor\n",
    "\n",
    "with open(\"../data/processed/mirantis/months-valid.json\", \"r\") as file:\n",
    "    extractor = RepoExtractor()\n",
    "    data = json.load(file)\n",
    "    for repo in data: \n",
    "        r = extractor.get_repo(f\"mirantis/{repo}\")\n",
    "        extractor.extract_repo(r, \"mirantis\")\n",
    "        \n",
    "        \n"
   ],
   "metadata": {
    "collapsed": false
   },
   "id": "de39ccaff22c88c"
  },
  {
   "cell_type": "markdown",
   "source": [
    "\n",
    "# Extract repos with at least 11% of IaC files (`processed/ORG/valid-repos.json`)\n"
   ],
   "metadata": {
    "collapsed": false
   },
   "id": "2da0e7b16fbbb658"
  },
  {
   "cell_type": "code",
   "execution_count": null,
   "outputs": [],
   "source": [
    "from src.repovalidator import RepoValidator\n",
    "import os\n",
    "\n",
    "valids = []\n",
    "for subdir, dirs, files in os.walk(\"../data/processed/mirantis/commits-files\"):\n",
    "    for file in files:\n",
    "        repo = file.split(\".\")[0]\n",
    "        path = os.path.join(subdir, file)\n",
    "        if RepoValidator(path).has_11_percent_of_iac():\n",
    "            valids.append(repo)\n",
    "valids            "
   ],
   "metadata": {
    "collapsed": false
   },
   "id": "c4b8037323346140"
  },
  {
   "cell_type": "code",
   "execution_count": null,
   "outputs": [],
   "source": [
    "import json\n",
    "\n",
    "with open('../data/processed/mirantis/valid-repos.json', \"w\") as f:\n",
    "    json.dump(valids, f)"
   ],
   "metadata": {
    "collapsed": false
   },
   "id": "934234c51afe2a5a"
  }
 ],
 "metadata": {
  "kernelspec": {
   "display_name": "Python 3",
   "language": "python",
   "name": "python3"
  },
  "language_info": {
   "codemirror_mode": {
    "name": "ipython",
    "version": 2
   },
   "file_extension": ".py",
   "mimetype": "text/x-python",
   "name": "python",
   "nbconvert_exporter": "python",
   "pygments_lexer": "ipython2",
   "version": "2.7.6"
  }
 },
 "nbformat": 4,
 "nbformat_minor": 5
}
