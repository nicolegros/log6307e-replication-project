{
 "cells": [
  {
   "cell_type": "markdown",
   "source": [
    "# RQ-3: How can we construct defect prediction models for infrastructure as code scripts using the identified source code properties?"
   ],
   "metadata": {
    "collapsed": false
   },
   "id": "a7fa2a80270d25d0"
  },
  {
   "cell_type": "code",
   "execution_count": 35,
   "outputs": [],
   "source": [
    "import pandas as pd\n",
    "import scipy\n",
    "from sklearn.decomposition import PCA\n",
    "\n",
    "from cliffs_delta import cliffs_delta\n",
    "\n",
    "mozilla = pd.read_csv(\"../data/IST_MOZ.csv\")"
   ],
   "metadata": {
    "collapsed": false,
    "ExecuteTime": {
     "end_time": "2023-10-26T15:41:09.708215Z",
     "start_time": "2023-10-26T15:41:08.841124Z"
    }
   },
   "id": "dd1a0c2928f9cb32"
  },
  {
   "cell_type": "markdown",
   "source": [
    "## PCA"
   ],
   "metadata": {
    "collapsed": false
   },
   "id": "9eb07fda0c921280"
  },
  {
   "cell_type": "code",
   "execution_count": 36,
   "outputs": [
    {
     "data": {
      "text/plain": "         org                                              file_  URL  File  \\\n0    MOZILLA  /Users/akond/PUPP_REPOS/mozilla-releng-downloa...   31     0   \n1    MOZILLA  /Users/akond/PUPP_REPOS/mozilla-releng-downloa...    1     0   \n2    MOZILLA  /Users/akond/PUPP_REPOS/mozilla-releng-downloa...    2     0   \n3    MOZILLA  /Users/akond/PUPP_REPOS/mozilla-releng-downloa...    1     0   \n4    MOZILLA  /Users/akond/PUPP_REPOS/mozilla-releng-downloa...    6     0   \n..       ...                                                ...  ...   ...   \n575  MOZILLA  /Users/akond/PUPP_REPOS/mozilla-releng-downloa...    2     2   \n576  MOZILLA  /Users/akond/PUPP_REPOS/mozilla-releng-downloa...    2     1   \n577  MOZILLA  /Users/akond/PUPP_REPOS/mozilla-releng-downloa...    1     2   \n578  MOZILLA  /Users/akond/PUPP_REPOS/mozilla-releng-downloa...    0     0   \n579  MOZILLA  /Users/akond/PUPP_REPOS/mozilla-releng-downloa...    0     0   \n\n     Require  Ensure  Include  Attribute  Hard_coded_string  Command  \\\n0          0       0        0         66                180        0   \n1          0       0      129        229                364        0   \n2          0       0        0          0                 18        0   \n3          0       0       16          0                  4        0   \n4          0       0        0          6                 30        0   \n..       ...     ...      ...        ...                ...      ...   \n575        0       5       10         25                  9        1   \n576        3       1        5         10                  3        1   \n577        0       2        3          6                  4        0   \n578        0       3        3          8                  9        0   \n579        0       0        0          0                  0        0   \n\n     File_mode  SSH_KEY  Lines_of_code  Comment  defect_status  \n0            0        0            432        3              1  \n1            0        0           1157       34              1  \n2            0        0             65        3              0  \n3            0        0             83        8              1  \n4            0        0            110        3              1  \n..         ...      ...            ...      ...            ...  \n575          3        3             88        3              1  \n576          0        0             27        3              1  \n577          1        1             36        3              1  \n578          0        0             55       16              0  \n579          0        0              3        0              0  \n\n[580 rows x 15 columns]",
      "text/html": "<div>\n<style scoped>\n    .dataframe tbody tr th:only-of-type {\n        vertical-align: middle;\n    }\n\n    .dataframe tbody tr th {\n        vertical-align: top;\n    }\n\n    .dataframe thead th {\n        text-align: right;\n    }\n</style>\n<table border=\"1\" class=\"dataframe\">\n  <thead>\n    <tr style=\"text-align: right;\">\n      <th></th>\n      <th>org</th>\n      <th>file_</th>\n      <th>URL</th>\n      <th>File</th>\n      <th>Require</th>\n      <th>Ensure</th>\n      <th>Include</th>\n      <th>Attribute</th>\n      <th>Hard_coded_string</th>\n      <th>Command</th>\n      <th>File_mode</th>\n      <th>SSH_KEY</th>\n      <th>Lines_of_code</th>\n      <th>Comment</th>\n      <th>defect_status</th>\n    </tr>\n  </thead>\n  <tbody>\n    <tr>\n      <th>0</th>\n      <td>MOZILLA</td>\n      <td>/Users/akond/PUPP_REPOS/mozilla-releng-downloa...</td>\n      <td>31</td>\n      <td>0</td>\n      <td>0</td>\n      <td>0</td>\n      <td>0</td>\n      <td>66</td>\n      <td>180</td>\n      <td>0</td>\n      <td>0</td>\n      <td>0</td>\n      <td>432</td>\n      <td>3</td>\n      <td>1</td>\n    </tr>\n    <tr>\n      <th>1</th>\n      <td>MOZILLA</td>\n      <td>/Users/akond/PUPP_REPOS/mozilla-releng-downloa...</td>\n      <td>1</td>\n      <td>0</td>\n      <td>0</td>\n      <td>0</td>\n      <td>129</td>\n      <td>229</td>\n      <td>364</td>\n      <td>0</td>\n      <td>0</td>\n      <td>0</td>\n      <td>1157</td>\n      <td>34</td>\n      <td>1</td>\n    </tr>\n    <tr>\n      <th>2</th>\n      <td>MOZILLA</td>\n      <td>/Users/akond/PUPP_REPOS/mozilla-releng-downloa...</td>\n      <td>2</td>\n      <td>0</td>\n      <td>0</td>\n      <td>0</td>\n      <td>0</td>\n      <td>0</td>\n      <td>18</td>\n      <td>0</td>\n      <td>0</td>\n      <td>0</td>\n      <td>65</td>\n      <td>3</td>\n      <td>0</td>\n    </tr>\n    <tr>\n      <th>3</th>\n      <td>MOZILLA</td>\n      <td>/Users/akond/PUPP_REPOS/mozilla-releng-downloa...</td>\n      <td>1</td>\n      <td>0</td>\n      <td>0</td>\n      <td>0</td>\n      <td>16</td>\n      <td>0</td>\n      <td>4</td>\n      <td>0</td>\n      <td>0</td>\n      <td>0</td>\n      <td>83</td>\n      <td>8</td>\n      <td>1</td>\n    </tr>\n    <tr>\n      <th>4</th>\n      <td>MOZILLA</td>\n      <td>/Users/akond/PUPP_REPOS/mozilla-releng-downloa...</td>\n      <td>6</td>\n      <td>0</td>\n      <td>0</td>\n      <td>0</td>\n      <td>0</td>\n      <td>6</td>\n      <td>30</td>\n      <td>0</td>\n      <td>0</td>\n      <td>0</td>\n      <td>110</td>\n      <td>3</td>\n      <td>1</td>\n    </tr>\n    <tr>\n      <th>...</th>\n      <td>...</td>\n      <td>...</td>\n      <td>...</td>\n      <td>...</td>\n      <td>...</td>\n      <td>...</td>\n      <td>...</td>\n      <td>...</td>\n      <td>...</td>\n      <td>...</td>\n      <td>...</td>\n      <td>...</td>\n      <td>...</td>\n      <td>...</td>\n      <td>...</td>\n    </tr>\n    <tr>\n      <th>575</th>\n      <td>MOZILLA</td>\n      <td>/Users/akond/PUPP_REPOS/mozilla-releng-downloa...</td>\n      <td>2</td>\n      <td>2</td>\n      <td>0</td>\n      <td>5</td>\n      <td>10</td>\n      <td>25</td>\n      <td>9</td>\n      <td>1</td>\n      <td>3</td>\n      <td>3</td>\n      <td>88</td>\n      <td>3</td>\n      <td>1</td>\n    </tr>\n    <tr>\n      <th>576</th>\n      <td>MOZILLA</td>\n      <td>/Users/akond/PUPP_REPOS/mozilla-releng-downloa...</td>\n      <td>2</td>\n      <td>1</td>\n      <td>3</td>\n      <td>1</td>\n      <td>5</td>\n      <td>10</td>\n      <td>3</td>\n      <td>1</td>\n      <td>0</td>\n      <td>0</td>\n      <td>27</td>\n      <td>3</td>\n      <td>1</td>\n    </tr>\n    <tr>\n      <th>577</th>\n      <td>MOZILLA</td>\n      <td>/Users/akond/PUPP_REPOS/mozilla-releng-downloa...</td>\n      <td>1</td>\n      <td>2</td>\n      <td>0</td>\n      <td>2</td>\n      <td>3</td>\n      <td>6</td>\n      <td>4</td>\n      <td>0</td>\n      <td>1</td>\n      <td>1</td>\n      <td>36</td>\n      <td>3</td>\n      <td>1</td>\n    </tr>\n    <tr>\n      <th>578</th>\n      <td>MOZILLA</td>\n      <td>/Users/akond/PUPP_REPOS/mozilla-releng-downloa...</td>\n      <td>0</td>\n      <td>0</td>\n      <td>0</td>\n      <td>3</td>\n      <td>3</td>\n      <td>8</td>\n      <td>9</td>\n      <td>0</td>\n      <td>0</td>\n      <td>0</td>\n      <td>55</td>\n      <td>16</td>\n      <td>0</td>\n    </tr>\n    <tr>\n      <th>579</th>\n      <td>MOZILLA</td>\n      <td>/Users/akond/PUPP_REPOS/mozilla-releng-downloa...</td>\n      <td>0</td>\n      <td>0</td>\n      <td>0</td>\n      <td>0</td>\n      <td>0</td>\n      <td>0</td>\n      <td>0</td>\n      <td>0</td>\n      <td>0</td>\n      <td>0</td>\n      <td>3</td>\n      <td>0</td>\n      <td>0</td>\n    </tr>\n  </tbody>\n</table>\n<p>580 rows × 15 columns</p>\n</div>"
     },
     "execution_count": 36,
     "metadata": {},
     "output_type": "execute_result"
    }
   ],
   "source": [
    "\n",
    "X = mozilla.drop(\"defect_status\", axis=1).drop(\"org\", axis=1).drop(\"file_\", axis=1)\n",
    "mozilla"
   ],
   "metadata": {
    "collapsed": false,
    "ExecuteTime": {
     "end_time": "2023-10-26T15:41:10.075917Z",
     "start_time": "2023-10-26T15:41:10.070470Z"
    }
   },
   "id": "1090c752b1b7821e"
  },
  {
   "cell_type": "code",
   "execution_count": 47,
   "outputs": [
    {
     "data": {
      "text/plain": "array([[0.01020099, 0.00194333, 0.00315785, 0.00517546, 0.07642894,\n        0.21146341, 0.26259574, 0.00213292, 0.00325757, 0.00325757,\n        0.93768626, 0.03254893]])"
     },
     "execution_count": 47,
     "metadata": {},
     "output_type": "execute_result"
    }
   ],
   "source": [
    "\n",
    "pca = PCA(n_components=1)\n",
    "result = pca.fit(X)\n",
    "result.components_"
   ],
   "metadata": {
    "collapsed": false,
    "ExecuteTime": {
     "end_time": "2023-10-26T15:48:16.936433Z",
     "start_time": "2023-10-26T15:48:16.868782Z"
    }
   },
   "id": "f23856a6010c8006"
  },
  {
   "cell_type": "markdown",
   "source": [
    "### Variance for each components\n",
    "|  | 0 |\n",
    "| :--- | :--- |\n",
    "| 0 | 9.587254e-01 |\n",
    "| 1 | 1.987750e-02 |\n",
    "| 2 | 1.035012e-02 |\n",
    "| 3 | 5.422657e-03 |\n",
    "| 4 | 4.079591e-03 |\n",
    "| 5 | 5.190187e-04 |\n",
    "| 6 | 4.671760e-04 |\n",
    "| 7 | 2.523305e-04 |\n",
    "| 8 | 1.405435e-04 |\n",
    "| 9 | 1.099573e-04 |\n",
    "| 10 | 5.572472e-05 |\n",
    "| 11 | 9.856219e-36 |\n",
    "\n",
    "### Weight of each attribute\n",
    "|  | URL      | File     | Require  | Ensure   | Include  | Attribute | Hard coded string | Command  | File mode | SSH key  | Lines of code | Comment  |\n",
    "| :--- |:---------|:---------|:---------|:---------|:---------|:----------|:------------------|:---------|:----------|:---------|:--------------|:---------|\n",
    "| 0 | 0.010201 | 0.001943 | 0.003158 | 0.005175 | 0.076429 | 0.211463  | 0.262596          | 0.002133 | 0.003258  | 0.003258 | 0.937686      | 0.032549 |\n",
    "\n"
   ],
   "metadata": {
    "collapsed": false
   },
   "id": "23a3145fc78bba99"
  },
  {
   "cell_type": "code",
   "execution_count": 4,
   "outputs": [],
   "source": [
    "data_for_models = result.transform(X)[:, 0]\n",
    "d = data_for_models.reshape(-1, 1)"
   ],
   "metadata": {
    "collapsed": false,
    "ExecuteTime": {
     "end_time": "2023-10-25T20:20:16.740388Z",
     "start_time": "2023-10-25T20:20:16.731700Z"
    }
   },
   "id": "48ca231a85db229d"
  },
  {
   "cell_type": "markdown",
   "source": [
    "## Statistical Learners"
   ],
   "metadata": {
    "collapsed": false
   },
   "id": "60b9062af170ca2"
  },
  {
   "cell_type": "code",
   "execution_count": 5,
   "outputs": [],
   "source": [
    "X = mozilla.drop(\"org\", axis=1).drop(\"file_\", axis=1).drop(\"defect_status\", axis=1)\n",
    "Y = mozilla[\"defect_status\"]"
   ],
   "metadata": {
    "collapsed": false,
    "ExecuteTime": {
     "end_time": "2023-10-25T20:20:16.740481Z",
     "start_time": "2023-10-25T20:20:16.735840Z"
    }
   },
   "id": "db527dedb98bf05a"
  },
  {
   "cell_type": "code",
   "execution_count": 6,
   "outputs": [
    {
     "data": {
      "text/plain": "           value  defect_status\n0     412.882790              1\n1    1186.053801              1\n2      11.959009              0\n3      26.536428              1\n4      58.615624              1\n..           ...            ...\n575    37.264749              1\n576   -25.096501              1\n577   -17.401614              1\n578     2.558040              0\n579   -51.022311              0\n\n[580 rows x 2 columns]",
      "text/html": "<div>\n<style scoped>\n    .dataframe tbody tr th:only-of-type {\n        vertical-align: middle;\n    }\n\n    .dataframe tbody tr th {\n        vertical-align: top;\n    }\n\n    .dataframe thead th {\n        text-align: right;\n    }\n</style>\n<table border=\"1\" class=\"dataframe\">\n  <thead>\n    <tr style=\"text-align: right;\">\n      <th></th>\n      <th>value</th>\n      <th>defect_status</th>\n    </tr>\n  </thead>\n  <tbody>\n    <tr>\n      <th>0</th>\n      <td>412.882790</td>\n      <td>1</td>\n    </tr>\n    <tr>\n      <th>1</th>\n      <td>1186.053801</td>\n      <td>1</td>\n    </tr>\n    <tr>\n      <th>2</th>\n      <td>11.959009</td>\n      <td>0</td>\n    </tr>\n    <tr>\n      <th>3</th>\n      <td>26.536428</td>\n      <td>1</td>\n    </tr>\n    <tr>\n      <th>4</th>\n      <td>58.615624</td>\n      <td>1</td>\n    </tr>\n    <tr>\n      <th>...</th>\n      <td>...</td>\n      <td>...</td>\n    </tr>\n    <tr>\n      <th>575</th>\n      <td>37.264749</td>\n      <td>1</td>\n    </tr>\n    <tr>\n      <th>576</th>\n      <td>-25.096501</td>\n      <td>1</td>\n    </tr>\n    <tr>\n      <th>577</th>\n      <td>-17.401614</td>\n      <td>1</td>\n    </tr>\n    <tr>\n      <th>578</th>\n      <td>2.558040</td>\n      <td>0</td>\n    </tr>\n    <tr>\n      <th>579</th>\n      <td>-51.022311</td>\n      <td>0</td>\n    </tr>\n  </tbody>\n</table>\n<p>580 rows × 2 columns</p>\n</div>"
     },
     "execution_count": 6,
     "metadata": {},
     "output_type": "execute_result"
    }
   ],
   "source": [
    "\n",
    "df = pd.DataFrame(d, columns=[\"value\"]).merge(Y, left_index=True, right_index=True)\n",
    "df"
   ],
   "metadata": {
    "collapsed": false,
    "ExecuteTime": {
     "end_time": "2023-10-25T20:20:17.131247Z",
     "start_time": "2023-10-25T20:20:16.741171Z"
    }
   },
   "id": "980ebc98d30e53b2"
  },
  {
   "cell_type": "code",
   "execution_count": 7,
   "outputs": [],
   "source": [
    "from sklearn.model_selection import train_test_split\n",
    "\n",
    "train, test = train_test_split(df, test_size=0.2)\n"
   ],
   "metadata": {
    "collapsed": false,
    "ExecuteTime": {
     "end_time": "2023-10-25T20:20:17.131340Z",
     "start_time": "2023-10-25T20:20:16.743873Z"
    }
   },
   "id": "3462d3b2c0a3165c"
  },
  {
   "cell_type": "markdown",
   "source": [
    "### Classification and Regression Tree (CART)"
   ],
   "metadata": {
    "collapsed": false
   },
   "id": "ca0aece05dcf719"
  },
  {
   "cell_type": "code",
   "execution_count": 59,
   "outputs": [
    {
     "name": "stdout",
     "output_type": "stream",
     "text": [
      "====== Evaluation summary ======\n",
      "Precision: 0.681\n",
      "Recall: 0.604\n",
      "F1-measure: 0.640\n",
      "AUC: 0.683\n",
      "====== Evaluation summary ======\n",
      "Precision: 0.952\n",
      "Recall: 0.777\n",
      "F1-measure: 0.856\n",
      "AUC: 0.873\n"
     ]
    },
    {
     "data": {
      "text/plain": "(0.9523809523809523, 0.7766990291262136, 0.8556149732620322)"
     },
     "execution_count": 59,
     "metadata": {},
     "output_type": "execute_result"
    }
   ],
   "source": [
    "from src.modelsutils import dropcol\n",
    "from sklearn import tree\n",
    "import src.modelsutils as utils\n",
    "\n",
    "clf = tree.DecisionTreeClassifier(min_samples_leaf=2)\n",
    "clf = clf.fit(dropcol(train, \"defect_status\"), dropcol(train, 'value'))\n",
    "\n",
    "utils.evaluate(utils.dropcol(test, 'defect_status'),\n",
    "               utils.dropcol(test, 'value'),\n",
    "               clf.predict)\n",
    "utils.evaluate(utils.dropcol(train, 'defect_status'),\n",
    "               utils.dropcol(train, 'value'),\n",
    "               clf.predict)\n"
   ],
   "metadata": {
    "collapsed": false,
    "ExecuteTime": {
     "end_time": "2023-10-26T16:53:57.815345Z",
     "start_time": "2023-10-26T16:53:57.787209Z"
    }
   },
   "id": "fe7d1ee8cd736e73"
  },
  {
   "cell_type": "markdown",
   "source": [
    "### K Nearest Neighbor (KNN)"
   ],
   "metadata": {
    "collapsed": false
   },
   "id": "ddd10e5a88508930"
  },
  {
   "cell_type": "code",
   "execution_count": 9,
   "outputs": [
    {
     "name": "stdout",
     "output_type": "stream",
     "text": [
      "====== Evaluation summary ======\n",
      "Precision: 0.547\n",
      "Recall: 0.660\n",
      "F1-measure: 0.598\n",
      "AUC: 0.600\n"
     ]
    },
    {
     "name": "stderr",
     "output_type": "stream",
     "text": [
      "/Users/nicolegros/Documents/school/release-eng/replication-project/venv/lib/python3.9/site-packages/sklearn/neighbors/_classification.py:233: DataConversionWarning: A column-vector y was passed when a 1d array was expected. Please change the shape of y to (n_samples,), for example using ravel().\n",
      "  return self._fit(X, y)\n"
     ]
    },
    {
     "data": {
      "text/plain": "(0.546875, 0.660377358490566, 0.5982905982905983)"
     },
     "execution_count": 9,
     "metadata": {},
     "output_type": "execute_result"
    }
   ],
   "source": [
    "from numpy import ravel\n",
    "from sklearn.neighbors import KNeighborsClassifier\n",
    "import modelsutils as utils\n",
    "\n",
    "neigh = KNeighborsClassifier()\n",
    "neigh.fit(utils.X(train), utils.Y(train))\n",
    "utils.evaluate(utils.X(test), utils.Y(test), neigh.predict)"
   ],
   "metadata": {
    "collapsed": false,
    "ExecuteTime": {
     "end_time": "2023-10-25T20:20:17.142314Z",
     "start_time": "2023-10-25T20:20:17.114589Z"
    }
   },
   "id": "338a5b014b886944"
  },
  {
   "cell_type": "markdown",
   "source": [
    "### Logistic Regression (LR)\n"
   ],
   "metadata": {
    "collapsed": false
   },
   "id": "a32be88e69d8341f"
  },
  {
   "cell_type": "code",
   "execution_count": 10,
   "outputs": [
    {
     "name": "stdout",
     "output_type": "stream",
     "text": [
      "====== Evaluation summary ======\n",
      "Precision: 0.718\n",
      "Recall: 0.528\n",
      "F1-measure: 0.609\n",
      "AUC: 0.677\n"
     ]
    },
    {
     "name": "stderr",
     "output_type": "stream",
     "text": [
      "/Users/nicolegros/Documents/school/release-eng/replication-project/venv/lib/python3.9/site-packages/sklearn/utils/validation.py:1183: DataConversionWarning: A column-vector y was passed when a 1d array was expected. Please change the shape of y to (n_samples, ), for example using ravel().\n",
      "  y = column_or_1d(y, warn=True)\n"
     ]
    },
    {
     "data": {
      "text/plain": "array([[0.28454564, 0.71545436],\n       [0.65870862, 0.34129138],\n       [0.67907365, 0.32092635],\n       [0.723135  , 0.276865  ],\n       [0.46443098, 0.53556902],\n       [0.65195551, 0.34804449],\n       [0.68701849, 0.31298151],\n       [0.5667801 , 0.4332199 ],\n       [0.3004583 , 0.6995417 ],\n       [0.61597489, 0.38402511],\n       [0.09749395, 0.90250605],\n       [0.36372235, 0.63627765],\n       [0.39368811, 0.60631189],\n       [0.74639177, 0.25360823],\n       [0.74639177, 0.25360823],\n       [0.26070399, 0.73929601],\n       [0.77399949, 0.22600051],\n       [0.66604934, 0.33395066],\n       [0.31883007, 0.68116993],\n       [0.75788526, 0.24211474],\n       [0.57447733, 0.42552267],\n       [0.38111057, 0.61888943],\n       [0.5667801 , 0.4332199 ],\n       [0.08112534, 0.91887466],\n       [0.63956173, 0.36043827],\n       [0.81621645, 0.18378355],\n       [0.62225771, 0.37774229],\n       [0.79173147, 0.20826853],\n       [0.14406924, 0.85593076],\n       [0.50973245, 0.49026755],\n       [0.34710423, 0.65289577],\n       [0.33228724, 0.66771276],\n       [0.75691779, 0.24308221],\n       [0.162029  , 0.837971  ],\n       [0.48359553, 0.51640447],\n       [0.65184116, 0.34815884],\n       [0.48987487, 0.51012513],\n       [0.46443098, 0.53556902],\n       [0.7141597 , 0.2858403 ],\n       [0.0025442 , 0.9974558 ],\n       [0.24410067, 0.75589933],\n       [0.49244039, 0.50755961],\n       [0.07885661, 0.92114339],\n       [0.75788526, 0.24211474],\n       [0.78488612, 0.21511388],\n       [0.31883007, 0.68116993],\n       [0.62558144, 0.37441856],\n       [0.74486285, 0.25513715],\n       [0.76510963, 0.23489037],\n       [0.14629804, 0.85370196],\n       [0.76193483, 0.23806517],\n       [0.62164311, 0.37835689],\n       [0.01138984, 0.98861016],\n       [0.74475398, 0.25524602],\n       [0.67481269, 0.32518731],\n       [0.74639177, 0.25360823],\n       [0.19366407, 0.80633593],\n       [0.78442544, 0.21557456],\n       [0.21852904, 0.78147096],\n       [0.57577871, 0.42422129],\n       [0.57029304, 0.42970696],\n       [0.59328298, 0.40671702],\n       [0.67557508, 0.32442492],\n       [0.56077867, 0.43922133],\n       [0.79266531, 0.20733469],\n       [0.60562523, 0.39437477],\n       [0.0304737 , 0.9695263 ],\n       [0.50546599, 0.49453401],\n       [0.75218319, 0.24781681],\n       [0.50973245, 0.49026755],\n       [0.7183301 , 0.2816699 ],\n       [0.68369723, 0.31630277],\n       [0.76221049, 0.23778951],\n       [0.46518799, 0.53481201],\n       [0.63956173, 0.36043827],\n       [0.50866672, 0.49133328],\n       [0.42136226, 0.57863774],\n       [0.19035865, 0.80964135],\n       [0.48019672, 0.51980328],\n       [0.21719687, 0.78280313],\n       [0.77938709, 0.22061291],\n       [0.61786833, 0.38213167],\n       [0.73716749, 0.26283251],\n       [0.74819307, 0.25180693],\n       [0.61044166, 0.38955834],\n       [0.81100364, 0.18899636],\n       [0.79013393, 0.20986607],\n       [0.22924759, 0.77075241],\n       [0.62558144, 0.37441856],\n       [0.66586727, 0.33413273],\n       [0.723135  , 0.276865  ],\n       [0.57548813, 0.42451187],\n       [0.65297692, 0.34702308],\n       [0.71516883, 0.28483117],\n       [0.72437206, 0.27562794],\n       [0.51527311, 0.48472689],\n       [0.1532423 , 0.8467577 ],\n       [0.56350084, 0.43649916],\n       [0.12040497, 0.87959503],\n       [0.7616712 , 0.2383288 ],\n       [0.50033488, 0.49966512],\n       [0.67021441, 0.32978559],\n       [0.15885898, 0.84114102],\n       [0.14406924, 0.85593076],\n       [0.75912716, 0.24087284],\n       [0.72753315, 0.27246685],\n       [0.16563232, 0.83436768],\n       [0.70064206, 0.29935794],\n       [0.6975382 , 0.3024618 ],\n       [0.60852829, 0.39147171],\n       [0.69035164, 0.30964836],\n       [0.68575513, 0.31424487],\n       [0.4417666 , 0.5582334 ],\n       [0.6270843 , 0.3729157 ],\n       [0.75658734, 0.24341266],\n       [0.60751927, 0.39248073]])"
     },
     "execution_count": 10,
     "metadata": {},
     "output_type": "execute_result"
    }
   ],
   "source": [
    "from sklearn.linear_model import LogisticRegression\n",
    "import modelsutils as utils\n",
    "\n",
    "lr = LogisticRegression()\n",
    "lr.fit(utils.X(train), utils.Y(train))\n",
    "utils.evaluate(utils.X(test), utils.Y(test), lr.predict)\n",
    "lr.predict_proba(utils.X(test))"
   ],
   "metadata": {
    "collapsed": false,
    "ExecuteTime": {
     "end_time": "2023-10-25T20:20:17.144114Z",
     "start_time": "2023-10-25T20:20:17.114737Z"
    }
   },
   "id": "f6773ae49ac3616"
  },
  {
   "cell_type": "markdown",
   "source": [
    "### Naive Bayes (NB)\n"
   ],
   "metadata": {
    "collapsed": false
   },
   "id": "4cefd4df25b6993f"
  },
  {
   "cell_type": "code",
   "execution_count": 11,
   "outputs": [
    {
     "name": "stdout",
     "output_type": "stream",
     "text": [
      "====== Evaluation summary ======\n",
      "Precision: 0.800\n",
      "Recall: 0.377\n",
      "F1-measure: 0.513\n",
      "AUC: 0.649\n"
     ]
    },
    {
     "name": "stderr",
     "output_type": "stream",
     "text": [
      "/Users/nicolegros/Documents/school/release-eng/replication-project/venv/lib/python3.9/site-packages/sklearn/utils/validation.py:1183: DataConversionWarning: A column-vector y was passed when a 1d array was expected. Please change the shape of y to (n_samples, ), for example using ravel().\n",
      "  y = column_or_1d(y, warn=True)\n"
     ]
    },
    {
     "data": {
      "text/plain": "(0.8, 0.37735849056603776, 0.5128205128205128)"
     },
     "execution_count": 11,
     "metadata": {},
     "output_type": "execute_result"
    }
   ],
   "source": [
    "from sklearn.naive_bayes import GaussianNB\n",
    "\n",
    "gnb = GaussianNB()\n",
    "gnb.fit(utils.X(train), utils.Y(train))\n",
    "utils.evaluate(utils.X(test), utils.Y(test), gnb.predict)"
   ],
   "metadata": {
    "collapsed": false,
    "ExecuteTime": {
     "end_time": "2023-10-25T20:20:17.144285Z",
     "start_time": "2023-10-25T20:20:17.121885Z"
    }
   },
   "id": "6d1ee043cd553879"
  },
  {
   "cell_type": "markdown",
   "source": [
    "### Random Forest (RF)\n"
   ],
   "metadata": {
    "collapsed": false
   },
   "id": "fcf1f7dddfa20303"
  },
  {
   "cell_type": "code",
   "execution_count": 12,
   "outputs": [
    {
     "name": "stderr",
     "output_type": "stream",
     "text": [
      "/Users/nicolegros/Documents/school/release-eng/replication-project/venv/lib/python3.9/site-packages/sklearn/base.py:1152: DataConversionWarning: A column-vector y was passed when a 1d array was expected. Please change the shape of y to (n_samples,), for example using ravel().\n",
      "  return fit_method(estimator, *args, **kwargs)\n"
     ]
    },
    {
     "name": "stdout",
     "output_type": "stream",
     "text": [
      "====== Evaluation summary ======\n",
      "Precision: 0.655\n",
      "Recall: 0.679\n",
      "F1-measure: 0.667\n",
      "AUC: 0.689\n"
     ]
    }
   ],
   "source": [
    "from sklearn.ensemble import RandomForestClassifier\n",
    "\n",
    "clf = RandomForestClassifier()\n",
    "clf.fit(utils.X(train), utils.Y(train))\n",
    "utils.evaluate(utils.X(test), utils.Y(test), clf.predict)\n",
    "ypred = clf.predict(utils.X(test))\n",
    "\n"
   ],
   "metadata": {
    "collapsed": false,
    "ExecuteTime": {
     "end_time": "2023-10-25T20:20:17.144402Z",
     "start_time": "2023-10-25T20:20:17.121971Z"
    }
   },
   "id": "79483523d65436a1"
  },
  {
   "cell_type": "markdown",
   "source": [
    "## Cross validation"
   ],
   "metadata": {
    "collapsed": false
   },
   "id": "64331330fb9ee6af"
  },
  {
   "cell_type": "code",
   "execution_count": 32,
   "outputs": [],
   "source": [
    "def createdict(classifier, name):\n",
    "    return {\n",
    "        \"classifier\": classifier,\n",
    "        \"name\": name\n",
    "    }"
   ],
   "metadata": {
    "collapsed": false,
    "ExecuteTime": {
     "end_time": "2023-10-25T20:51:55.740333Z",
     "start_time": "2023-10-25T20:51:55.734473Z"
    }
   },
   "id": "b2980d820d760bb0"
  },
  {
   "cell_type": "code",
   "execution_count": 0,
   "outputs": [],
   "source": [
    "from sklearn.tree import DecisionTreeClassifier\n",
    "from sklearn.model_selection import ShuffleSplit, cross_val_score\n",
    "from sklearn.ensemble import RandomForestClassifier\n",
    "from sklearn.naive_bayes import GaussianNB\n",
    "from sklearn.neighbors import KNeighborsClassifier\n",
    "from sklearn.linear_model import LogisticRegression\n",
    "\n",
    "cv = ShuffleSplit(n_splits=10, test_size=0.3, random_state=0)\n",
    "\n",
    "results = {}\n",
    "for classifier in [createdict(RandomForestClassifier(), \"RF\"), \n",
    "                   createdict(GaussianNB(), \"NB\"),\n",
    "                   createdict(LogisticRegression(), \"LR\"), \n",
    "                   createdict(KNeighborsClassifier(), \"KNN\"),\n",
    "                   createdict(DecisionTreeClassifier(), \"CART\")]:\n",
    "    auc = cross_val_score(classifier[\"classifier\"], utils.X(df), utils.Y(df), cv=cv, scoring='roc_auc').mean()\n",
    "    recall = cross_val_score(classifier[\"classifier\"], utils.X(df), utils.Y(df), cv=cv, scoring='recall').mean()\n",
    "    precision = cross_val_score(classifier[\"classifier\"], utils.X(df), utils.Y(df), cv=cv, scoring='precision').mean()\n",
    "    f1 = cross_val_score(classifier[\"classifier\"], utils.X(df), utils.Y(df), cv=cv, scoring='f1').mean()\n",
    "    results[classifier[\"name\"]] = {\n",
    "        \"auc\": auc,\n",
    "        \"recall\": recall,\n",
    "        \"precision\": precision,\n",
    "        \"f1\": f1\n",
    "    }\n",
    "    "
   ],
   "metadata": {
    "collapsed": false
   },
   "id": "def2f1fe63edeb81"
  },
  {
   "cell_type": "code",
   "execution_count": 34,
   "outputs": [
    {
     "data": {
      "text/plain": "                 RF        NB        LR       KNN      CART\nauc        0.731664  0.699599  0.756323  0.713161  0.691230\nrecall     0.649017  0.392519  0.565923  0.619417  0.627106\nprecision  0.642651  0.831862  0.706600  0.604170  0.642550\nf1         0.645764  0.532261  0.626990  0.608864  0.633393",
      "text/html": "<div>\n<style scoped>\n    .dataframe tbody tr th:only-of-type {\n        vertical-align: middle;\n    }\n\n    .dataframe tbody tr th {\n        vertical-align: top;\n    }\n\n    .dataframe thead th {\n        text-align: right;\n    }\n</style>\n<table border=\"1\" class=\"dataframe\">\n  <thead>\n    <tr style=\"text-align: right;\">\n      <th></th>\n      <th>RF</th>\n      <th>NB</th>\n      <th>LR</th>\n      <th>KNN</th>\n      <th>CART</th>\n    </tr>\n  </thead>\n  <tbody>\n    <tr>\n      <th>auc</th>\n      <td>0.731664</td>\n      <td>0.699599</td>\n      <td>0.756323</td>\n      <td>0.713161</td>\n      <td>0.691230</td>\n    </tr>\n    <tr>\n      <th>recall</th>\n      <td>0.649017</td>\n      <td>0.392519</td>\n      <td>0.565923</td>\n      <td>0.619417</td>\n      <td>0.627106</td>\n    </tr>\n    <tr>\n      <th>precision</th>\n      <td>0.642651</td>\n      <td>0.831862</td>\n      <td>0.706600</td>\n      <td>0.604170</td>\n      <td>0.642550</td>\n    </tr>\n    <tr>\n      <th>f1</th>\n      <td>0.645764</td>\n      <td>0.532261</td>\n      <td>0.626990</td>\n      <td>0.608864</td>\n      <td>0.633393</td>\n    </tr>\n  </tbody>\n</table>\n</div>"
     },
     "execution_count": 34,
     "metadata": {},
     "output_type": "execute_result"
    }
   ],
   "source": [
    "pd.DataFrame.from_dict(results)"
   ],
   "metadata": {
    "collapsed": false,
    "ExecuteTime": {
     "end_time": "2023-10-25T20:52:41.875934Z",
     "start_time": "2023-10-25T20:52:41.830094Z"
    }
   },
   "id": "c99d4404302bfe79"
  },
  {
   "cell_type": "markdown",
   "source": [
    "### Cross validation results\n",
    "|  | RF | NB | LR | KNN | CART |\n",
    "| :--- | :--- | :--- | :--- | :--- | :--- |\n",
    "| auc | 0.731664 | 0.699599 | 0.756323 | 0.713161 | 0.691230 |\n",
    "| recall | 0.649017 | 0.392519 | 0.565923 | 0.619417 | 0.627106 |\n",
    "| precision | 0.642651 | 0.831862 | 0.706600 | 0.604170 | 0.642550 |\n",
    "| f1 | 0.645764 | 0.532261 | 0.626990 | 0.608864 | 0.633393 |\n"
   ],
   "metadata": {
    "collapsed": false
   },
   "id": "2d18d821d50fae4"
  },
  {
   "cell_type": "markdown",
   "source": [
    "## Mirantis"
   ],
   "metadata": {
    "collapsed": false
   },
   "id": "a718bcafdb6a9812"
  },
  {
   "cell_type": "code",
   "execution_count": 60,
   "outputs": [
    {
     "data": {
      "text/plain": "array([[ 3.93693652e-03,  1.48759900e-02,  9.42483638e-01,\n         2.28617506e-02,  2.92145507e-02,  5.32942110e-02,\n         2.46056929e-01,  1.92548176e-01,  9.67309174e-02,\n         1.85758292e-03,  1.20627100e-02,  1.21133323e-02],\n       [ 1.01598678e-02,  2.16063760e-02, -2.52363571e-01,\n         2.43563291e-02,  1.14630606e-01,  1.39326567e-01,\n         8.21573881e-01,  3.05298252e-01, -3.65219278e-01,\n         7.26369874e-03,  2.17416859e-02,  2.22715879e-02],\n       [-1.77539922e-02, -3.56167739e-02,  1.14396767e-01,\n        -1.95041136e-02, -2.60289429e-02, -5.82563256e-02,\n        -4.50394826e-01,  4.30261179e-01, -7.69433337e-01,\n        -7.47813768e-03, -1.96803520e-02, -2.06597486e-02],\n       [ 2.02450325e-02,  1.10698127e-02, -1.85181202e-01,\n        -2.41680001e-02, -1.35953941e-02, -4.36300633e-02,\n        -1.26946971e-01,  8.26856917e-01,  5.12457527e-01,\n         9.05731031e-03, -4.31760841e-04,  4.20891669e-04],\n       [ 1.56415159e-02, -2.54002740e-01,  2.07310029e-02,\n        -3.39260972e-01, -3.42420899e-01, -7.73261232e-01,\n         2.04395049e-01, -4.89438597e-03, -1.98053189e-02,\n        -1.29118242e-02, -1.77183218e-01, -1.75416688e-01],\n       [-7.68207569e-02, -4.71046275e-01,  7.01797056e-03,\n        -3.62786032e-01,  5.63354072e-01,  2.17854248e-01,\n        -4.76334763e-02, -1.14774387e-02,  3.92720589e-02,\n        -2.42604188e-02, -3.67264262e-01, -3.69199346e-01],\n       [-9.58953876e-03, -3.60578180e-01, -1.08654707e-02,\n         5.88493864e-01, -4.42829754e-01,  2.15181964e-01,\n         2.75783295e-02,  1.97134960e-02,  9.80331977e-03,\n         2.13947432e-01, -3.41748729e-01, -3.42397244e-01],\n       [ 9.86147953e-01, -1.15074391e-01,  3.95094389e-03,\n        -9.45689240e-03,  2.07518926e-02,  4.56752047e-02,\n        -2.02514524e-02, -1.19537911e-02, -1.51565122e-02,\n        -9.46850631e-02, -2.10673680e-02,  3.81623019e-02],\n       [-3.97152878e-02, -2.50369189e-03, -4.63342892e-04,\n        -5.62857214e-01, -5.93071347e-01,  5.20647966e-01,\n         1.00456141e-02,  8.01780214e-03, -2.66413601e-03,\n        -2.41590541e-01, -3.34979497e-03, -1.58283074e-02],\n       [ 9.56124232e-02,  7.51232311e-01,  3.06083677e-03,\n        -4.11049635e-02,  2.45541951e-02, -2.67378889e-02,\n         2.48949637e-03, -4.66980971e-03, -1.41523168e-02,\n        -8.43454055e-03, -4.48251611e-01, -4.71447271e-01],\n       [ 9.00319264e-02,  6.01941378e-02,  6.01902916e-03,\n        -2.93704615e-01, -4.04368525e-02,  8.28514061e-02,\n        -1.33125630e-02, -1.13056681e-02, -1.22392713e-02,\n         9.41200637e-01,  6.14852667e-02,  5.81280905e-02],\n       [-4.00698655e-02,  1.67469943e-02,  1.25484510e-04,\n        -5.75951781e-03, -4.85888913e-03,  3.73764830e-03,\n         8.62529875e-05,  1.45722483e-04, -2.75671718e-04,\n         4.00166204e-03, -7.14674866e-01,  6.98045053e-01]])"
     },
     "execution_count": 60,
     "metadata": {},
     "output_type": "execute_result"
    }
   ],
   "source": [
    "mirantis = pd.read_csv(\"../data/IST_MIR.csv\")\n",
    "\n",
    "X = mirantis.drop(\"defect_status\", axis=1).drop(\"org\", axis=1).drop(\"file_\", axis=1)\n",
    "pca = PCA()\n",
    "result = pca.fit(X)\n",
    "result.explained_variance_ratio_"
   ],
   "metadata": {
    "collapsed": false,
    "ExecuteTime": {
     "end_time": "2023-10-26T17:14:00.793449Z",
     "start_time": "2023-10-26T17:14:00.398257Z"
    }
   },
   "id": "d838654da45ec896"
  },
  {
   "cell_type": "code",
   "execution_count": 63,
   "outputs": [
    {
     "data": {
      "text/plain": "array([9.59181729e-01, 1.87596675e-02, 1.29117278e-02, 7.11755824e-03,\n       1.44652007e-03, 3.26996084e-04, 1.19911611e-04, 4.57041218e-05,\n       3.69426043e-05, 2.67868685e-05, 2.59143197e-05, 5.41967257e-07])"
     },
     "execution_count": 63,
     "metadata": {},
     "output_type": "execute_result"
    }
   ],
   "source": [
    "result.components_"
   ],
   "metadata": {
    "collapsed": false,
    "ExecuteTime": {
     "end_time": "2023-10-26T17:14:24.505194Z",
     "start_time": "2023-10-26T17:14:24.471108Z"
    }
   },
   "id": "db043c323231cfa9"
  },
  {
   "cell_type": "markdown",
   "source": [
    "### Explained PCA (Mirantis)\n",
    "#### Components\n",
    "|  | 0 |\n",
    "| :--- | :--- |\n",
    "| 0 | 9.591817e-01 |\n",
    "| 1 | 1.875967e-02 |\n",
    "| 2 | 1.291173e-02 |\n",
    "| 3 | 7.117558e-03 |\n",
    "| 4 | 1.446520e-03 |\n",
    "| 5 | 3.269961e-04 |\n",
    "| 6 | 1.199116e-04 |\n",
    "| 7 | 4.570412e-05 |\n",
    "| 8 | 3.694260e-05 |\n",
    "| 9 | 2.678687e-05 |\n",
    "| 10 | 2.591432e-05 |\n",
    "| 11 | 5.419673e-07 |\n",
    "\n",
    "#### Attributes weights\n",
    "|         | URL      | File     | Require  | Ensure   | Include  | Attribute | Hard coded string | Command  | File mode | SSH key  | Lines of code | Comment  |\n",
    "|:--------| :--- | :--- | :--- | :--- | :--- | :--- | :--- | :--- | :--- | :--- | :--- | :--- |\n",
    "| Weight | 0.003937 | 0.014876 | 0.942484 | 0.022862 | 0.029215 | 0.053294 | 0.246057 | 0.192548 | 0.096731 | 0.001858 | 0.012063 | 0.012113 |\n"
   ],
   "metadata": {
    "collapsed": false
   },
   "id": "ea9be84e9d9678dd"
  },
  {
   "cell_type": "code",
   "execution_count": 62,
   "outputs": [
    {
     "name": "stderr",
     "output_type": "stream",
     "text": [
      "/Users/nicolegros/Documents/school/release-eng/replication-project/venv/lib/python3.9/site-packages/sklearn/base.py:1152: DataConversionWarning: A column-vector y was passed when a 1d array was expected. Please change the shape of y to (n_samples,), for example using ravel().\n",
      "  return fit_method(estimator, *args, **kwargs)\n",
      "/Users/nicolegros/Documents/school/release-eng/replication-project/venv/lib/python3.9/site-packages/sklearn/base.py:1152: DataConversionWarning: A column-vector y was passed when a 1d array was expected. Please change the shape of y to (n_samples,), for example using ravel().\n",
      "  return fit_method(estimator, *args, **kwargs)\n",
      "/Users/nicolegros/Documents/school/release-eng/replication-project/venv/lib/python3.9/site-packages/sklearn/base.py:1152: DataConversionWarning: A column-vector y was passed when a 1d array was expected. Please change the shape of y to (n_samples,), for example using ravel().\n",
      "  return fit_method(estimator, *args, **kwargs)\n",
      "/Users/nicolegros/Documents/school/release-eng/replication-project/venv/lib/python3.9/site-packages/sklearn/base.py:1152: DataConversionWarning: A column-vector y was passed when a 1d array was expected. Please change the shape of y to (n_samples,), for example using ravel().\n",
      "  return fit_method(estimator, *args, **kwargs)\n",
      "/Users/nicolegros/Documents/school/release-eng/replication-project/venv/lib/python3.9/site-packages/sklearn/base.py:1152: DataConversionWarning: A column-vector y was passed when a 1d array was expected. Please change the shape of y to (n_samples,), for example using ravel().\n",
      "  return fit_method(estimator, *args, **kwargs)\n",
      "/Users/nicolegros/Documents/school/release-eng/replication-project/venv/lib/python3.9/site-packages/sklearn/base.py:1152: DataConversionWarning: A column-vector y was passed when a 1d array was expected. Please change the shape of y to (n_samples,), for example using ravel().\n",
      "  return fit_method(estimator, *args, **kwargs)\n",
      "/Users/nicolegros/Documents/school/release-eng/replication-project/venv/lib/python3.9/site-packages/sklearn/base.py:1152: DataConversionWarning: A column-vector y was passed when a 1d array was expected. Please change the shape of y to (n_samples,), for example using ravel().\n",
      "  return fit_method(estimator, *args, **kwargs)\n",
      "/Users/nicolegros/Documents/school/release-eng/replication-project/venv/lib/python3.9/site-packages/sklearn/base.py:1152: DataConversionWarning: A column-vector y was passed when a 1d array was expected. Please change the shape of y to (n_samples,), for example using ravel().\n",
      "  return fit_method(estimator, *args, **kwargs)\n",
      "/Users/nicolegros/Documents/school/release-eng/replication-project/venv/lib/python3.9/site-packages/sklearn/base.py:1152: DataConversionWarning: A column-vector y was passed when a 1d array was expected. Please change the shape of y to (n_samples,), for example using ravel().\n",
      "  return fit_method(estimator, *args, **kwargs)\n",
      "/Users/nicolegros/Documents/school/release-eng/replication-project/venv/lib/python3.9/site-packages/sklearn/base.py:1152: DataConversionWarning: A column-vector y was passed when a 1d array was expected. Please change the shape of y to (n_samples,), for example using ravel().\n",
      "  return fit_method(estimator, *args, **kwargs)\n",
      "/Users/nicolegros/Documents/school/release-eng/replication-project/venv/lib/python3.9/site-packages/sklearn/base.py:1152: DataConversionWarning: A column-vector y was passed when a 1d array was expected. Please change the shape of y to (n_samples,), for example using ravel().\n",
      "  return fit_method(estimator, *args, **kwargs)\n",
      "/Users/nicolegros/Documents/school/release-eng/replication-project/venv/lib/python3.9/site-packages/sklearn/base.py:1152: DataConversionWarning: A column-vector y was passed when a 1d array was expected. Please change the shape of y to (n_samples,), for example using ravel().\n",
      "  return fit_method(estimator, *args, **kwargs)\n",
      "/Users/nicolegros/Documents/school/release-eng/replication-project/venv/lib/python3.9/site-packages/sklearn/base.py:1152: DataConversionWarning: A column-vector y was passed when a 1d array was expected. Please change the shape of y to (n_samples,), for example using ravel().\n",
      "  return fit_method(estimator, *args, **kwargs)\n",
      "/Users/nicolegros/Documents/school/release-eng/replication-project/venv/lib/python3.9/site-packages/sklearn/base.py:1152: DataConversionWarning: A column-vector y was passed when a 1d array was expected. Please change the shape of y to (n_samples,), for example using ravel().\n",
      "  return fit_method(estimator, *args, **kwargs)\n",
      "/Users/nicolegros/Documents/school/release-eng/replication-project/venv/lib/python3.9/site-packages/sklearn/base.py:1152: DataConversionWarning: A column-vector y was passed when a 1d array was expected. Please change the shape of y to (n_samples,), for example using ravel().\n",
      "  return fit_method(estimator, *args, **kwargs)\n",
      "/Users/nicolegros/Documents/school/release-eng/replication-project/venv/lib/python3.9/site-packages/sklearn/base.py:1152: DataConversionWarning: A column-vector y was passed when a 1d array was expected. Please change the shape of y to (n_samples,), for example using ravel().\n",
      "  return fit_method(estimator, *args, **kwargs)\n",
      "/Users/nicolegros/Documents/school/release-eng/replication-project/venv/lib/python3.9/site-packages/sklearn/base.py:1152: DataConversionWarning: A column-vector y was passed when a 1d array was expected. Please change the shape of y to (n_samples,), for example using ravel().\n",
      "  return fit_method(estimator, *args, **kwargs)\n",
      "/Users/nicolegros/Documents/school/release-eng/replication-project/venv/lib/python3.9/site-packages/sklearn/base.py:1152: DataConversionWarning: A column-vector y was passed when a 1d array was expected. Please change the shape of y to (n_samples,), for example using ravel().\n",
      "  return fit_method(estimator, *args, **kwargs)\n",
      "/Users/nicolegros/Documents/school/release-eng/replication-project/venv/lib/python3.9/site-packages/sklearn/base.py:1152: DataConversionWarning: A column-vector y was passed when a 1d array was expected. Please change the shape of y to (n_samples,), for example using ravel().\n",
      "  return fit_method(estimator, *args, **kwargs)\n",
      "/Users/nicolegros/Documents/school/release-eng/replication-project/venv/lib/python3.9/site-packages/sklearn/base.py:1152: DataConversionWarning: A column-vector y was passed when a 1d array was expected. Please change the shape of y to (n_samples,), for example using ravel().\n",
      "  return fit_method(estimator, *args, **kwargs)\n",
      "/Users/nicolegros/Documents/school/release-eng/replication-project/venv/lib/python3.9/site-packages/sklearn/base.py:1152: DataConversionWarning: A column-vector y was passed when a 1d array was expected. Please change the shape of y to (n_samples,), for example using ravel().\n",
      "  return fit_method(estimator, *args, **kwargs)\n",
      "/Users/nicolegros/Documents/school/release-eng/replication-project/venv/lib/python3.9/site-packages/sklearn/base.py:1152: DataConversionWarning: A column-vector y was passed when a 1d array was expected. Please change the shape of y to (n_samples,), for example using ravel().\n",
      "  return fit_method(estimator, *args, **kwargs)\n",
      "/Users/nicolegros/Documents/school/release-eng/replication-project/venv/lib/python3.9/site-packages/sklearn/base.py:1152: DataConversionWarning: A column-vector y was passed when a 1d array was expected. Please change the shape of y to (n_samples,), for example using ravel().\n",
      "  return fit_method(estimator, *args, **kwargs)\n",
      "/Users/nicolegros/Documents/school/release-eng/replication-project/venv/lib/python3.9/site-packages/sklearn/base.py:1152: DataConversionWarning: A column-vector y was passed when a 1d array was expected. Please change the shape of y to (n_samples,), for example using ravel().\n",
      "  return fit_method(estimator, *args, **kwargs)\n",
      "/Users/nicolegros/Documents/school/release-eng/replication-project/venv/lib/python3.9/site-packages/sklearn/base.py:1152: DataConversionWarning: A column-vector y was passed when a 1d array was expected. Please change the shape of y to (n_samples,), for example using ravel().\n",
      "  return fit_method(estimator, *args, **kwargs)\n",
      "/Users/nicolegros/Documents/school/release-eng/replication-project/venv/lib/python3.9/site-packages/sklearn/base.py:1152: DataConversionWarning: A column-vector y was passed when a 1d array was expected. Please change the shape of y to (n_samples,), for example using ravel().\n",
      "  return fit_method(estimator, *args, **kwargs)\n",
      "/Users/nicolegros/Documents/school/release-eng/replication-project/venv/lib/python3.9/site-packages/sklearn/base.py:1152: DataConversionWarning: A column-vector y was passed when a 1d array was expected. Please change the shape of y to (n_samples,), for example using ravel().\n",
      "  return fit_method(estimator, *args, **kwargs)\n",
      "/Users/nicolegros/Documents/school/release-eng/replication-project/venv/lib/python3.9/site-packages/sklearn/base.py:1152: DataConversionWarning: A column-vector y was passed when a 1d array was expected. Please change the shape of y to (n_samples,), for example using ravel().\n",
      "  return fit_method(estimator, *args, **kwargs)\n",
      "/Users/nicolegros/Documents/school/release-eng/replication-project/venv/lib/python3.9/site-packages/sklearn/base.py:1152: DataConversionWarning: A column-vector y was passed when a 1d array was expected. Please change the shape of y to (n_samples,), for example using ravel().\n",
      "  return fit_method(estimator, *args, **kwargs)\n",
      "/Users/nicolegros/Documents/school/release-eng/replication-project/venv/lib/python3.9/site-packages/sklearn/base.py:1152: DataConversionWarning: A column-vector y was passed when a 1d array was expected. Please change the shape of y to (n_samples,), for example using ravel().\n",
      "  return fit_method(estimator, *args, **kwargs)\n",
      "/Users/nicolegros/Documents/school/release-eng/replication-project/venv/lib/python3.9/site-packages/sklearn/base.py:1152: DataConversionWarning: A column-vector y was passed when a 1d array was expected. Please change the shape of y to (n_samples,), for example using ravel().\n",
      "  return fit_method(estimator, *args, **kwargs)\n",
      "/Users/nicolegros/Documents/school/release-eng/replication-project/venv/lib/python3.9/site-packages/sklearn/base.py:1152: DataConversionWarning: A column-vector y was passed when a 1d array was expected. Please change the shape of y to (n_samples,), for example using ravel().\n",
      "  return fit_method(estimator, *args, **kwargs)\n",
      "/Users/nicolegros/Documents/school/release-eng/replication-project/venv/lib/python3.9/site-packages/sklearn/base.py:1152: DataConversionWarning: A column-vector y was passed when a 1d array was expected. Please change the shape of y to (n_samples,), for example using ravel().\n",
      "  return fit_method(estimator, *args, **kwargs)\n",
      "/Users/nicolegros/Documents/school/release-eng/replication-project/venv/lib/python3.9/site-packages/sklearn/base.py:1152: DataConversionWarning: A column-vector y was passed when a 1d array was expected. Please change the shape of y to (n_samples,), for example using ravel().\n",
      "  return fit_method(estimator, *args, **kwargs)\n",
      "/Users/nicolegros/Documents/school/release-eng/replication-project/venv/lib/python3.9/site-packages/sklearn/base.py:1152: DataConversionWarning: A column-vector y was passed when a 1d array was expected. Please change the shape of y to (n_samples,), for example using ravel().\n",
      "  return fit_method(estimator, *args, **kwargs)\n",
      "/Users/nicolegros/Documents/school/release-eng/replication-project/venv/lib/python3.9/site-packages/sklearn/base.py:1152: DataConversionWarning: A column-vector y was passed when a 1d array was expected. Please change the shape of y to (n_samples,), for example using ravel().\n",
      "  return fit_method(estimator, *args, **kwargs)\n",
      "/Users/nicolegros/Documents/school/release-eng/replication-project/venv/lib/python3.9/site-packages/sklearn/base.py:1152: DataConversionWarning: A column-vector y was passed when a 1d array was expected. Please change the shape of y to (n_samples,), for example using ravel().\n",
      "  return fit_method(estimator, *args, **kwargs)\n",
      "/Users/nicolegros/Documents/school/release-eng/replication-project/venv/lib/python3.9/site-packages/sklearn/base.py:1152: DataConversionWarning: A column-vector y was passed when a 1d array was expected. Please change the shape of y to (n_samples,), for example using ravel().\n",
      "  return fit_method(estimator, *args, **kwargs)\n",
      "/Users/nicolegros/Documents/school/release-eng/replication-project/venv/lib/python3.9/site-packages/sklearn/base.py:1152: DataConversionWarning: A column-vector y was passed when a 1d array was expected. Please change the shape of y to (n_samples,), for example using ravel().\n",
      "  return fit_method(estimator, *args, **kwargs)\n",
      "/Users/nicolegros/Documents/school/release-eng/replication-project/venv/lib/python3.9/site-packages/sklearn/base.py:1152: DataConversionWarning: A column-vector y was passed when a 1d array was expected. Please change the shape of y to (n_samples,), for example using ravel().\n",
      "  return fit_method(estimator, *args, **kwargs)\n",
      "/Users/nicolegros/Documents/school/release-eng/replication-project/venv/lib/python3.9/site-packages/sklearn/utils/validation.py:1183: DataConversionWarning: A column-vector y was passed when a 1d array was expected. Please change the shape of y to (n_samples, ), for example using ravel().\n",
      "  y = column_or_1d(y, warn=True)\n",
      "/Users/nicolegros/Documents/school/release-eng/replication-project/venv/lib/python3.9/site-packages/sklearn/utils/validation.py:1183: DataConversionWarning: A column-vector y was passed when a 1d array was expected. Please change the shape of y to (n_samples, ), for example using ravel().\n",
      "  y = column_or_1d(y, warn=True)\n",
      "/Users/nicolegros/Documents/school/release-eng/replication-project/venv/lib/python3.9/site-packages/sklearn/utils/validation.py:1183: DataConversionWarning: A column-vector y was passed when a 1d array was expected. Please change the shape of y to (n_samples, ), for example using ravel().\n",
      "  y = column_or_1d(y, warn=True)\n",
      "/Users/nicolegros/Documents/school/release-eng/replication-project/venv/lib/python3.9/site-packages/sklearn/utils/validation.py:1183: DataConversionWarning: A column-vector y was passed when a 1d array was expected. Please change the shape of y to (n_samples, ), for example using ravel().\n",
      "  y = column_or_1d(y, warn=True)\n",
      "/Users/nicolegros/Documents/school/release-eng/replication-project/venv/lib/python3.9/site-packages/sklearn/utils/validation.py:1183: DataConversionWarning: A column-vector y was passed when a 1d array was expected. Please change the shape of y to (n_samples, ), for example using ravel().\n",
      "  y = column_or_1d(y, warn=True)\n",
      "/Users/nicolegros/Documents/school/release-eng/replication-project/venv/lib/python3.9/site-packages/sklearn/utils/validation.py:1183: DataConversionWarning: A column-vector y was passed when a 1d array was expected. Please change the shape of y to (n_samples, ), for example using ravel().\n",
      "  y = column_or_1d(y, warn=True)\n",
      "/Users/nicolegros/Documents/school/release-eng/replication-project/venv/lib/python3.9/site-packages/sklearn/utils/validation.py:1183: DataConversionWarning: A column-vector y was passed when a 1d array was expected. Please change the shape of y to (n_samples, ), for example using ravel().\n",
      "  y = column_or_1d(y, warn=True)\n",
      "/Users/nicolegros/Documents/school/release-eng/replication-project/venv/lib/python3.9/site-packages/sklearn/utils/validation.py:1183: DataConversionWarning: A column-vector y was passed when a 1d array was expected. Please change the shape of y to (n_samples, ), for example using ravel().\n",
      "  y = column_or_1d(y, warn=True)\n",
      "/Users/nicolegros/Documents/school/release-eng/replication-project/venv/lib/python3.9/site-packages/sklearn/utils/validation.py:1183: DataConversionWarning: A column-vector y was passed when a 1d array was expected. Please change the shape of y to (n_samples, ), for example using ravel().\n",
      "  y = column_or_1d(y, warn=True)\n",
      "/Users/nicolegros/Documents/school/release-eng/replication-project/venv/lib/python3.9/site-packages/sklearn/utils/validation.py:1183: DataConversionWarning: A column-vector y was passed when a 1d array was expected. Please change the shape of y to (n_samples, ), for example using ravel().\n",
      "  y = column_or_1d(y, warn=True)\n",
      "/Users/nicolegros/Documents/school/release-eng/replication-project/venv/lib/python3.9/site-packages/sklearn/utils/validation.py:1183: DataConversionWarning: A column-vector y was passed when a 1d array was expected. Please change the shape of y to (n_samples, ), for example using ravel().\n",
      "  y = column_or_1d(y, warn=True)\n",
      "/Users/nicolegros/Documents/school/release-eng/replication-project/venv/lib/python3.9/site-packages/sklearn/utils/validation.py:1183: DataConversionWarning: A column-vector y was passed when a 1d array was expected. Please change the shape of y to (n_samples, ), for example using ravel().\n",
      "  y = column_or_1d(y, warn=True)\n",
      "/Users/nicolegros/Documents/school/release-eng/replication-project/venv/lib/python3.9/site-packages/sklearn/utils/validation.py:1183: DataConversionWarning: A column-vector y was passed when a 1d array was expected. Please change the shape of y to (n_samples, ), for example using ravel().\n",
      "  y = column_or_1d(y, warn=True)\n",
      "/Users/nicolegros/Documents/school/release-eng/replication-project/venv/lib/python3.9/site-packages/sklearn/utils/validation.py:1183: DataConversionWarning: A column-vector y was passed when a 1d array was expected. Please change the shape of y to (n_samples, ), for example using ravel().\n",
      "  y = column_or_1d(y, warn=True)\n",
      "/Users/nicolegros/Documents/school/release-eng/replication-project/venv/lib/python3.9/site-packages/sklearn/utils/validation.py:1183: DataConversionWarning: A column-vector y was passed when a 1d array was expected. Please change the shape of y to (n_samples, ), for example using ravel().\n",
      "  y = column_or_1d(y, warn=True)\n",
      "/Users/nicolegros/Documents/school/release-eng/replication-project/venv/lib/python3.9/site-packages/sklearn/utils/validation.py:1183: DataConversionWarning: A column-vector y was passed when a 1d array was expected. Please change the shape of y to (n_samples, ), for example using ravel().\n",
      "  y = column_or_1d(y, warn=True)\n",
      "/Users/nicolegros/Documents/school/release-eng/replication-project/venv/lib/python3.9/site-packages/sklearn/utils/validation.py:1183: DataConversionWarning: A column-vector y was passed when a 1d array was expected. Please change the shape of y to (n_samples, ), for example using ravel().\n",
      "  y = column_or_1d(y, warn=True)\n",
      "/Users/nicolegros/Documents/school/release-eng/replication-project/venv/lib/python3.9/site-packages/sklearn/utils/validation.py:1183: DataConversionWarning: A column-vector y was passed when a 1d array was expected. Please change the shape of y to (n_samples, ), for example using ravel().\n",
      "  y = column_or_1d(y, warn=True)\n",
      "/Users/nicolegros/Documents/school/release-eng/replication-project/venv/lib/python3.9/site-packages/sklearn/utils/validation.py:1183: DataConversionWarning: A column-vector y was passed when a 1d array was expected. Please change the shape of y to (n_samples, ), for example using ravel().\n",
      "  y = column_or_1d(y, warn=True)\n",
      "/Users/nicolegros/Documents/school/release-eng/replication-project/venv/lib/python3.9/site-packages/sklearn/utils/validation.py:1183: DataConversionWarning: A column-vector y was passed when a 1d array was expected. Please change the shape of y to (n_samples, ), for example using ravel().\n",
      "  y = column_or_1d(y, warn=True)\n",
      "/Users/nicolegros/Documents/school/release-eng/replication-project/venv/lib/python3.9/site-packages/sklearn/utils/validation.py:1183: DataConversionWarning: A column-vector y was passed when a 1d array was expected. Please change the shape of y to (n_samples, ), for example using ravel().\n",
      "  y = column_or_1d(y, warn=True)\n",
      "/Users/nicolegros/Documents/school/release-eng/replication-project/venv/lib/python3.9/site-packages/sklearn/utils/validation.py:1183: DataConversionWarning: A column-vector y was passed when a 1d array was expected. Please change the shape of y to (n_samples, ), for example using ravel().\n",
      "  y = column_or_1d(y, warn=True)\n",
      "/Users/nicolegros/Documents/school/release-eng/replication-project/venv/lib/python3.9/site-packages/sklearn/utils/validation.py:1183: DataConversionWarning: A column-vector y was passed when a 1d array was expected. Please change the shape of y to (n_samples, ), for example using ravel().\n",
      "  y = column_or_1d(y, warn=True)\n",
      "/Users/nicolegros/Documents/school/release-eng/replication-project/venv/lib/python3.9/site-packages/sklearn/utils/validation.py:1183: DataConversionWarning: A column-vector y was passed when a 1d array was expected. Please change the shape of y to (n_samples, ), for example using ravel().\n",
      "  y = column_or_1d(y, warn=True)\n",
      "/Users/nicolegros/Documents/school/release-eng/replication-project/venv/lib/python3.9/site-packages/sklearn/utils/validation.py:1183: DataConversionWarning: A column-vector y was passed when a 1d array was expected. Please change the shape of y to (n_samples, ), for example using ravel().\n",
      "  y = column_or_1d(y, warn=True)\n",
      "/Users/nicolegros/Documents/school/release-eng/replication-project/venv/lib/python3.9/site-packages/sklearn/utils/validation.py:1183: DataConversionWarning: A column-vector y was passed when a 1d array was expected. Please change the shape of y to (n_samples, ), for example using ravel().\n",
      "  y = column_or_1d(y, warn=True)\n",
      "/Users/nicolegros/Documents/school/release-eng/replication-project/venv/lib/python3.9/site-packages/sklearn/utils/validation.py:1183: DataConversionWarning: A column-vector y was passed when a 1d array was expected. Please change the shape of y to (n_samples, ), for example using ravel().\n",
      "  y = column_or_1d(y, warn=True)\n",
      "/Users/nicolegros/Documents/school/release-eng/replication-project/venv/lib/python3.9/site-packages/sklearn/utils/validation.py:1183: DataConversionWarning: A column-vector y was passed when a 1d array was expected. Please change the shape of y to (n_samples, ), for example using ravel().\n",
      "  y = column_or_1d(y, warn=True)\n",
      "/Users/nicolegros/Documents/school/release-eng/replication-project/venv/lib/python3.9/site-packages/sklearn/utils/validation.py:1183: DataConversionWarning: A column-vector y was passed when a 1d array was expected. Please change the shape of y to (n_samples, ), for example using ravel().\n",
      "  y = column_or_1d(y, warn=True)\n",
      "/Users/nicolegros/Documents/school/release-eng/replication-project/venv/lib/python3.9/site-packages/sklearn/utils/validation.py:1183: DataConversionWarning: A column-vector y was passed when a 1d array was expected. Please change the shape of y to (n_samples, ), for example using ravel().\n",
      "  y = column_or_1d(y, warn=True)\n",
      "/Users/nicolegros/Documents/school/release-eng/replication-project/venv/lib/python3.9/site-packages/sklearn/utils/validation.py:1183: DataConversionWarning: A column-vector y was passed when a 1d array was expected. Please change the shape of y to (n_samples, ), for example using ravel().\n",
      "  y = column_or_1d(y, warn=True)\n",
      "/Users/nicolegros/Documents/school/release-eng/replication-project/venv/lib/python3.9/site-packages/sklearn/utils/validation.py:1183: DataConversionWarning: A column-vector y was passed when a 1d array was expected. Please change the shape of y to (n_samples, ), for example using ravel().\n",
      "  y = column_or_1d(y, warn=True)\n",
      "/Users/nicolegros/Documents/school/release-eng/replication-project/venv/lib/python3.9/site-packages/sklearn/utils/validation.py:1183: DataConversionWarning: A column-vector y was passed when a 1d array was expected. Please change the shape of y to (n_samples, ), for example using ravel().\n",
      "  y = column_or_1d(y, warn=True)\n",
      "/Users/nicolegros/Documents/school/release-eng/replication-project/venv/lib/python3.9/site-packages/sklearn/utils/validation.py:1183: DataConversionWarning: A column-vector y was passed when a 1d array was expected. Please change the shape of y to (n_samples, ), for example using ravel().\n",
      "  y = column_or_1d(y, warn=True)\n",
      "/Users/nicolegros/Documents/school/release-eng/replication-project/venv/lib/python3.9/site-packages/sklearn/utils/validation.py:1183: DataConversionWarning: A column-vector y was passed when a 1d array was expected. Please change the shape of y to (n_samples, ), for example using ravel().\n",
      "  y = column_or_1d(y, warn=True)\n",
      "/Users/nicolegros/Documents/school/release-eng/replication-project/venv/lib/python3.9/site-packages/sklearn/utils/validation.py:1183: DataConversionWarning: A column-vector y was passed when a 1d array was expected. Please change the shape of y to (n_samples, ), for example using ravel().\n",
      "  y = column_or_1d(y, warn=True)\n",
      "/Users/nicolegros/Documents/school/release-eng/replication-project/venv/lib/python3.9/site-packages/sklearn/utils/validation.py:1183: DataConversionWarning: A column-vector y was passed when a 1d array was expected. Please change the shape of y to (n_samples, ), for example using ravel().\n",
      "  y = column_or_1d(y, warn=True)\n",
      "/Users/nicolegros/Documents/school/release-eng/replication-project/venv/lib/python3.9/site-packages/sklearn/utils/validation.py:1183: DataConversionWarning: A column-vector y was passed when a 1d array was expected. Please change the shape of y to (n_samples, ), for example using ravel().\n",
      "  y = column_or_1d(y, warn=True)\n",
      "/Users/nicolegros/Documents/school/release-eng/replication-project/venv/lib/python3.9/site-packages/sklearn/utils/validation.py:1183: DataConversionWarning: A column-vector y was passed when a 1d array was expected. Please change the shape of y to (n_samples, ), for example using ravel().\n",
      "  y = column_or_1d(y, warn=True)\n",
      "/Users/nicolegros/Documents/school/release-eng/replication-project/venv/lib/python3.9/site-packages/sklearn/utils/validation.py:1183: DataConversionWarning: A column-vector y was passed when a 1d array was expected. Please change the shape of y to (n_samples, ), for example using ravel().\n",
      "  y = column_or_1d(y, warn=True)\n",
      "/Users/nicolegros/Documents/school/release-eng/replication-project/venv/lib/python3.9/site-packages/sklearn/utils/validation.py:1183: DataConversionWarning: A column-vector y was passed when a 1d array was expected. Please change the shape of y to (n_samples, ), for example using ravel().\n",
      "  y = column_or_1d(y, warn=True)\n",
      "/Users/nicolegros/Documents/school/release-eng/replication-project/venv/lib/python3.9/site-packages/sklearn/utils/validation.py:1183: DataConversionWarning: A column-vector y was passed when a 1d array was expected. Please change the shape of y to (n_samples, ), for example using ravel().\n",
      "  y = column_or_1d(y, warn=True)\n",
      "/Users/nicolegros/Documents/school/release-eng/replication-project/venv/lib/python3.9/site-packages/sklearn/utils/validation.py:1183: DataConversionWarning: A column-vector y was passed when a 1d array was expected. Please change the shape of y to (n_samples, ), for example using ravel().\n",
      "  y = column_or_1d(y, warn=True)\n",
      "/Users/nicolegros/Documents/school/release-eng/replication-project/venv/lib/python3.9/site-packages/sklearn/utils/validation.py:1183: DataConversionWarning: A column-vector y was passed when a 1d array was expected. Please change the shape of y to (n_samples, ), for example using ravel().\n",
      "  y = column_or_1d(y, warn=True)\n",
      "/Users/nicolegros/Documents/school/release-eng/replication-project/venv/lib/python3.9/site-packages/sklearn/utils/validation.py:1183: DataConversionWarning: A column-vector y was passed when a 1d array was expected. Please change the shape of y to (n_samples, ), for example using ravel().\n",
      "  y = column_or_1d(y, warn=True)\n",
      "/Users/nicolegros/Documents/school/release-eng/replication-project/venv/lib/python3.9/site-packages/sklearn/utils/validation.py:1183: DataConversionWarning: A column-vector y was passed when a 1d array was expected. Please change the shape of y to (n_samples, ), for example using ravel().\n",
      "  y = column_or_1d(y, warn=True)\n",
      "/Users/nicolegros/Documents/school/release-eng/replication-project/venv/lib/python3.9/site-packages/sklearn/utils/validation.py:1183: DataConversionWarning: A column-vector y was passed when a 1d array was expected. Please change the shape of y to (n_samples, ), for example using ravel().\n",
      "  y = column_or_1d(y, warn=True)\n",
      "/Users/nicolegros/Documents/school/release-eng/replication-project/venv/lib/python3.9/site-packages/sklearn/utils/validation.py:1183: DataConversionWarning: A column-vector y was passed when a 1d array was expected. Please change the shape of y to (n_samples, ), for example using ravel().\n",
      "  y = column_or_1d(y, warn=True)\n",
      "/Users/nicolegros/Documents/school/release-eng/replication-project/venv/lib/python3.9/site-packages/sklearn/utils/validation.py:1183: DataConversionWarning: A column-vector y was passed when a 1d array was expected. Please change the shape of y to (n_samples, ), for example using ravel().\n",
      "  y = column_or_1d(y, warn=True)\n",
      "/Users/nicolegros/Documents/school/release-eng/replication-project/venv/lib/python3.9/site-packages/sklearn/utils/validation.py:1183: DataConversionWarning: A column-vector y was passed when a 1d array was expected. Please change the shape of y to (n_samples, ), for example using ravel().\n",
      "  y = column_or_1d(y, warn=True)\n",
      "/Users/nicolegros/Documents/school/release-eng/replication-project/venv/lib/python3.9/site-packages/sklearn/utils/validation.py:1183: DataConversionWarning: A column-vector y was passed when a 1d array was expected. Please change the shape of y to (n_samples, ), for example using ravel().\n",
      "  y = column_or_1d(y, warn=True)\n",
      "/Users/nicolegros/Documents/school/release-eng/replication-project/venv/lib/python3.9/site-packages/sklearn/utils/validation.py:1183: DataConversionWarning: A column-vector y was passed when a 1d array was expected. Please change the shape of y to (n_samples, ), for example using ravel().\n",
      "  y = column_or_1d(y, warn=True)\n",
      "/Users/nicolegros/Documents/school/release-eng/replication-project/venv/lib/python3.9/site-packages/sklearn/utils/validation.py:1183: DataConversionWarning: A column-vector y was passed when a 1d array was expected. Please change the shape of y to (n_samples, ), for example using ravel().\n",
      "  y = column_or_1d(y, warn=True)\n",
      "/Users/nicolegros/Documents/school/release-eng/replication-project/venv/lib/python3.9/site-packages/sklearn/utils/validation.py:1183: DataConversionWarning: A column-vector y was passed when a 1d array was expected. Please change the shape of y to (n_samples, ), for example using ravel().\n",
      "  y = column_or_1d(y, warn=True)\n",
      "/Users/nicolegros/Documents/school/release-eng/replication-project/venv/lib/python3.9/site-packages/sklearn/utils/validation.py:1183: DataConversionWarning: A column-vector y was passed when a 1d array was expected. Please change the shape of y to (n_samples, ), for example using ravel().\n",
      "  y = column_or_1d(y, warn=True)\n",
      "/Users/nicolegros/Documents/school/release-eng/replication-project/venv/lib/python3.9/site-packages/sklearn/utils/validation.py:1183: DataConversionWarning: A column-vector y was passed when a 1d array was expected. Please change the shape of y to (n_samples, ), for example using ravel().\n",
      "  y = column_or_1d(y, warn=True)\n",
      "/Users/nicolegros/Documents/school/release-eng/replication-project/venv/lib/python3.9/site-packages/sklearn/utils/validation.py:1183: DataConversionWarning: A column-vector y was passed when a 1d array was expected. Please change the shape of y to (n_samples, ), for example using ravel().\n",
      "  y = column_or_1d(y, warn=True)\n",
      "/Users/nicolegros/Documents/school/release-eng/replication-project/venv/lib/python3.9/site-packages/sklearn/utils/validation.py:1183: DataConversionWarning: A column-vector y was passed when a 1d array was expected. Please change the shape of y to (n_samples, ), for example using ravel().\n",
      "  y = column_or_1d(y, warn=True)\n",
      "/Users/nicolegros/Documents/school/release-eng/replication-project/venv/lib/python3.9/site-packages/sklearn/utils/validation.py:1183: DataConversionWarning: A column-vector y was passed when a 1d array was expected. Please change the shape of y to (n_samples, ), for example using ravel().\n",
      "  y = column_or_1d(y, warn=True)\n",
      "/Users/nicolegros/Documents/school/release-eng/replication-project/venv/lib/python3.9/site-packages/sklearn/utils/validation.py:1183: DataConversionWarning: A column-vector y was passed when a 1d array was expected. Please change the shape of y to (n_samples, ), for example using ravel().\n",
      "  y = column_or_1d(y, warn=True)\n",
      "/Users/nicolegros/Documents/school/release-eng/replication-project/venv/lib/python3.9/site-packages/sklearn/utils/validation.py:1183: DataConversionWarning: A column-vector y was passed when a 1d array was expected. Please change the shape of y to (n_samples, ), for example using ravel().\n",
      "  y = column_or_1d(y, warn=True)\n",
      "/Users/nicolegros/Documents/school/release-eng/replication-project/venv/lib/python3.9/site-packages/sklearn/utils/validation.py:1183: DataConversionWarning: A column-vector y was passed when a 1d array was expected. Please change the shape of y to (n_samples, ), for example using ravel().\n",
      "  y = column_or_1d(y, warn=True)\n",
      "/Users/nicolegros/Documents/school/release-eng/replication-project/venv/lib/python3.9/site-packages/sklearn/utils/validation.py:1183: DataConversionWarning: A column-vector y was passed when a 1d array was expected. Please change the shape of y to (n_samples, ), for example using ravel().\n",
      "  y = column_or_1d(y, warn=True)\n",
      "/Users/nicolegros/Documents/school/release-eng/replication-project/venv/lib/python3.9/site-packages/sklearn/utils/validation.py:1183: DataConversionWarning: A column-vector y was passed when a 1d array was expected. Please change the shape of y to (n_samples, ), for example using ravel().\n",
      "  y = column_or_1d(y, warn=True)\n",
      "/Users/nicolegros/Documents/school/release-eng/replication-project/venv/lib/python3.9/site-packages/sklearn/utils/validation.py:1183: DataConversionWarning: A column-vector y was passed when a 1d array was expected. Please change the shape of y to (n_samples, ), for example using ravel().\n",
      "  y = column_or_1d(y, warn=True)\n",
      "/Users/nicolegros/Documents/school/release-eng/replication-project/venv/lib/python3.9/site-packages/sklearn/utils/validation.py:1183: DataConversionWarning: A column-vector y was passed when a 1d array was expected. Please change the shape of y to (n_samples, ), for example using ravel().\n",
      "  y = column_or_1d(y, warn=True)\n",
      "/Users/nicolegros/Documents/school/release-eng/replication-project/venv/lib/python3.9/site-packages/sklearn/utils/validation.py:1183: DataConversionWarning: A column-vector y was passed when a 1d array was expected. Please change the shape of y to (n_samples, ), for example using ravel().\n",
      "  y = column_or_1d(y, warn=True)\n",
      "/Users/nicolegros/Documents/school/release-eng/replication-project/venv/lib/python3.9/site-packages/sklearn/utils/validation.py:1183: DataConversionWarning: A column-vector y was passed when a 1d array was expected. Please change the shape of y to (n_samples, ), for example using ravel().\n",
      "  y = column_or_1d(y, warn=True)\n",
      "/Users/nicolegros/Documents/school/release-eng/replication-project/venv/lib/python3.9/site-packages/sklearn/utils/validation.py:1183: DataConversionWarning: A column-vector y was passed when a 1d array was expected. Please change the shape of y to (n_samples, ), for example using ravel().\n",
      "  y = column_or_1d(y, warn=True)\n",
      "/Users/nicolegros/Documents/school/release-eng/replication-project/venv/lib/python3.9/site-packages/sklearn/utils/validation.py:1183: DataConversionWarning: A column-vector y was passed when a 1d array was expected. Please change the shape of y to (n_samples, ), for example using ravel().\n",
      "  y = column_or_1d(y, warn=True)\n",
      "/Users/nicolegros/Documents/school/release-eng/replication-project/venv/lib/python3.9/site-packages/sklearn/utils/validation.py:1183: DataConversionWarning: A column-vector y was passed when a 1d array was expected. Please change the shape of y to (n_samples, ), for example using ravel().\n",
      "  y = column_or_1d(y, warn=True)\n",
      "/Users/nicolegros/Documents/school/release-eng/replication-project/venv/lib/python3.9/site-packages/sklearn/utils/validation.py:1183: DataConversionWarning: A column-vector y was passed when a 1d array was expected. Please change the shape of y to (n_samples, ), for example using ravel().\n",
      "  y = column_or_1d(y, warn=True)\n",
      "/Users/nicolegros/Documents/school/release-eng/replication-project/venv/lib/python3.9/site-packages/sklearn/utils/validation.py:1183: DataConversionWarning: A column-vector y was passed when a 1d array was expected. Please change the shape of y to (n_samples, ), for example using ravel().\n",
      "  y = column_or_1d(y, warn=True)\n",
      "/Users/nicolegros/Documents/school/release-eng/replication-project/venv/lib/python3.9/site-packages/sklearn/utils/validation.py:1183: DataConversionWarning: A column-vector y was passed when a 1d array was expected. Please change the shape of y to (n_samples, ), for example using ravel().\n",
      "  y = column_or_1d(y, warn=True)\n",
      "/Users/nicolegros/Documents/school/release-eng/replication-project/venv/lib/python3.9/site-packages/sklearn/utils/validation.py:1183: DataConversionWarning: A column-vector y was passed when a 1d array was expected. Please change the shape of y to (n_samples, ), for example using ravel().\n",
      "  y = column_or_1d(y, warn=True)\n",
      "/Users/nicolegros/Documents/school/release-eng/replication-project/venv/lib/python3.9/site-packages/sklearn/utils/validation.py:1183: DataConversionWarning: A column-vector y was passed when a 1d array was expected. Please change the shape of y to (n_samples, ), for example using ravel().\n",
      "  y = column_or_1d(y, warn=True)\n",
      "/Users/nicolegros/Documents/school/release-eng/replication-project/venv/lib/python3.9/site-packages/sklearn/utils/validation.py:1183: DataConversionWarning: A column-vector y was passed when a 1d array was expected. Please change the shape of y to (n_samples, ), for example using ravel().\n",
      "  y = column_or_1d(y, warn=True)\n",
      "/Users/nicolegros/Documents/school/release-eng/replication-project/venv/lib/python3.9/site-packages/sklearn/utils/validation.py:1183: DataConversionWarning: A column-vector y was passed when a 1d array was expected. Please change the shape of y to (n_samples, ), for example using ravel().\n",
      "  y = column_or_1d(y, warn=True)\n",
      "/Users/nicolegros/Documents/school/release-eng/replication-project/venv/lib/python3.9/site-packages/sklearn/utils/validation.py:1183: DataConversionWarning: A column-vector y was passed when a 1d array was expected. Please change the shape of y to (n_samples, ), for example using ravel().\n",
      "  y = column_or_1d(y, warn=True)\n",
      "/Users/nicolegros/Documents/school/release-eng/replication-project/venv/lib/python3.9/site-packages/sklearn/utils/validation.py:1183: DataConversionWarning: A column-vector y was passed when a 1d array was expected. Please change the shape of y to (n_samples, ), for example using ravel().\n",
      "  y = column_or_1d(y, warn=True)\n",
      "/Users/nicolegros/Documents/school/release-eng/replication-project/venv/lib/python3.9/site-packages/sklearn/neighbors/_classification.py:233: DataConversionWarning: A column-vector y was passed when a 1d array was expected. Please change the shape of y to (n_samples,), for example using ravel().\n",
      "  return self._fit(X, y)\n",
      "/Users/nicolegros/Documents/school/release-eng/replication-project/venv/lib/python3.9/site-packages/sklearn/neighbors/_classification.py:233: DataConversionWarning: A column-vector y was passed when a 1d array was expected. Please change the shape of y to (n_samples,), for example using ravel().\n",
      "  return self._fit(X, y)\n",
      "/Users/nicolegros/Documents/school/release-eng/replication-project/venv/lib/python3.9/site-packages/sklearn/neighbors/_classification.py:233: DataConversionWarning: A column-vector y was passed when a 1d array was expected. Please change the shape of y to (n_samples,), for example using ravel().\n",
      "  return self._fit(X, y)\n",
      "/Users/nicolegros/Documents/school/release-eng/replication-project/venv/lib/python3.9/site-packages/sklearn/neighbors/_classification.py:233: DataConversionWarning: A column-vector y was passed when a 1d array was expected. Please change the shape of y to (n_samples,), for example using ravel().\n",
      "  return self._fit(X, y)\n",
      "/Users/nicolegros/Documents/school/release-eng/replication-project/venv/lib/python3.9/site-packages/sklearn/neighbors/_classification.py:233: DataConversionWarning: A column-vector y was passed when a 1d array was expected. Please change the shape of y to (n_samples,), for example using ravel().\n",
      "  return self._fit(X, y)\n",
      "/Users/nicolegros/Documents/school/release-eng/replication-project/venv/lib/python3.9/site-packages/sklearn/neighbors/_classification.py:233: DataConversionWarning: A column-vector y was passed when a 1d array was expected. Please change the shape of y to (n_samples,), for example using ravel().\n",
      "  return self._fit(X, y)\n",
      "/Users/nicolegros/Documents/school/release-eng/replication-project/venv/lib/python3.9/site-packages/sklearn/neighbors/_classification.py:233: DataConversionWarning: A column-vector y was passed when a 1d array was expected. Please change the shape of y to (n_samples,), for example using ravel().\n",
      "  return self._fit(X, y)\n",
      "/Users/nicolegros/Documents/school/release-eng/replication-project/venv/lib/python3.9/site-packages/sklearn/neighbors/_classification.py:233: DataConversionWarning: A column-vector y was passed when a 1d array was expected. Please change the shape of y to (n_samples,), for example using ravel().\n",
      "  return self._fit(X, y)\n",
      "/Users/nicolegros/Documents/school/release-eng/replication-project/venv/lib/python3.9/site-packages/sklearn/neighbors/_classification.py:233: DataConversionWarning: A column-vector y was passed when a 1d array was expected. Please change the shape of y to (n_samples,), for example using ravel().\n",
      "  return self._fit(X, y)\n",
      "/Users/nicolegros/Documents/school/release-eng/replication-project/venv/lib/python3.9/site-packages/sklearn/neighbors/_classification.py:233: DataConversionWarning: A column-vector y was passed when a 1d array was expected. Please change the shape of y to (n_samples,), for example using ravel().\n",
      "  return self._fit(X, y)\n",
      "/Users/nicolegros/Documents/school/release-eng/replication-project/venv/lib/python3.9/site-packages/sklearn/neighbors/_classification.py:233: DataConversionWarning: A column-vector y was passed when a 1d array was expected. Please change the shape of y to (n_samples,), for example using ravel().\n",
      "  return self._fit(X, y)\n",
      "/Users/nicolegros/Documents/school/release-eng/replication-project/venv/lib/python3.9/site-packages/sklearn/neighbors/_classification.py:233: DataConversionWarning: A column-vector y was passed when a 1d array was expected. Please change the shape of y to (n_samples,), for example using ravel().\n",
      "  return self._fit(X, y)\n",
      "/Users/nicolegros/Documents/school/release-eng/replication-project/venv/lib/python3.9/site-packages/sklearn/neighbors/_classification.py:233: DataConversionWarning: A column-vector y was passed when a 1d array was expected. Please change the shape of y to (n_samples,), for example using ravel().\n",
      "  return self._fit(X, y)\n",
      "/Users/nicolegros/Documents/school/release-eng/replication-project/venv/lib/python3.9/site-packages/sklearn/neighbors/_classification.py:233: DataConversionWarning: A column-vector y was passed when a 1d array was expected. Please change the shape of y to (n_samples,), for example using ravel().\n",
      "  return self._fit(X, y)\n",
      "/Users/nicolegros/Documents/school/release-eng/replication-project/venv/lib/python3.9/site-packages/sklearn/neighbors/_classification.py:233: DataConversionWarning: A column-vector y was passed when a 1d array was expected. Please change the shape of y to (n_samples,), for example using ravel().\n",
      "  return self._fit(X, y)\n",
      "/Users/nicolegros/Documents/school/release-eng/replication-project/venv/lib/python3.9/site-packages/sklearn/neighbors/_classification.py:233: DataConversionWarning: A column-vector y was passed when a 1d array was expected. Please change the shape of y to (n_samples,), for example using ravel().\n",
      "  return self._fit(X, y)\n",
      "/Users/nicolegros/Documents/school/release-eng/replication-project/venv/lib/python3.9/site-packages/sklearn/neighbors/_classification.py:233: DataConversionWarning: A column-vector y was passed when a 1d array was expected. Please change the shape of y to (n_samples,), for example using ravel().\n",
      "  return self._fit(X, y)\n",
      "/Users/nicolegros/Documents/school/release-eng/replication-project/venv/lib/python3.9/site-packages/sklearn/neighbors/_classification.py:233: DataConversionWarning: A column-vector y was passed when a 1d array was expected. Please change the shape of y to (n_samples,), for example using ravel().\n",
      "  return self._fit(X, y)\n",
      "/Users/nicolegros/Documents/school/release-eng/replication-project/venv/lib/python3.9/site-packages/sklearn/neighbors/_classification.py:233: DataConversionWarning: A column-vector y was passed when a 1d array was expected. Please change the shape of y to (n_samples,), for example using ravel().\n",
      "  return self._fit(X, y)\n",
      "/Users/nicolegros/Documents/school/release-eng/replication-project/venv/lib/python3.9/site-packages/sklearn/neighbors/_classification.py:233: DataConversionWarning: A column-vector y was passed when a 1d array was expected. Please change the shape of y to (n_samples,), for example using ravel().\n",
      "  return self._fit(X, y)\n",
      "/Users/nicolegros/Documents/school/release-eng/replication-project/venv/lib/python3.9/site-packages/sklearn/neighbors/_classification.py:233: DataConversionWarning: A column-vector y was passed when a 1d array was expected. Please change the shape of y to (n_samples,), for example using ravel().\n",
      "  return self._fit(X, y)\n",
      "/Users/nicolegros/Documents/school/release-eng/replication-project/venv/lib/python3.9/site-packages/sklearn/neighbors/_classification.py:233: DataConversionWarning: A column-vector y was passed when a 1d array was expected. Please change the shape of y to (n_samples,), for example using ravel().\n",
      "  return self._fit(X, y)\n",
      "/Users/nicolegros/Documents/school/release-eng/replication-project/venv/lib/python3.9/site-packages/sklearn/neighbors/_classification.py:233: DataConversionWarning: A column-vector y was passed when a 1d array was expected. Please change the shape of y to (n_samples,), for example using ravel().\n",
      "  return self._fit(X, y)\n",
      "/Users/nicolegros/Documents/school/release-eng/replication-project/venv/lib/python3.9/site-packages/sklearn/neighbors/_classification.py:233: DataConversionWarning: A column-vector y was passed when a 1d array was expected. Please change the shape of y to (n_samples,), for example using ravel().\n",
      "  return self._fit(X, y)\n",
      "/Users/nicolegros/Documents/school/release-eng/replication-project/venv/lib/python3.9/site-packages/sklearn/neighbors/_classification.py:233: DataConversionWarning: A column-vector y was passed when a 1d array was expected. Please change the shape of y to (n_samples,), for example using ravel().\n",
      "  return self._fit(X, y)\n",
      "/Users/nicolegros/Documents/school/release-eng/replication-project/venv/lib/python3.9/site-packages/sklearn/neighbors/_classification.py:233: DataConversionWarning: A column-vector y was passed when a 1d array was expected. Please change the shape of y to (n_samples,), for example using ravel().\n",
      "  return self._fit(X, y)\n",
      "/Users/nicolegros/Documents/school/release-eng/replication-project/venv/lib/python3.9/site-packages/sklearn/neighbors/_classification.py:233: DataConversionWarning: A column-vector y was passed when a 1d array was expected. Please change the shape of y to (n_samples,), for example using ravel().\n",
      "  return self._fit(X, y)\n",
      "/Users/nicolegros/Documents/school/release-eng/replication-project/venv/lib/python3.9/site-packages/sklearn/neighbors/_classification.py:233: DataConversionWarning: A column-vector y was passed when a 1d array was expected. Please change the shape of y to (n_samples,), for example using ravel().\n",
      "  return self._fit(X, y)\n",
      "/Users/nicolegros/Documents/school/release-eng/replication-project/venv/lib/python3.9/site-packages/sklearn/neighbors/_classification.py:233: DataConversionWarning: A column-vector y was passed when a 1d array was expected. Please change the shape of y to (n_samples,), for example using ravel().\n",
      "  return self._fit(X, y)\n",
      "/Users/nicolegros/Documents/school/release-eng/replication-project/venv/lib/python3.9/site-packages/sklearn/neighbors/_classification.py:233: DataConversionWarning: A column-vector y was passed when a 1d array was expected. Please change the shape of y to (n_samples,), for example using ravel().\n",
      "  return self._fit(X, y)\n",
      "/Users/nicolegros/Documents/school/release-eng/replication-project/venv/lib/python3.9/site-packages/sklearn/neighbors/_classification.py:233: DataConversionWarning: A column-vector y was passed when a 1d array was expected. Please change the shape of y to (n_samples,), for example using ravel().\n",
      "  return self._fit(X, y)\n",
      "/Users/nicolegros/Documents/school/release-eng/replication-project/venv/lib/python3.9/site-packages/sklearn/neighbors/_classification.py:233: DataConversionWarning: A column-vector y was passed when a 1d array was expected. Please change the shape of y to (n_samples,), for example using ravel().\n",
      "  return self._fit(X, y)\n",
      "/Users/nicolegros/Documents/school/release-eng/replication-project/venv/lib/python3.9/site-packages/sklearn/neighbors/_classification.py:233: DataConversionWarning: A column-vector y was passed when a 1d array was expected. Please change the shape of y to (n_samples,), for example using ravel().\n",
      "  return self._fit(X, y)\n",
      "/Users/nicolegros/Documents/school/release-eng/replication-project/venv/lib/python3.9/site-packages/sklearn/neighbors/_classification.py:233: DataConversionWarning: A column-vector y was passed when a 1d array was expected. Please change the shape of y to (n_samples,), for example using ravel().\n",
      "  return self._fit(X, y)\n",
      "/Users/nicolegros/Documents/school/release-eng/replication-project/venv/lib/python3.9/site-packages/sklearn/neighbors/_classification.py:233: DataConversionWarning: A column-vector y was passed when a 1d array was expected. Please change the shape of y to (n_samples,), for example using ravel().\n",
      "  return self._fit(X, y)\n",
      "/Users/nicolegros/Documents/school/release-eng/replication-project/venv/lib/python3.9/site-packages/sklearn/neighbors/_classification.py:233: DataConversionWarning: A column-vector y was passed when a 1d array was expected. Please change the shape of y to (n_samples,), for example using ravel().\n",
      "  return self._fit(X, y)\n",
      "/Users/nicolegros/Documents/school/release-eng/replication-project/venv/lib/python3.9/site-packages/sklearn/neighbors/_classification.py:233: DataConversionWarning: A column-vector y was passed when a 1d array was expected. Please change the shape of y to (n_samples,), for example using ravel().\n",
      "  return self._fit(X, y)\n",
      "/Users/nicolegros/Documents/school/release-eng/replication-project/venv/lib/python3.9/site-packages/sklearn/neighbors/_classification.py:233: DataConversionWarning: A column-vector y was passed when a 1d array was expected. Please change the shape of y to (n_samples,), for example using ravel().\n",
      "  return self._fit(X, y)\n",
      "/Users/nicolegros/Documents/school/release-eng/replication-project/venv/lib/python3.9/site-packages/sklearn/neighbors/_classification.py:233: DataConversionWarning: A column-vector y was passed when a 1d array was expected. Please change the shape of y to (n_samples,), for example using ravel().\n",
      "  return self._fit(X, y)\n",
      "/Users/nicolegros/Documents/school/release-eng/replication-project/venv/lib/python3.9/site-packages/sklearn/neighbors/_classification.py:233: DataConversionWarning: A column-vector y was passed when a 1d array was expected. Please change the shape of y to (n_samples,), for example using ravel().\n",
      "  return self._fit(X, y)\n"
     ]
    }
   ],
   "source": [
    "from sklearn.tree import DecisionTreeClassifier\n",
    "from sklearn.model_selection import ShuffleSplit, cross_val_score\n",
    "from sklearn.ensemble import RandomForestClassifier\n",
    "from sklearn.naive_bayes import GaussianNB\n",
    "from sklearn.neighbors import KNeighborsClassifier\n",
    "from sklearn.linear_model import LogisticRegression\n",
    "\n",
    "data_for_models = result.transform(X)[:, 0]\n",
    "d = data_for_models.reshape(-1, 1)\n",
    "Y = mirantis[\"defect_status\"]\n",
    "df = pd.DataFrame(d, columns=[\"value\"]).merge(Y, left_index=True, right_index=True)\n",
    "\n",
    "cv = ShuffleSplit(n_splits=10, test_size=0.3, random_state=0)\n",
    "\n",
    "results = {}\n",
    "for classifier in [createdict(RandomForestClassifier(), \"RF\"),\n",
    "                   createdict(GaussianNB(), \"NB\"),\n",
    "                   createdict(LogisticRegression(), \"LR\"),\n",
    "                   createdict(KNeighborsClassifier(), \"KNN\"),\n",
    "                   createdict(DecisionTreeClassifier(), \"CART\")]:\n",
    "    auc = cross_val_score(classifier[\"classifier\"], utils.X(df), utils.Y(df), cv=cv, scoring='roc_auc').mean()\n",
    "    recall = cross_val_score(classifier[\"classifier\"], utils.X(df), utils.Y(df), cv=cv, scoring='recall').mean()\n",
    "    precision = cross_val_score(classifier[\"classifier\"], utils.X(df), utils.Y(df), cv=cv, scoring='precision').mean()\n",
    "    f1 = cross_val_score(classifier[\"classifier\"], utils.X(df), utils.Y(df), cv=cv, scoring='f1').mean()\n",
    "    results[classifier[\"name\"]] = {\n",
    "        \"auc\": auc,\n",
    "        \"recall\": recall,\n",
    "        \"precision\": precision,\n",
    "        \"f1\": f1\n",
    "    }\n",
    "pd.DataFrame.from_dict(results)\n"
   ],
   "metadata": {
    "collapsed": false,
    "ExecuteTime": {
     "end_time": "2023-10-26T17:14:05.444362Z",
     "start_time": "2023-10-26T17:14:02.055073Z"
    }
   },
   "id": "f9887acc8cff928f"
  },
  {
   "cell_type": "markdown",
   "source": [
    "|  | RF | NB | LR | KNN | CART |\n",
    "| :--- | :--- | :--- | :--- | :--- | :--- |\n",
    "| auc | 0.701661 | 0.714252 | 0.750981 | 0.693334 | 0.659597 |\n",
    "| recall | 0.707425 | 0.407360 | 0.649691 | 0.672546 | 0.707425 |\n",
    "| precision | 0.701199 | 0.846909 | 0.798322 | 0.667389 | 0.701199 |\n",
    "| f1 | 0.695896 | 0.541781 | 0.708236 | 0.663964 | 0.698448 |\n"
   ],
   "metadata": {
    "collapsed": false
   },
   "id": "3cc9774f64d5eb92"
  },
  {
   "cell_type": "markdown",
   "source": [
    "## Wikimedia"
   ],
   "metadata": {
    "collapsed": false
   },
   "id": "377ff61813c39f65"
  },
  {
   "cell_type": "code",
   "execution_count": 65,
   "outputs": [
    {
     "data": {
      "text/plain": "array([8.90520402e-01, 6.03917193e-02, 3.50979652e-02, 1.00422589e-02,\n       1.91119910e-03, 1.17025305e-03, 3.83608951e-04, 1.85563806e-04,\n       1.41746008e-04, 9.30937921e-05, 6.21473712e-05, 4.24885234e-08])"
     },
     "execution_count": 65,
     "metadata": {},
     "output_type": "execute_result"
    }
   ],
   "source": [
    "wikimedia = pd.read_csv(\"../data/IST_WIK.csv\")\n",
    "\n",
    "X = wikimedia.drop(\"defect_status\", axis=1).drop(\"org\", axis=1).drop(\"file_\", axis=1)\n",
    "pca = PCA()\n",
    "result = pca.fit(X)\n",
    "result.explained_variance_ratio_"
   ],
   "metadata": {
    "collapsed": false,
    "ExecuteTime": {
     "end_time": "2023-10-26T17:22:02.423448Z",
     "start_time": "2023-10-26T17:22:01.936671Z"
    }
   },
   "id": "b27e2c5cd77592b5"
  },
  {
   "cell_type": "code",
   "execution_count": 66,
   "outputs": [
    {
     "data": {
      "text/plain": "array([[ 3.37492351e-03,  2.02216197e-02,  1.42577367e-02,\n         2.36111732e-02,  4.39844868e-02,  1.88184812e-01,\n         2.29110494e-01,  3.69083889e-03,  1.12838939e-02,\n         1.14603932e-02,  9.34668061e-01,  1.87356544e-01],\n       [-2.59034422e-03, -1.21789842e-02, -1.45820614e-02,\n         2.47719026e-02, -3.71130979e-04,  2.61196504e-01,\n         6.58631318e-01, -3.20574743e-03,  8.45814519e-03,\n         9.72824689e-03, -7.38449134e-02, -7.00978022e-01],\n       [ 7.38886003e-04,  7.24945471e-02,  5.07307943e-02,\n         1.32570628e-01,  2.10472287e-01,  8.86019504e-01,\n        -3.56840117e-01,  1.50034905e-02,  5.15744134e-02,\n         5.36404010e-02, -1.09860237e-01,  9.99036049e-03],\n       [-6.15141757e-03, -6.88690877e-02, -8.14845795e-02,\n         7.71572613e-03, -1.59681848e-01,  2.41734824e-01,\n         5.85741662e-01, -1.97285244e-02, -4.59214193e-02,\n        -4.30771938e-02, -3.16518072e-01,  6.75984690e-01],\n       [-2.79927579e-02,  4.12334399e-01,  1.18521250e-01,\n         3.18960057e-01,  6.34138967e-01, -2.12491319e-01,\n         1.89263145e-01, -1.38984588e-02,  3.26145377e-01,\n         3.20961365e-01, -8.34702025e-02,  1.17308011e-01],\n       [-2.63121398e-02,  4.61905246e-01, -2.88005393e-01,\n         2.17390419e-01, -6.50610832e-01,  3.81547452e-02,\n        -7.10328758e-02, -6.79272141e-02,  3.31673355e-01,\n         3.29833708e-01,  2.97236884e-02, -4.06756860e-02],\n       [ 9.60254816e-02,  7.27988479e-02,  5.88283663e-01,\n        -6.09817505e-01, -1.44866990e-01,  5.86646681e-02,\n         3.88738341e-02,  2.52338456e-01,  3.02884007e-01,\n         2.90734093e-01, -2.46841664e-02,  3.21896664e-02],\n       [-5.99776745e-02,  6.52054029e-01,  4.21253893e-01,\n         9.91100917e-02, -1.28723195e-01, -1.51784416e-03,\n         2.79971426e-02,  1.94540966e-02, -4.27115186e-01,\n        -4.28511552e-01, -1.29081168e-02, -3.89341132e-04],\n       [-6.49799847e-02,  4.10681285e-01, -5.80583880e-01,\n        -6.39773336e-01,  2.54282934e-01,  4.58932631e-02,\n         6.77589512e-03,  3.42233132e-02, -7.85568296e-02,\n        -8.07935186e-02, -5.55076400e-03,  4.26505673e-03],\n       [ 9.75965594e-01,  8.29933024e-02, -4.51397398e-02,\n         3.10882212e-03,  2.38890914e-02, -2.27246190e-03,\n         5.59068537e-03, -1.88450200e-01, -3.28445969e-02,\n        -3.64316980e-02, -5.34302330e-03,  9.16739509e-04],\n       [ 1.70016944e-01,  5.34983874e-03, -1.75248229e-01,\n         2.02883548e-01, -7.39947572e-03, -2.69784689e-02,\n         6.82213780e-03,  9.45408330e-01, -4.56180694e-02,\n        -4.98019935e-02, -1.86342759e-03,  1.08649049e-03],\n       [ 3.51804350e-03,  4.29871715e-03,  4.07997951e-03,\n        -4.32764212e-03,  5.55927789e-04, -2.27850486e-03,\n        -2.68781414e-04,  4.44134676e-03, -7.03674187e-01,\n         7.10458337e-01,  2.26781281e-04, -1.02408187e-04]])"
     },
     "execution_count": 66,
     "metadata": {},
     "output_type": "execute_result"
    }
   ],
   "source": [
    "result.components_"
   ],
   "metadata": {
    "collapsed": false,
    "ExecuteTime": {
     "end_time": "2023-10-26T17:22:03.118389Z",
     "start_time": "2023-10-26T17:22:02.880777Z"
    }
   },
   "id": "79a9ccad47b5b6d3"
  },
  {
   "cell_type": "code",
   "execution_count": 67,
   "outputs": [
    {
     "name": "stderr",
     "output_type": "stream",
     "text": [
      "/Users/nicolegros/Documents/school/release-eng/replication-project/venv/lib/python3.9/site-packages/sklearn/base.py:1152: DataConversionWarning: A column-vector y was passed when a 1d array was expected. Please change the shape of y to (n_samples,), for example using ravel().\n",
      "  return fit_method(estimator, *args, **kwargs)\n",
      "/Users/nicolegros/Documents/school/release-eng/replication-project/venv/lib/python3.9/site-packages/sklearn/base.py:1152: DataConversionWarning: A column-vector y was passed when a 1d array was expected. Please change the shape of y to (n_samples,), for example using ravel().\n",
      "  return fit_method(estimator, *args, **kwargs)\n",
      "/Users/nicolegros/Documents/school/release-eng/replication-project/venv/lib/python3.9/site-packages/sklearn/base.py:1152: DataConversionWarning: A column-vector y was passed when a 1d array was expected. Please change the shape of y to (n_samples,), for example using ravel().\n",
      "  return fit_method(estimator, *args, **kwargs)\n",
      "/Users/nicolegros/Documents/school/release-eng/replication-project/venv/lib/python3.9/site-packages/sklearn/base.py:1152: DataConversionWarning: A column-vector y was passed when a 1d array was expected. Please change the shape of y to (n_samples,), for example using ravel().\n",
      "  return fit_method(estimator, *args, **kwargs)\n",
      "/Users/nicolegros/Documents/school/release-eng/replication-project/venv/lib/python3.9/site-packages/sklearn/base.py:1152: DataConversionWarning: A column-vector y was passed when a 1d array was expected. Please change the shape of y to (n_samples,), for example using ravel().\n",
      "  return fit_method(estimator, *args, **kwargs)\n",
      "/Users/nicolegros/Documents/school/release-eng/replication-project/venv/lib/python3.9/site-packages/sklearn/base.py:1152: DataConversionWarning: A column-vector y was passed when a 1d array was expected. Please change the shape of y to (n_samples,), for example using ravel().\n",
      "  return fit_method(estimator, *args, **kwargs)\n",
      "/Users/nicolegros/Documents/school/release-eng/replication-project/venv/lib/python3.9/site-packages/sklearn/base.py:1152: DataConversionWarning: A column-vector y was passed when a 1d array was expected. Please change the shape of y to (n_samples,), for example using ravel().\n",
      "  return fit_method(estimator, *args, **kwargs)\n",
      "/Users/nicolegros/Documents/school/release-eng/replication-project/venv/lib/python3.9/site-packages/sklearn/base.py:1152: DataConversionWarning: A column-vector y was passed when a 1d array was expected. Please change the shape of y to (n_samples,), for example using ravel().\n",
      "  return fit_method(estimator, *args, **kwargs)\n",
      "/Users/nicolegros/Documents/school/release-eng/replication-project/venv/lib/python3.9/site-packages/sklearn/base.py:1152: DataConversionWarning: A column-vector y was passed when a 1d array was expected. Please change the shape of y to (n_samples,), for example using ravel().\n",
      "  return fit_method(estimator, *args, **kwargs)\n",
      "/Users/nicolegros/Documents/school/release-eng/replication-project/venv/lib/python3.9/site-packages/sklearn/base.py:1152: DataConversionWarning: A column-vector y was passed when a 1d array was expected. Please change the shape of y to (n_samples,), for example using ravel().\n",
      "  return fit_method(estimator, *args, **kwargs)\n",
      "/Users/nicolegros/Documents/school/release-eng/replication-project/venv/lib/python3.9/site-packages/sklearn/base.py:1152: DataConversionWarning: A column-vector y was passed when a 1d array was expected. Please change the shape of y to (n_samples,), for example using ravel().\n",
      "  return fit_method(estimator, *args, **kwargs)\n",
      "/Users/nicolegros/Documents/school/release-eng/replication-project/venv/lib/python3.9/site-packages/sklearn/base.py:1152: DataConversionWarning: A column-vector y was passed when a 1d array was expected. Please change the shape of y to (n_samples,), for example using ravel().\n",
      "  return fit_method(estimator, *args, **kwargs)\n",
      "/Users/nicolegros/Documents/school/release-eng/replication-project/venv/lib/python3.9/site-packages/sklearn/base.py:1152: DataConversionWarning: A column-vector y was passed when a 1d array was expected. Please change the shape of y to (n_samples,), for example using ravel().\n",
      "  return fit_method(estimator, *args, **kwargs)\n",
      "/Users/nicolegros/Documents/school/release-eng/replication-project/venv/lib/python3.9/site-packages/sklearn/base.py:1152: DataConversionWarning: A column-vector y was passed when a 1d array was expected. Please change the shape of y to (n_samples,), for example using ravel().\n",
      "  return fit_method(estimator, *args, **kwargs)\n",
      "/Users/nicolegros/Documents/school/release-eng/replication-project/venv/lib/python3.9/site-packages/sklearn/base.py:1152: DataConversionWarning: A column-vector y was passed when a 1d array was expected. Please change the shape of y to (n_samples,), for example using ravel().\n",
      "  return fit_method(estimator, *args, **kwargs)\n",
      "/Users/nicolegros/Documents/school/release-eng/replication-project/venv/lib/python3.9/site-packages/sklearn/base.py:1152: DataConversionWarning: A column-vector y was passed when a 1d array was expected. Please change the shape of y to (n_samples,), for example using ravel().\n",
      "  return fit_method(estimator, *args, **kwargs)\n",
      "/Users/nicolegros/Documents/school/release-eng/replication-project/venv/lib/python3.9/site-packages/sklearn/base.py:1152: DataConversionWarning: A column-vector y was passed when a 1d array was expected. Please change the shape of y to (n_samples,), for example using ravel().\n",
      "  return fit_method(estimator, *args, **kwargs)\n",
      "/Users/nicolegros/Documents/school/release-eng/replication-project/venv/lib/python3.9/site-packages/sklearn/base.py:1152: DataConversionWarning: A column-vector y was passed when a 1d array was expected. Please change the shape of y to (n_samples,), for example using ravel().\n",
      "  return fit_method(estimator, *args, **kwargs)\n",
      "/Users/nicolegros/Documents/school/release-eng/replication-project/venv/lib/python3.9/site-packages/sklearn/base.py:1152: DataConversionWarning: A column-vector y was passed when a 1d array was expected. Please change the shape of y to (n_samples,), for example using ravel().\n",
      "  return fit_method(estimator, *args, **kwargs)\n",
      "/Users/nicolegros/Documents/school/release-eng/replication-project/venv/lib/python3.9/site-packages/sklearn/base.py:1152: DataConversionWarning: A column-vector y was passed when a 1d array was expected. Please change the shape of y to (n_samples,), for example using ravel().\n",
      "  return fit_method(estimator, *args, **kwargs)\n",
      "/Users/nicolegros/Documents/school/release-eng/replication-project/venv/lib/python3.9/site-packages/sklearn/base.py:1152: DataConversionWarning: A column-vector y was passed when a 1d array was expected. Please change the shape of y to (n_samples,), for example using ravel().\n",
      "  return fit_method(estimator, *args, **kwargs)\n",
      "/Users/nicolegros/Documents/school/release-eng/replication-project/venv/lib/python3.9/site-packages/sklearn/base.py:1152: DataConversionWarning: A column-vector y was passed when a 1d array was expected. Please change the shape of y to (n_samples,), for example using ravel().\n",
      "  return fit_method(estimator, *args, **kwargs)\n",
      "/Users/nicolegros/Documents/school/release-eng/replication-project/venv/lib/python3.9/site-packages/sklearn/base.py:1152: DataConversionWarning: A column-vector y was passed when a 1d array was expected. Please change the shape of y to (n_samples,), for example using ravel().\n",
      "  return fit_method(estimator, *args, **kwargs)\n",
      "/Users/nicolegros/Documents/school/release-eng/replication-project/venv/lib/python3.9/site-packages/sklearn/base.py:1152: DataConversionWarning: A column-vector y was passed when a 1d array was expected. Please change the shape of y to (n_samples,), for example using ravel().\n",
      "  return fit_method(estimator, *args, **kwargs)\n",
      "/Users/nicolegros/Documents/school/release-eng/replication-project/venv/lib/python3.9/site-packages/sklearn/base.py:1152: DataConversionWarning: A column-vector y was passed when a 1d array was expected. Please change the shape of y to (n_samples,), for example using ravel().\n",
      "  return fit_method(estimator, *args, **kwargs)\n",
      "/Users/nicolegros/Documents/school/release-eng/replication-project/venv/lib/python3.9/site-packages/sklearn/base.py:1152: DataConversionWarning: A column-vector y was passed when a 1d array was expected. Please change the shape of y to (n_samples,), for example using ravel().\n",
      "  return fit_method(estimator, *args, **kwargs)\n",
      "/Users/nicolegros/Documents/school/release-eng/replication-project/venv/lib/python3.9/site-packages/sklearn/base.py:1152: DataConversionWarning: A column-vector y was passed when a 1d array was expected. Please change the shape of y to (n_samples,), for example using ravel().\n",
      "  return fit_method(estimator, *args, **kwargs)\n",
      "/Users/nicolegros/Documents/school/release-eng/replication-project/venv/lib/python3.9/site-packages/sklearn/base.py:1152: DataConversionWarning: A column-vector y was passed when a 1d array was expected. Please change the shape of y to (n_samples,), for example using ravel().\n",
      "  return fit_method(estimator, *args, **kwargs)\n",
      "/Users/nicolegros/Documents/school/release-eng/replication-project/venv/lib/python3.9/site-packages/sklearn/base.py:1152: DataConversionWarning: A column-vector y was passed when a 1d array was expected. Please change the shape of y to (n_samples,), for example using ravel().\n",
      "  return fit_method(estimator, *args, **kwargs)\n",
      "/Users/nicolegros/Documents/school/release-eng/replication-project/venv/lib/python3.9/site-packages/sklearn/base.py:1152: DataConversionWarning: A column-vector y was passed when a 1d array was expected. Please change the shape of y to (n_samples,), for example using ravel().\n",
      "  return fit_method(estimator, *args, **kwargs)\n",
      "/Users/nicolegros/Documents/school/release-eng/replication-project/venv/lib/python3.9/site-packages/sklearn/base.py:1152: DataConversionWarning: A column-vector y was passed when a 1d array was expected. Please change the shape of y to (n_samples,), for example using ravel().\n",
      "  return fit_method(estimator, *args, **kwargs)\n",
      "/Users/nicolegros/Documents/school/release-eng/replication-project/venv/lib/python3.9/site-packages/sklearn/base.py:1152: DataConversionWarning: A column-vector y was passed when a 1d array was expected. Please change the shape of y to (n_samples,), for example using ravel().\n",
      "  return fit_method(estimator, *args, **kwargs)\n",
      "/Users/nicolegros/Documents/school/release-eng/replication-project/venv/lib/python3.9/site-packages/sklearn/base.py:1152: DataConversionWarning: A column-vector y was passed when a 1d array was expected. Please change the shape of y to (n_samples,), for example using ravel().\n",
      "  return fit_method(estimator, *args, **kwargs)\n",
      "/Users/nicolegros/Documents/school/release-eng/replication-project/venv/lib/python3.9/site-packages/sklearn/base.py:1152: DataConversionWarning: A column-vector y was passed when a 1d array was expected. Please change the shape of y to (n_samples,), for example using ravel().\n",
      "  return fit_method(estimator, *args, **kwargs)\n",
      "/Users/nicolegros/Documents/school/release-eng/replication-project/venv/lib/python3.9/site-packages/sklearn/base.py:1152: DataConversionWarning: A column-vector y was passed when a 1d array was expected. Please change the shape of y to (n_samples,), for example using ravel().\n",
      "  return fit_method(estimator, *args, **kwargs)\n",
      "/Users/nicolegros/Documents/school/release-eng/replication-project/venv/lib/python3.9/site-packages/sklearn/base.py:1152: DataConversionWarning: A column-vector y was passed when a 1d array was expected. Please change the shape of y to (n_samples,), for example using ravel().\n",
      "  return fit_method(estimator, *args, **kwargs)\n",
      "/Users/nicolegros/Documents/school/release-eng/replication-project/venv/lib/python3.9/site-packages/sklearn/base.py:1152: DataConversionWarning: A column-vector y was passed when a 1d array was expected. Please change the shape of y to (n_samples,), for example using ravel().\n",
      "  return fit_method(estimator, *args, **kwargs)\n",
      "/Users/nicolegros/Documents/school/release-eng/replication-project/venv/lib/python3.9/site-packages/sklearn/base.py:1152: DataConversionWarning: A column-vector y was passed when a 1d array was expected. Please change the shape of y to (n_samples,), for example using ravel().\n",
      "  return fit_method(estimator, *args, **kwargs)\n",
      "/Users/nicolegros/Documents/school/release-eng/replication-project/venv/lib/python3.9/site-packages/sklearn/base.py:1152: DataConversionWarning: A column-vector y was passed when a 1d array was expected. Please change the shape of y to (n_samples,), for example using ravel().\n",
      "  return fit_method(estimator, *args, **kwargs)\n",
      "/Users/nicolegros/Documents/school/release-eng/replication-project/venv/lib/python3.9/site-packages/sklearn/base.py:1152: DataConversionWarning: A column-vector y was passed when a 1d array was expected. Please change the shape of y to (n_samples,), for example using ravel().\n",
      "  return fit_method(estimator, *args, **kwargs)\n",
      "/Users/nicolegros/Documents/school/release-eng/replication-project/venv/lib/python3.9/site-packages/sklearn/utils/validation.py:1183: DataConversionWarning: A column-vector y was passed when a 1d array was expected. Please change the shape of y to (n_samples, ), for example using ravel().\n",
      "  y = column_or_1d(y, warn=True)\n",
      "/Users/nicolegros/Documents/school/release-eng/replication-project/venv/lib/python3.9/site-packages/sklearn/utils/validation.py:1183: DataConversionWarning: A column-vector y was passed when a 1d array was expected. Please change the shape of y to (n_samples, ), for example using ravel().\n",
      "  y = column_or_1d(y, warn=True)\n",
      "/Users/nicolegros/Documents/school/release-eng/replication-project/venv/lib/python3.9/site-packages/sklearn/utils/validation.py:1183: DataConversionWarning: A column-vector y was passed when a 1d array was expected. Please change the shape of y to (n_samples, ), for example using ravel().\n",
      "  y = column_or_1d(y, warn=True)\n",
      "/Users/nicolegros/Documents/school/release-eng/replication-project/venv/lib/python3.9/site-packages/sklearn/utils/validation.py:1183: DataConversionWarning: A column-vector y was passed when a 1d array was expected. Please change the shape of y to (n_samples, ), for example using ravel().\n",
      "  y = column_or_1d(y, warn=True)\n",
      "/Users/nicolegros/Documents/school/release-eng/replication-project/venv/lib/python3.9/site-packages/sklearn/utils/validation.py:1183: DataConversionWarning: A column-vector y was passed when a 1d array was expected. Please change the shape of y to (n_samples, ), for example using ravel().\n",
      "  y = column_or_1d(y, warn=True)\n",
      "/Users/nicolegros/Documents/school/release-eng/replication-project/venv/lib/python3.9/site-packages/sklearn/utils/validation.py:1183: DataConversionWarning: A column-vector y was passed when a 1d array was expected. Please change the shape of y to (n_samples, ), for example using ravel().\n",
      "  y = column_or_1d(y, warn=True)\n",
      "/Users/nicolegros/Documents/school/release-eng/replication-project/venv/lib/python3.9/site-packages/sklearn/utils/validation.py:1183: DataConversionWarning: A column-vector y was passed when a 1d array was expected. Please change the shape of y to (n_samples, ), for example using ravel().\n",
      "  y = column_or_1d(y, warn=True)\n",
      "/Users/nicolegros/Documents/school/release-eng/replication-project/venv/lib/python3.9/site-packages/sklearn/utils/validation.py:1183: DataConversionWarning: A column-vector y was passed when a 1d array was expected. Please change the shape of y to (n_samples, ), for example using ravel().\n",
      "  y = column_or_1d(y, warn=True)\n",
      "/Users/nicolegros/Documents/school/release-eng/replication-project/venv/lib/python3.9/site-packages/sklearn/utils/validation.py:1183: DataConversionWarning: A column-vector y was passed when a 1d array was expected. Please change the shape of y to (n_samples, ), for example using ravel().\n",
      "  y = column_or_1d(y, warn=True)\n",
      "/Users/nicolegros/Documents/school/release-eng/replication-project/venv/lib/python3.9/site-packages/sklearn/utils/validation.py:1183: DataConversionWarning: A column-vector y was passed when a 1d array was expected. Please change the shape of y to (n_samples, ), for example using ravel().\n",
      "  y = column_or_1d(y, warn=True)\n",
      "/Users/nicolegros/Documents/school/release-eng/replication-project/venv/lib/python3.9/site-packages/sklearn/utils/validation.py:1183: DataConversionWarning: A column-vector y was passed when a 1d array was expected. Please change the shape of y to (n_samples, ), for example using ravel().\n",
      "  y = column_or_1d(y, warn=True)\n",
      "/Users/nicolegros/Documents/school/release-eng/replication-project/venv/lib/python3.9/site-packages/sklearn/utils/validation.py:1183: DataConversionWarning: A column-vector y was passed when a 1d array was expected. Please change the shape of y to (n_samples, ), for example using ravel().\n",
      "  y = column_or_1d(y, warn=True)\n",
      "/Users/nicolegros/Documents/school/release-eng/replication-project/venv/lib/python3.9/site-packages/sklearn/utils/validation.py:1183: DataConversionWarning: A column-vector y was passed when a 1d array was expected. Please change the shape of y to (n_samples, ), for example using ravel().\n",
      "  y = column_or_1d(y, warn=True)\n",
      "/Users/nicolegros/Documents/school/release-eng/replication-project/venv/lib/python3.9/site-packages/sklearn/utils/validation.py:1183: DataConversionWarning: A column-vector y was passed when a 1d array was expected. Please change the shape of y to (n_samples, ), for example using ravel().\n",
      "  y = column_or_1d(y, warn=True)\n",
      "/Users/nicolegros/Documents/school/release-eng/replication-project/venv/lib/python3.9/site-packages/sklearn/utils/validation.py:1183: DataConversionWarning: A column-vector y was passed when a 1d array was expected. Please change the shape of y to (n_samples, ), for example using ravel().\n",
      "  y = column_or_1d(y, warn=True)\n",
      "/Users/nicolegros/Documents/school/release-eng/replication-project/venv/lib/python3.9/site-packages/sklearn/utils/validation.py:1183: DataConversionWarning: A column-vector y was passed when a 1d array was expected. Please change the shape of y to (n_samples, ), for example using ravel().\n",
      "  y = column_or_1d(y, warn=True)\n",
      "/Users/nicolegros/Documents/school/release-eng/replication-project/venv/lib/python3.9/site-packages/sklearn/utils/validation.py:1183: DataConversionWarning: A column-vector y was passed when a 1d array was expected. Please change the shape of y to (n_samples, ), for example using ravel().\n",
      "  y = column_or_1d(y, warn=True)\n",
      "/Users/nicolegros/Documents/school/release-eng/replication-project/venv/lib/python3.9/site-packages/sklearn/utils/validation.py:1183: DataConversionWarning: A column-vector y was passed when a 1d array was expected. Please change the shape of y to (n_samples, ), for example using ravel().\n",
      "  y = column_or_1d(y, warn=True)\n",
      "/Users/nicolegros/Documents/school/release-eng/replication-project/venv/lib/python3.9/site-packages/sklearn/utils/validation.py:1183: DataConversionWarning: A column-vector y was passed when a 1d array was expected. Please change the shape of y to (n_samples, ), for example using ravel().\n",
      "  y = column_or_1d(y, warn=True)\n",
      "/Users/nicolegros/Documents/school/release-eng/replication-project/venv/lib/python3.9/site-packages/sklearn/utils/validation.py:1183: DataConversionWarning: A column-vector y was passed when a 1d array was expected. Please change the shape of y to (n_samples, ), for example using ravel().\n",
      "  y = column_or_1d(y, warn=True)\n",
      "/Users/nicolegros/Documents/school/release-eng/replication-project/venv/lib/python3.9/site-packages/sklearn/utils/validation.py:1183: DataConversionWarning: A column-vector y was passed when a 1d array was expected. Please change the shape of y to (n_samples, ), for example using ravel().\n",
      "  y = column_or_1d(y, warn=True)\n",
      "/Users/nicolegros/Documents/school/release-eng/replication-project/venv/lib/python3.9/site-packages/sklearn/utils/validation.py:1183: DataConversionWarning: A column-vector y was passed when a 1d array was expected. Please change the shape of y to (n_samples, ), for example using ravel().\n",
      "  y = column_or_1d(y, warn=True)\n",
      "/Users/nicolegros/Documents/school/release-eng/replication-project/venv/lib/python3.9/site-packages/sklearn/utils/validation.py:1183: DataConversionWarning: A column-vector y was passed when a 1d array was expected. Please change the shape of y to (n_samples, ), for example using ravel().\n",
      "  y = column_or_1d(y, warn=True)\n",
      "/Users/nicolegros/Documents/school/release-eng/replication-project/venv/lib/python3.9/site-packages/sklearn/utils/validation.py:1183: DataConversionWarning: A column-vector y was passed when a 1d array was expected. Please change the shape of y to (n_samples, ), for example using ravel().\n",
      "  y = column_or_1d(y, warn=True)\n",
      "/Users/nicolegros/Documents/school/release-eng/replication-project/venv/lib/python3.9/site-packages/sklearn/utils/validation.py:1183: DataConversionWarning: A column-vector y was passed when a 1d array was expected. Please change the shape of y to (n_samples, ), for example using ravel().\n",
      "  y = column_or_1d(y, warn=True)\n",
      "/Users/nicolegros/Documents/school/release-eng/replication-project/venv/lib/python3.9/site-packages/sklearn/utils/validation.py:1183: DataConversionWarning: A column-vector y was passed when a 1d array was expected. Please change the shape of y to (n_samples, ), for example using ravel().\n",
      "  y = column_or_1d(y, warn=True)\n",
      "/Users/nicolegros/Documents/school/release-eng/replication-project/venv/lib/python3.9/site-packages/sklearn/utils/validation.py:1183: DataConversionWarning: A column-vector y was passed when a 1d array was expected. Please change the shape of y to (n_samples, ), for example using ravel().\n",
      "  y = column_or_1d(y, warn=True)\n",
      "/Users/nicolegros/Documents/school/release-eng/replication-project/venv/lib/python3.9/site-packages/sklearn/utils/validation.py:1183: DataConversionWarning: A column-vector y was passed when a 1d array was expected. Please change the shape of y to (n_samples, ), for example using ravel().\n",
      "  y = column_or_1d(y, warn=True)\n",
      "/Users/nicolegros/Documents/school/release-eng/replication-project/venv/lib/python3.9/site-packages/sklearn/utils/validation.py:1183: DataConversionWarning: A column-vector y was passed when a 1d array was expected. Please change the shape of y to (n_samples, ), for example using ravel().\n",
      "  y = column_or_1d(y, warn=True)\n",
      "/Users/nicolegros/Documents/school/release-eng/replication-project/venv/lib/python3.9/site-packages/sklearn/utils/validation.py:1183: DataConversionWarning: A column-vector y was passed when a 1d array was expected. Please change the shape of y to (n_samples, ), for example using ravel().\n",
      "  y = column_or_1d(y, warn=True)\n",
      "/Users/nicolegros/Documents/school/release-eng/replication-project/venv/lib/python3.9/site-packages/sklearn/utils/validation.py:1183: DataConversionWarning: A column-vector y was passed when a 1d array was expected. Please change the shape of y to (n_samples, ), for example using ravel().\n",
      "  y = column_or_1d(y, warn=True)\n",
      "/Users/nicolegros/Documents/school/release-eng/replication-project/venv/lib/python3.9/site-packages/sklearn/utils/validation.py:1183: DataConversionWarning: A column-vector y was passed when a 1d array was expected. Please change the shape of y to (n_samples, ), for example using ravel().\n",
      "  y = column_or_1d(y, warn=True)\n",
      "/Users/nicolegros/Documents/school/release-eng/replication-project/venv/lib/python3.9/site-packages/sklearn/utils/validation.py:1183: DataConversionWarning: A column-vector y was passed when a 1d array was expected. Please change the shape of y to (n_samples, ), for example using ravel().\n",
      "  y = column_or_1d(y, warn=True)\n",
      "/Users/nicolegros/Documents/school/release-eng/replication-project/venv/lib/python3.9/site-packages/sklearn/utils/validation.py:1183: DataConversionWarning: A column-vector y was passed when a 1d array was expected. Please change the shape of y to (n_samples, ), for example using ravel().\n",
      "  y = column_or_1d(y, warn=True)\n",
      "/Users/nicolegros/Documents/school/release-eng/replication-project/venv/lib/python3.9/site-packages/sklearn/utils/validation.py:1183: DataConversionWarning: A column-vector y was passed when a 1d array was expected. Please change the shape of y to (n_samples, ), for example using ravel().\n",
      "  y = column_or_1d(y, warn=True)\n",
      "/Users/nicolegros/Documents/school/release-eng/replication-project/venv/lib/python3.9/site-packages/sklearn/utils/validation.py:1183: DataConversionWarning: A column-vector y was passed when a 1d array was expected. Please change the shape of y to (n_samples, ), for example using ravel().\n",
      "  y = column_or_1d(y, warn=True)\n",
      "/Users/nicolegros/Documents/school/release-eng/replication-project/venv/lib/python3.9/site-packages/sklearn/utils/validation.py:1183: DataConversionWarning: A column-vector y was passed when a 1d array was expected. Please change the shape of y to (n_samples, ), for example using ravel().\n",
      "  y = column_or_1d(y, warn=True)\n",
      "/Users/nicolegros/Documents/school/release-eng/replication-project/venv/lib/python3.9/site-packages/sklearn/utils/validation.py:1183: DataConversionWarning: A column-vector y was passed when a 1d array was expected. Please change the shape of y to (n_samples, ), for example using ravel().\n",
      "  y = column_or_1d(y, warn=True)\n",
      "/Users/nicolegros/Documents/school/release-eng/replication-project/venv/lib/python3.9/site-packages/sklearn/utils/validation.py:1183: DataConversionWarning: A column-vector y was passed when a 1d array was expected. Please change the shape of y to (n_samples, ), for example using ravel().\n",
      "  y = column_or_1d(y, warn=True)\n",
      "/Users/nicolegros/Documents/school/release-eng/replication-project/venv/lib/python3.9/site-packages/sklearn/utils/validation.py:1183: DataConversionWarning: A column-vector y was passed when a 1d array was expected. Please change the shape of y to (n_samples, ), for example using ravel().\n",
      "  y = column_or_1d(y, warn=True)\n",
      "/Users/nicolegros/Documents/school/release-eng/replication-project/venv/lib/python3.9/site-packages/sklearn/utils/validation.py:1183: DataConversionWarning: A column-vector y was passed when a 1d array was expected. Please change the shape of y to (n_samples, ), for example using ravel().\n",
      "  y = column_or_1d(y, warn=True)\n",
      "/Users/nicolegros/Documents/school/release-eng/replication-project/venv/lib/python3.9/site-packages/sklearn/utils/validation.py:1183: DataConversionWarning: A column-vector y was passed when a 1d array was expected. Please change the shape of y to (n_samples, ), for example using ravel().\n",
      "  y = column_or_1d(y, warn=True)\n",
      "/Users/nicolegros/Documents/school/release-eng/replication-project/venv/lib/python3.9/site-packages/sklearn/utils/validation.py:1183: DataConversionWarning: A column-vector y was passed when a 1d array was expected. Please change the shape of y to (n_samples, ), for example using ravel().\n",
      "  y = column_or_1d(y, warn=True)\n",
      "/Users/nicolegros/Documents/school/release-eng/replication-project/venv/lib/python3.9/site-packages/sklearn/utils/validation.py:1183: DataConversionWarning: A column-vector y was passed when a 1d array was expected. Please change the shape of y to (n_samples, ), for example using ravel().\n",
      "  y = column_or_1d(y, warn=True)\n",
      "/Users/nicolegros/Documents/school/release-eng/replication-project/venv/lib/python3.9/site-packages/sklearn/utils/validation.py:1183: DataConversionWarning: A column-vector y was passed when a 1d array was expected. Please change the shape of y to (n_samples, ), for example using ravel().\n",
      "  y = column_or_1d(y, warn=True)\n",
      "/Users/nicolegros/Documents/school/release-eng/replication-project/venv/lib/python3.9/site-packages/sklearn/utils/validation.py:1183: DataConversionWarning: A column-vector y was passed when a 1d array was expected. Please change the shape of y to (n_samples, ), for example using ravel().\n",
      "  y = column_or_1d(y, warn=True)\n",
      "/Users/nicolegros/Documents/school/release-eng/replication-project/venv/lib/python3.9/site-packages/sklearn/utils/validation.py:1183: DataConversionWarning: A column-vector y was passed when a 1d array was expected. Please change the shape of y to (n_samples, ), for example using ravel().\n",
      "  y = column_or_1d(y, warn=True)\n",
      "/Users/nicolegros/Documents/school/release-eng/replication-project/venv/lib/python3.9/site-packages/sklearn/utils/validation.py:1183: DataConversionWarning: A column-vector y was passed when a 1d array was expected. Please change the shape of y to (n_samples, ), for example using ravel().\n",
      "  y = column_or_1d(y, warn=True)\n",
      "/Users/nicolegros/Documents/school/release-eng/replication-project/venv/lib/python3.9/site-packages/sklearn/utils/validation.py:1183: DataConversionWarning: A column-vector y was passed when a 1d array was expected. Please change the shape of y to (n_samples, ), for example using ravel().\n",
      "  y = column_or_1d(y, warn=True)\n",
      "/Users/nicolegros/Documents/school/release-eng/replication-project/venv/lib/python3.9/site-packages/sklearn/utils/validation.py:1183: DataConversionWarning: A column-vector y was passed when a 1d array was expected. Please change the shape of y to (n_samples, ), for example using ravel().\n",
      "  y = column_or_1d(y, warn=True)\n",
      "/Users/nicolegros/Documents/school/release-eng/replication-project/venv/lib/python3.9/site-packages/sklearn/utils/validation.py:1183: DataConversionWarning: A column-vector y was passed when a 1d array was expected. Please change the shape of y to (n_samples, ), for example using ravel().\n",
      "  y = column_or_1d(y, warn=True)\n",
      "/Users/nicolegros/Documents/school/release-eng/replication-project/venv/lib/python3.9/site-packages/sklearn/utils/validation.py:1183: DataConversionWarning: A column-vector y was passed when a 1d array was expected. Please change the shape of y to (n_samples, ), for example using ravel().\n",
      "  y = column_or_1d(y, warn=True)\n",
      "/Users/nicolegros/Documents/school/release-eng/replication-project/venv/lib/python3.9/site-packages/sklearn/utils/validation.py:1183: DataConversionWarning: A column-vector y was passed when a 1d array was expected. Please change the shape of y to (n_samples, ), for example using ravel().\n",
      "  y = column_or_1d(y, warn=True)\n",
      "/Users/nicolegros/Documents/school/release-eng/replication-project/venv/lib/python3.9/site-packages/sklearn/utils/validation.py:1183: DataConversionWarning: A column-vector y was passed when a 1d array was expected. Please change the shape of y to (n_samples, ), for example using ravel().\n",
      "  y = column_or_1d(y, warn=True)\n",
      "/Users/nicolegros/Documents/school/release-eng/replication-project/venv/lib/python3.9/site-packages/sklearn/utils/validation.py:1183: DataConversionWarning: A column-vector y was passed when a 1d array was expected. Please change the shape of y to (n_samples, ), for example using ravel().\n",
      "  y = column_or_1d(y, warn=True)\n",
      "/Users/nicolegros/Documents/school/release-eng/replication-project/venv/lib/python3.9/site-packages/sklearn/utils/validation.py:1183: DataConversionWarning: A column-vector y was passed when a 1d array was expected. Please change the shape of y to (n_samples, ), for example using ravel().\n",
      "  y = column_or_1d(y, warn=True)\n",
      "/Users/nicolegros/Documents/school/release-eng/replication-project/venv/lib/python3.9/site-packages/sklearn/utils/validation.py:1183: DataConversionWarning: A column-vector y was passed when a 1d array was expected. Please change the shape of y to (n_samples, ), for example using ravel().\n",
      "  y = column_or_1d(y, warn=True)\n",
      "/Users/nicolegros/Documents/school/release-eng/replication-project/venv/lib/python3.9/site-packages/sklearn/utils/validation.py:1183: DataConversionWarning: A column-vector y was passed when a 1d array was expected. Please change the shape of y to (n_samples, ), for example using ravel().\n",
      "  y = column_or_1d(y, warn=True)\n",
      "/Users/nicolegros/Documents/school/release-eng/replication-project/venv/lib/python3.9/site-packages/sklearn/utils/validation.py:1183: DataConversionWarning: A column-vector y was passed when a 1d array was expected. Please change the shape of y to (n_samples, ), for example using ravel().\n",
      "  y = column_or_1d(y, warn=True)\n",
      "/Users/nicolegros/Documents/school/release-eng/replication-project/venv/lib/python3.9/site-packages/sklearn/utils/validation.py:1183: DataConversionWarning: A column-vector y was passed when a 1d array was expected. Please change the shape of y to (n_samples, ), for example using ravel().\n",
      "  y = column_or_1d(y, warn=True)\n",
      "/Users/nicolegros/Documents/school/release-eng/replication-project/venv/lib/python3.9/site-packages/sklearn/utils/validation.py:1183: DataConversionWarning: A column-vector y was passed when a 1d array was expected. Please change the shape of y to (n_samples, ), for example using ravel().\n",
      "  y = column_or_1d(y, warn=True)\n",
      "/Users/nicolegros/Documents/school/release-eng/replication-project/venv/lib/python3.9/site-packages/sklearn/utils/validation.py:1183: DataConversionWarning: A column-vector y was passed when a 1d array was expected. Please change the shape of y to (n_samples, ), for example using ravel().\n",
      "  y = column_or_1d(y, warn=True)\n",
      "/Users/nicolegros/Documents/school/release-eng/replication-project/venv/lib/python3.9/site-packages/sklearn/utils/validation.py:1183: DataConversionWarning: A column-vector y was passed when a 1d array was expected. Please change the shape of y to (n_samples, ), for example using ravel().\n",
      "  y = column_or_1d(y, warn=True)\n",
      "/Users/nicolegros/Documents/school/release-eng/replication-project/venv/lib/python3.9/site-packages/sklearn/utils/validation.py:1183: DataConversionWarning: A column-vector y was passed when a 1d array was expected. Please change the shape of y to (n_samples, ), for example using ravel().\n",
      "  y = column_or_1d(y, warn=True)\n",
      "/Users/nicolegros/Documents/school/release-eng/replication-project/venv/lib/python3.9/site-packages/sklearn/utils/validation.py:1183: DataConversionWarning: A column-vector y was passed when a 1d array was expected. Please change the shape of y to (n_samples, ), for example using ravel().\n",
      "  y = column_or_1d(y, warn=True)\n",
      "/Users/nicolegros/Documents/school/release-eng/replication-project/venv/lib/python3.9/site-packages/sklearn/utils/validation.py:1183: DataConversionWarning: A column-vector y was passed when a 1d array was expected. Please change the shape of y to (n_samples, ), for example using ravel().\n",
      "  y = column_or_1d(y, warn=True)\n",
      "/Users/nicolegros/Documents/school/release-eng/replication-project/venv/lib/python3.9/site-packages/sklearn/utils/validation.py:1183: DataConversionWarning: A column-vector y was passed when a 1d array was expected. Please change the shape of y to (n_samples, ), for example using ravel().\n",
      "  y = column_or_1d(y, warn=True)\n",
      "/Users/nicolegros/Documents/school/release-eng/replication-project/venv/lib/python3.9/site-packages/sklearn/utils/validation.py:1183: DataConversionWarning: A column-vector y was passed when a 1d array was expected. Please change the shape of y to (n_samples, ), for example using ravel().\n",
      "  y = column_or_1d(y, warn=True)\n",
      "/Users/nicolegros/Documents/school/release-eng/replication-project/venv/lib/python3.9/site-packages/sklearn/utils/validation.py:1183: DataConversionWarning: A column-vector y was passed when a 1d array was expected. Please change the shape of y to (n_samples, ), for example using ravel().\n",
      "  y = column_or_1d(y, warn=True)\n",
      "/Users/nicolegros/Documents/school/release-eng/replication-project/venv/lib/python3.9/site-packages/sklearn/utils/validation.py:1183: DataConversionWarning: A column-vector y was passed when a 1d array was expected. Please change the shape of y to (n_samples, ), for example using ravel().\n",
      "  y = column_or_1d(y, warn=True)\n",
      "/Users/nicolegros/Documents/school/release-eng/replication-project/venv/lib/python3.9/site-packages/sklearn/utils/validation.py:1183: DataConversionWarning: A column-vector y was passed when a 1d array was expected. Please change the shape of y to (n_samples, ), for example using ravel().\n",
      "  y = column_or_1d(y, warn=True)\n",
      "/Users/nicolegros/Documents/school/release-eng/replication-project/venv/lib/python3.9/site-packages/sklearn/utils/validation.py:1183: DataConversionWarning: A column-vector y was passed when a 1d array was expected. Please change the shape of y to (n_samples, ), for example using ravel().\n",
      "  y = column_or_1d(y, warn=True)\n",
      "/Users/nicolegros/Documents/school/release-eng/replication-project/venv/lib/python3.9/site-packages/sklearn/utils/validation.py:1183: DataConversionWarning: A column-vector y was passed when a 1d array was expected. Please change the shape of y to (n_samples, ), for example using ravel().\n",
      "  y = column_or_1d(y, warn=True)\n",
      "/Users/nicolegros/Documents/school/release-eng/replication-project/venv/lib/python3.9/site-packages/sklearn/utils/validation.py:1183: DataConversionWarning: A column-vector y was passed when a 1d array was expected. Please change the shape of y to (n_samples, ), for example using ravel().\n",
      "  y = column_or_1d(y, warn=True)\n",
      "/Users/nicolegros/Documents/school/release-eng/replication-project/venv/lib/python3.9/site-packages/sklearn/utils/validation.py:1183: DataConversionWarning: A column-vector y was passed when a 1d array was expected. Please change the shape of y to (n_samples, ), for example using ravel().\n",
      "  y = column_or_1d(y, warn=True)\n",
      "/Users/nicolegros/Documents/school/release-eng/replication-project/venv/lib/python3.9/site-packages/sklearn/utils/validation.py:1183: DataConversionWarning: A column-vector y was passed when a 1d array was expected. Please change the shape of y to (n_samples, ), for example using ravel().\n",
      "  y = column_or_1d(y, warn=True)\n",
      "/Users/nicolegros/Documents/school/release-eng/replication-project/venv/lib/python3.9/site-packages/sklearn/utils/validation.py:1183: DataConversionWarning: A column-vector y was passed when a 1d array was expected. Please change the shape of y to (n_samples, ), for example using ravel().\n",
      "  y = column_or_1d(y, warn=True)\n",
      "/Users/nicolegros/Documents/school/release-eng/replication-project/venv/lib/python3.9/site-packages/sklearn/utils/validation.py:1183: DataConversionWarning: A column-vector y was passed when a 1d array was expected. Please change the shape of y to (n_samples, ), for example using ravel().\n",
      "  y = column_or_1d(y, warn=True)\n",
      "/Users/nicolegros/Documents/school/release-eng/replication-project/venv/lib/python3.9/site-packages/sklearn/utils/validation.py:1183: DataConversionWarning: A column-vector y was passed when a 1d array was expected. Please change the shape of y to (n_samples, ), for example using ravel().\n",
      "  y = column_or_1d(y, warn=True)\n",
      "/Users/nicolegros/Documents/school/release-eng/replication-project/venv/lib/python3.9/site-packages/sklearn/utils/validation.py:1183: DataConversionWarning: A column-vector y was passed when a 1d array was expected. Please change the shape of y to (n_samples, ), for example using ravel().\n",
      "  y = column_or_1d(y, warn=True)\n",
      "/Users/nicolegros/Documents/school/release-eng/replication-project/venv/lib/python3.9/site-packages/sklearn/neighbors/_classification.py:233: DataConversionWarning: A column-vector y was passed when a 1d array was expected. Please change the shape of y to (n_samples,), for example using ravel().\n",
      "  return self._fit(X, y)\n",
      "/Users/nicolegros/Documents/school/release-eng/replication-project/venv/lib/python3.9/site-packages/sklearn/neighbors/_classification.py:233: DataConversionWarning: A column-vector y was passed when a 1d array was expected. Please change the shape of y to (n_samples,), for example using ravel().\n",
      "  return self._fit(X, y)\n",
      "/Users/nicolegros/Documents/school/release-eng/replication-project/venv/lib/python3.9/site-packages/sklearn/neighbors/_classification.py:233: DataConversionWarning: A column-vector y was passed when a 1d array was expected. Please change the shape of y to (n_samples,), for example using ravel().\n",
      "  return self._fit(X, y)\n",
      "/Users/nicolegros/Documents/school/release-eng/replication-project/venv/lib/python3.9/site-packages/sklearn/neighbors/_classification.py:233: DataConversionWarning: A column-vector y was passed when a 1d array was expected. Please change the shape of y to (n_samples,), for example using ravel().\n",
      "  return self._fit(X, y)\n",
      "/Users/nicolegros/Documents/school/release-eng/replication-project/venv/lib/python3.9/site-packages/sklearn/neighbors/_classification.py:233: DataConversionWarning: A column-vector y was passed when a 1d array was expected. Please change the shape of y to (n_samples,), for example using ravel().\n",
      "  return self._fit(X, y)\n",
      "/Users/nicolegros/Documents/school/release-eng/replication-project/venv/lib/python3.9/site-packages/sklearn/neighbors/_classification.py:233: DataConversionWarning: A column-vector y was passed when a 1d array was expected. Please change the shape of y to (n_samples,), for example using ravel().\n",
      "  return self._fit(X, y)\n",
      "/Users/nicolegros/Documents/school/release-eng/replication-project/venv/lib/python3.9/site-packages/sklearn/neighbors/_classification.py:233: DataConversionWarning: A column-vector y was passed when a 1d array was expected. Please change the shape of y to (n_samples,), for example using ravel().\n",
      "  return self._fit(X, y)\n",
      "/Users/nicolegros/Documents/school/release-eng/replication-project/venv/lib/python3.9/site-packages/sklearn/neighbors/_classification.py:233: DataConversionWarning: A column-vector y was passed when a 1d array was expected. Please change the shape of y to (n_samples,), for example using ravel().\n",
      "  return self._fit(X, y)\n",
      "/Users/nicolegros/Documents/school/release-eng/replication-project/venv/lib/python3.9/site-packages/sklearn/neighbors/_classification.py:233: DataConversionWarning: A column-vector y was passed when a 1d array was expected. Please change the shape of y to (n_samples,), for example using ravel().\n",
      "  return self._fit(X, y)\n",
      "/Users/nicolegros/Documents/school/release-eng/replication-project/venv/lib/python3.9/site-packages/sklearn/neighbors/_classification.py:233: DataConversionWarning: A column-vector y was passed when a 1d array was expected. Please change the shape of y to (n_samples,), for example using ravel().\n",
      "  return self._fit(X, y)\n",
      "/Users/nicolegros/Documents/school/release-eng/replication-project/venv/lib/python3.9/site-packages/sklearn/neighbors/_classification.py:233: DataConversionWarning: A column-vector y was passed when a 1d array was expected. Please change the shape of y to (n_samples,), for example using ravel().\n",
      "  return self._fit(X, y)\n",
      "/Users/nicolegros/Documents/school/release-eng/replication-project/venv/lib/python3.9/site-packages/sklearn/neighbors/_classification.py:233: DataConversionWarning: A column-vector y was passed when a 1d array was expected. Please change the shape of y to (n_samples,), for example using ravel().\n",
      "  return self._fit(X, y)\n",
      "/Users/nicolegros/Documents/school/release-eng/replication-project/venv/lib/python3.9/site-packages/sklearn/neighbors/_classification.py:233: DataConversionWarning: A column-vector y was passed when a 1d array was expected. Please change the shape of y to (n_samples,), for example using ravel().\n",
      "  return self._fit(X, y)\n",
      "/Users/nicolegros/Documents/school/release-eng/replication-project/venv/lib/python3.9/site-packages/sklearn/neighbors/_classification.py:233: DataConversionWarning: A column-vector y was passed when a 1d array was expected. Please change the shape of y to (n_samples,), for example using ravel().\n",
      "  return self._fit(X, y)\n",
      "/Users/nicolegros/Documents/school/release-eng/replication-project/venv/lib/python3.9/site-packages/sklearn/neighbors/_classification.py:233: DataConversionWarning: A column-vector y was passed when a 1d array was expected. Please change the shape of y to (n_samples,), for example using ravel().\n",
      "  return self._fit(X, y)\n",
      "/Users/nicolegros/Documents/school/release-eng/replication-project/venv/lib/python3.9/site-packages/sklearn/neighbors/_classification.py:233: DataConversionWarning: A column-vector y was passed when a 1d array was expected. Please change the shape of y to (n_samples,), for example using ravel().\n",
      "  return self._fit(X, y)\n",
      "/Users/nicolegros/Documents/school/release-eng/replication-project/venv/lib/python3.9/site-packages/sklearn/neighbors/_classification.py:233: DataConversionWarning: A column-vector y was passed when a 1d array was expected. Please change the shape of y to (n_samples,), for example using ravel().\n",
      "  return self._fit(X, y)\n",
      "/Users/nicolegros/Documents/school/release-eng/replication-project/venv/lib/python3.9/site-packages/sklearn/neighbors/_classification.py:233: DataConversionWarning: A column-vector y was passed when a 1d array was expected. Please change the shape of y to (n_samples,), for example using ravel().\n",
      "  return self._fit(X, y)\n",
      "/Users/nicolegros/Documents/school/release-eng/replication-project/venv/lib/python3.9/site-packages/sklearn/neighbors/_classification.py:233: DataConversionWarning: A column-vector y was passed when a 1d array was expected. Please change the shape of y to (n_samples,), for example using ravel().\n",
      "  return self._fit(X, y)\n",
      "/Users/nicolegros/Documents/school/release-eng/replication-project/venv/lib/python3.9/site-packages/sklearn/neighbors/_classification.py:233: DataConversionWarning: A column-vector y was passed when a 1d array was expected. Please change the shape of y to (n_samples,), for example using ravel().\n",
      "  return self._fit(X, y)\n",
      "/Users/nicolegros/Documents/school/release-eng/replication-project/venv/lib/python3.9/site-packages/sklearn/neighbors/_classification.py:233: DataConversionWarning: A column-vector y was passed when a 1d array was expected. Please change the shape of y to (n_samples,), for example using ravel().\n",
      "  return self._fit(X, y)\n",
      "/Users/nicolegros/Documents/school/release-eng/replication-project/venv/lib/python3.9/site-packages/sklearn/neighbors/_classification.py:233: DataConversionWarning: A column-vector y was passed when a 1d array was expected. Please change the shape of y to (n_samples,), for example using ravel().\n",
      "  return self._fit(X, y)\n",
      "/Users/nicolegros/Documents/school/release-eng/replication-project/venv/lib/python3.9/site-packages/sklearn/neighbors/_classification.py:233: DataConversionWarning: A column-vector y was passed when a 1d array was expected. Please change the shape of y to (n_samples,), for example using ravel().\n",
      "  return self._fit(X, y)\n",
      "/Users/nicolegros/Documents/school/release-eng/replication-project/venv/lib/python3.9/site-packages/sklearn/neighbors/_classification.py:233: DataConversionWarning: A column-vector y was passed when a 1d array was expected. Please change the shape of y to (n_samples,), for example using ravel().\n",
      "  return self._fit(X, y)\n",
      "/Users/nicolegros/Documents/school/release-eng/replication-project/venv/lib/python3.9/site-packages/sklearn/neighbors/_classification.py:233: DataConversionWarning: A column-vector y was passed when a 1d array was expected. Please change the shape of y to (n_samples,), for example using ravel().\n",
      "  return self._fit(X, y)\n",
      "/Users/nicolegros/Documents/school/release-eng/replication-project/venv/lib/python3.9/site-packages/sklearn/neighbors/_classification.py:233: DataConversionWarning: A column-vector y was passed when a 1d array was expected. Please change the shape of y to (n_samples,), for example using ravel().\n",
      "  return self._fit(X, y)\n",
      "/Users/nicolegros/Documents/school/release-eng/replication-project/venv/lib/python3.9/site-packages/sklearn/neighbors/_classification.py:233: DataConversionWarning: A column-vector y was passed when a 1d array was expected. Please change the shape of y to (n_samples,), for example using ravel().\n",
      "  return self._fit(X, y)\n",
      "/Users/nicolegros/Documents/school/release-eng/replication-project/venv/lib/python3.9/site-packages/sklearn/neighbors/_classification.py:233: DataConversionWarning: A column-vector y was passed when a 1d array was expected. Please change the shape of y to (n_samples,), for example using ravel().\n",
      "  return self._fit(X, y)\n",
      "/Users/nicolegros/Documents/school/release-eng/replication-project/venv/lib/python3.9/site-packages/sklearn/neighbors/_classification.py:233: DataConversionWarning: A column-vector y was passed when a 1d array was expected. Please change the shape of y to (n_samples,), for example using ravel().\n",
      "  return self._fit(X, y)\n",
      "/Users/nicolegros/Documents/school/release-eng/replication-project/venv/lib/python3.9/site-packages/sklearn/neighbors/_classification.py:233: DataConversionWarning: A column-vector y was passed when a 1d array was expected. Please change the shape of y to (n_samples,), for example using ravel().\n",
      "  return self._fit(X, y)\n",
      "/Users/nicolegros/Documents/school/release-eng/replication-project/venv/lib/python3.9/site-packages/sklearn/neighbors/_classification.py:233: DataConversionWarning: A column-vector y was passed when a 1d array was expected. Please change the shape of y to (n_samples,), for example using ravel().\n",
      "  return self._fit(X, y)\n",
      "/Users/nicolegros/Documents/school/release-eng/replication-project/venv/lib/python3.9/site-packages/sklearn/neighbors/_classification.py:233: DataConversionWarning: A column-vector y was passed when a 1d array was expected. Please change the shape of y to (n_samples,), for example using ravel().\n",
      "  return self._fit(X, y)\n",
      "/Users/nicolegros/Documents/school/release-eng/replication-project/venv/lib/python3.9/site-packages/sklearn/neighbors/_classification.py:233: DataConversionWarning: A column-vector y was passed when a 1d array was expected. Please change the shape of y to (n_samples,), for example using ravel().\n",
      "  return self._fit(X, y)\n",
      "/Users/nicolegros/Documents/school/release-eng/replication-project/venv/lib/python3.9/site-packages/sklearn/neighbors/_classification.py:233: DataConversionWarning: A column-vector y was passed when a 1d array was expected. Please change the shape of y to (n_samples,), for example using ravel().\n",
      "  return self._fit(X, y)\n",
      "/Users/nicolegros/Documents/school/release-eng/replication-project/venv/lib/python3.9/site-packages/sklearn/neighbors/_classification.py:233: DataConversionWarning: A column-vector y was passed when a 1d array was expected. Please change the shape of y to (n_samples,), for example using ravel().\n",
      "  return self._fit(X, y)\n",
      "/Users/nicolegros/Documents/school/release-eng/replication-project/venv/lib/python3.9/site-packages/sklearn/neighbors/_classification.py:233: DataConversionWarning: A column-vector y was passed when a 1d array was expected. Please change the shape of y to (n_samples,), for example using ravel().\n",
      "  return self._fit(X, y)\n",
      "/Users/nicolegros/Documents/school/release-eng/replication-project/venv/lib/python3.9/site-packages/sklearn/neighbors/_classification.py:233: DataConversionWarning: A column-vector y was passed when a 1d array was expected. Please change the shape of y to (n_samples,), for example using ravel().\n",
      "  return self._fit(X, y)\n",
      "/Users/nicolegros/Documents/school/release-eng/replication-project/venv/lib/python3.9/site-packages/sklearn/neighbors/_classification.py:233: DataConversionWarning: A column-vector y was passed when a 1d array was expected. Please change the shape of y to (n_samples,), for example using ravel().\n",
      "  return self._fit(X, y)\n",
      "/Users/nicolegros/Documents/school/release-eng/replication-project/venv/lib/python3.9/site-packages/sklearn/neighbors/_classification.py:233: DataConversionWarning: A column-vector y was passed when a 1d array was expected. Please change the shape of y to (n_samples,), for example using ravel().\n",
      "  return self._fit(X, y)\n",
      "/Users/nicolegros/Documents/school/release-eng/replication-project/venv/lib/python3.9/site-packages/sklearn/neighbors/_classification.py:233: DataConversionWarning: A column-vector y was passed when a 1d array was expected. Please change the shape of y to (n_samples,), for example using ravel().\n",
      "  return self._fit(X, y)\n"
     ]
    },
    {
     "data": {
      "text/plain": "                 RF        NB        LR       KNN      CART\nauc        0.664721  0.709438  0.736270  0.699140  0.583164\nrecall     0.591171  0.366128  0.586200  0.627349  0.587493\nprecision  0.664007  0.885945  0.774041  0.732415  0.666620\nf1         0.628276  0.515651  0.663515  0.673132  0.623400",
      "text/html": "<div>\n<style scoped>\n    .dataframe tbody tr th:only-of-type {\n        vertical-align: middle;\n    }\n\n    .dataframe tbody tr th {\n        vertical-align: top;\n    }\n\n    .dataframe thead th {\n        text-align: right;\n    }\n</style>\n<table border=\"1\" class=\"dataframe\">\n  <thead>\n    <tr style=\"text-align: right;\">\n      <th></th>\n      <th>RF</th>\n      <th>NB</th>\n      <th>LR</th>\n      <th>KNN</th>\n      <th>CART</th>\n    </tr>\n  </thead>\n  <tbody>\n    <tr>\n      <th>auc</th>\n      <td>0.664721</td>\n      <td>0.709438</td>\n      <td>0.736270</td>\n      <td>0.699140</td>\n      <td>0.583164</td>\n    </tr>\n    <tr>\n      <th>recall</th>\n      <td>0.591171</td>\n      <td>0.366128</td>\n      <td>0.586200</td>\n      <td>0.627349</td>\n      <td>0.587493</td>\n    </tr>\n    <tr>\n      <th>precision</th>\n      <td>0.664007</td>\n      <td>0.885945</td>\n      <td>0.774041</td>\n      <td>0.732415</td>\n      <td>0.666620</td>\n    </tr>\n    <tr>\n      <th>f1</th>\n      <td>0.628276</td>\n      <td>0.515651</td>\n      <td>0.663515</td>\n      <td>0.673132</td>\n      <td>0.623400</td>\n    </tr>\n  </tbody>\n</table>\n</div>"
     },
     "execution_count": 67,
     "metadata": {},
     "output_type": "execute_result"
    }
   ],
   "source": [
    "from sklearn.tree import DecisionTreeClassifier\n",
    "from sklearn.model_selection import ShuffleSplit, cross_val_score\n",
    "from sklearn.ensemble import RandomForestClassifier\n",
    "from sklearn.naive_bayes import GaussianNB\n",
    "from sklearn.neighbors import KNeighborsClassifier\n",
    "from sklearn.linear_model import LogisticRegression\n",
    "\n",
    "data_for_models = result.transform(X)[:, 0]\n",
    "d = data_for_models.reshape(-1, 1)\n",
    "Y = wikimedia[\"defect_status\"]\n",
    "df = pd.DataFrame(d, columns=[\"value\"]).merge(Y, left_index=True, right_index=True)\n",
    "\n",
    "cv = ShuffleSplit(n_splits=10, test_size=0.3, random_state=0)\n",
    "\n",
    "results = {}\n",
    "for classifier in [createdict(RandomForestClassifier(), \"RF\"),\n",
    "                   createdict(GaussianNB(), \"NB\"),\n",
    "                   createdict(LogisticRegression(), \"LR\"),\n",
    "                   createdict(KNeighborsClassifier(), \"KNN\"),\n",
    "                   createdict(DecisionTreeClassifier(), \"CART\")]:\n",
    "    auc = cross_val_score(classifier[\"classifier\"], utils.X(df), utils.Y(df), cv=cv, scoring='roc_auc').mean()\n",
    "    recall = cross_val_score(classifier[\"classifier\"], utils.X(df), utils.Y(df), cv=cv, scoring='recall').mean()\n",
    "    precision = cross_val_score(classifier[\"classifier\"], utils.X(df), utils.Y(df), cv=cv, scoring='precision').mean()\n",
    "    f1 = cross_val_score(classifier[\"classifier\"], utils.X(df), utils.Y(df), cv=cv, scoring='f1').mean()\n",
    "    results[classifier[\"name\"]] = {\n",
    "        \"auc\": auc,\n",
    "        \"recall\": recall,\n",
    "        \"precision\": precision,\n",
    "        \"f1\": f1\n",
    "    }\n",
    "pd.DataFrame.from_dict(results)"
   ],
   "metadata": {
    "collapsed": false,
    "ExecuteTime": {
     "end_time": "2023-10-26T17:22:07.413965Z",
     "start_time": "2023-10-26T17:22:04.298696Z"
    }
   },
   "id": "664c5d3e0c2a6838"
  },
  {
   "cell_type": "markdown",
   "source": [
    "### Results (Wikimedia)\n",
    "#### PCA Components\n",
    "|  | 0 |\n",
    "| :--- | :--- |\n",
    "| 0 | 8.905204e-01 |\n",
    "| 1 | 6.039172e-02 |\n",
    "| 2 | 3.509797e-02 |\n",
    "| 3 | 1.004226e-02 |\n",
    "| 4 | 1.911199e-03 |\n",
    "| 5 | 1.170253e-03 |\n",
    "| 6 | 3.836090e-04 |\n",
    "| 7 | 1.855638e-04 |\n",
    "| 8 | 1.417460e-04 |\n",
    "| 9 | 9.309379e-05 |\n",
    "| 10 | 6.214737e-05 |\n",
    "| 11 | 4.248852e-08 |\n",
    "\n",
    "\n",
    "\n",
    "#### Components ratios\n",
    "|         | URL      | File     | Require  | Ensure   | Include  | Attribute | Hard coded string | Command  | File mode | SSH key  | Lines of code | Comment  |\n",
    "| :--- | :--- | :--- | :--- | :--- | :--- | :--- | :--- | :--- | :--- | :--- | :--- | :--- |\n",
    "| 0 | 0.003375 | 0.020222 | 0.014258 | 0.023611 | 0.043984 | 0.188185 | 0.229110 | 0.003691 | 0.011284 | 0.011460 | 0.934668 | 0.187357 |\n",
    "| 1 | -0.002590 | -0.012179 | -0.014582 | 0.024772 | -0.000371 | 0.261197 | 0.658631 | -0.003206 | 0.008458 | 0.009728 | -0.073845 | -0.700978 |\n",
    "\n",
    "\n",
    "\n",
    "#### Cross-validation\n",
    "|  | RF | NB | LR | KNN | CART |\n",
    "| :--- | :--- | :--- | :--- | :--- | :--- |\n",
    "| auc | 0.664721 | 0.709438 | 0.736270 | 0.699140 | 0.583164 |\n",
    "| recall | 0.591171 | 0.366128 | 0.586200 | 0.627349 | 0.587493 |\n",
    "| precision | 0.664007 | 0.885945 | 0.774041 | 0.732415 | 0.666620 |\n",
    "| f1 | 0.628276 | 0.515651 | 0.663515 | 0.673132 | 0.623400 |\n"
   ],
   "metadata": {
    "collapsed": false
   },
   "id": "acc7577e6d925406"
  },
  {
   "cell_type": "markdown",
   "source": [
    "## Openstack"
   ],
   "metadata": {
    "collapsed": false
   },
   "id": "884653f31a92b819"
  },
  {
   "cell_type": "code",
   "execution_count": 73,
   "outputs": [
    {
     "data": {
      "text/plain": "array([8.98178655e-01, 8.70372406e-02, 8.32671926e-03, 4.75485657e-03,\n       1.05170262e-03, 2.02385775e-04, 1.67873823e-04, 1.44436378e-04,\n       5.24208668e-05, 4.66811907e-05, 3.58745726e-05, 1.15311668e-06])"
     },
     "execution_count": 73,
     "metadata": {},
     "output_type": "execute_result"
    }
   ],
   "source": [
    "openstack = pd.read_csv(\"../data/IST_OST.csv\")\n",
    "\n",
    "X = openstack.drop(\"defect_status\", axis=1).drop(\"org\", axis=1).drop(\"file_\", axis=1)\n",
    "pca = PCA()\n",
    "result = pca.fit(X)\n",
    "result.explained_variance_ratio_"
   ],
   "metadata": {
    "collapsed": false,
    "ExecuteTime": {
     "end_time": "2023-10-26T17:26:58.822025Z",
     "start_time": "2023-10-26T17:26:58.451918Z"
    }
   },
   "id": "a9ad4851554b82f5"
  },
  {
   "cell_type": "code",
   "execution_count": 74,
   "outputs": [
    {
     "data": {
      "text/plain": "array([[ 4.07868843e-03,  2.56626645e-03,  9.03592256e-01,\n         3.89832304e-03,  1.02988023e-02,  1.91486459e-02,\n         1.56927918e-01,  8.56853594e-02,  3.88624673e-01,\n         9.08766849e-04,  2.28114030e-03,  2.52242943e-03],\n       [-3.02845342e-03,  1.20317006e-02,  2.44985727e-01,\n         1.70430755e-02,  2.95373105e-02,  4.96292508e-02,\n         3.79899314e-01,  3.71528860e-01, -8.08501100e-01,\n         5.31549595e-03,  8.49114955e-03,  8.39717047e-03],\n       [-1.48866289e-02, -1.18610833e-02,  3.25624715e-01,\n        -2.00723819e-02, -3.17068318e-02, -3.64494567e-02,\n        -8.51954829e-01, -1.53354498e-01, -3.76152911e-01,\n        -2.59326851e-03, -3.27154218e-03, -4.04829439e-03],\n       [ 2.44599544e-02, -7.65231367e-03, -1.24934258e-01,\n        -2.30038805e-02, -9.75710914e-02, -1.56056383e-01,\n        -2.97485609e-01,  9.00693585e-01,  2.22346481e-01,\n        -1.21003073e-02, -2.21358663e-04,  8.04195820e-04],\n       [-1.04548682e-02,  1.60923029e-01, -4.24279386e-02,\n         1.87989428e-01,  4.57755762e-01,  8.24240291e-01,\n        -1.28353181e-01,  1.35247581e-01,  6.42347980e-02,\n         4.23740221e-02,  6.20937236e-02,  5.82939171e-02],\n       [ 9.49000400e-01,  2.70558292e-02,  4.63594287e-03,\n         1.78996728e-01, -2.04477978e-01,  7.00489352e-02,\n        -4.53853778e-03, -2.77371016e-02, -1.39575347e-02,\n         5.58718554e-02,  4.61561437e-02,  1.16833192e-01],\n       [ 3.04379373e-01, -7.88002817e-02,  1.26172383e-04,\n        -5.78546474e-01,  6.85844971e-01, -2.06042469e-01,\n        -6.41176839e-03,  1.18893647e-02, -3.26878353e-03,\n        -1.32124868e-01, -1.46119039e-01, -1.20788838e-01],\n       [-4.11258901e-02,  5.91351397e-01,  3.01207629e-03,\n         3.27332799e-02,  2.15421655e-01, -3.12347240e-01,\n        -1.11468295e-03, -2.36623394e-02, -1.66238630e-03,\n         1.23000493e-03,  4.92873906e-01,  5.09974751e-01],\n       [ 7.33939400e-04,  1.77282809e-01,  6.62651965e-04,\n         5.01219782e-02,  1.29775029e-01, -1.41182534e-01,\n        -4.73450891e-03,  3.12908528e-03,  1.56023308e-03,\n         9.30063603e-01, -1.68079256e-01, -1.89683857e-01],\n       [-1.94411249e-02, -3.35320974e-03, -4.65482997e-03,\n        -7.56044095e-01, -3.94609517e-01,  3.48622916e-01,\n         1.14682346e-02,  4.21795093e-03,  3.09639420e-03,\n         2.33740407e-01,  2.15580714e-01,  2.22403526e-01],\n       [ 3.22470769e-02,  7.65227241e-01,  3.18764734e-03,\n        -1.46524247e-01, -2.18595719e-01,  7.55632975e-02,\n         5.82449305e-03, -8.16930100e-03, -4.61778815e-03,\n        -2.40247862e-01, -3.61370255e-01, -3.87278320e-01],\n       [-5.18335539e-02,  1.01016294e-02, -1.62120137e-04,\n         3.26701110e-03, -3.51123750e-03,  3.82682642e-03,\n        -2.64886221e-04,  9.74974989e-04,  3.85898559e-04,\n         8.37511832e-03, -7.24110711e-01,  6.87579764e-01]])"
     },
     "execution_count": 74,
     "metadata": {},
     "output_type": "execute_result"
    }
   ],
   "source": [
    "result.components_"
   ],
   "metadata": {
    "collapsed": false,
    "ExecuteTime": {
     "end_time": "2023-10-26T17:27:00.165391Z",
     "start_time": "2023-10-26T17:27:00.155180Z"
    }
   },
   "id": "226f55621da461ce"
  },
  {
   "cell_type": "code",
   "execution_count": 75,
   "outputs": [
    {
     "name": "stderr",
     "output_type": "stream",
     "text": [
      "/Users/nicolegros/Documents/school/release-eng/replication-project/venv/lib/python3.9/site-packages/sklearn/base.py:1152: DataConversionWarning: A column-vector y was passed when a 1d array was expected. Please change the shape of y to (n_samples,), for example using ravel().\n",
      "  return fit_method(estimator, *args, **kwargs)\n",
      "/Users/nicolegros/Documents/school/release-eng/replication-project/venv/lib/python3.9/site-packages/sklearn/base.py:1152: DataConversionWarning: A column-vector y was passed when a 1d array was expected. Please change the shape of y to (n_samples,), for example using ravel().\n",
      "  return fit_method(estimator, *args, **kwargs)\n",
      "/Users/nicolegros/Documents/school/release-eng/replication-project/venv/lib/python3.9/site-packages/sklearn/base.py:1152: DataConversionWarning: A column-vector y was passed when a 1d array was expected. Please change the shape of y to (n_samples,), for example using ravel().\n",
      "  return fit_method(estimator, *args, **kwargs)\n",
      "/Users/nicolegros/Documents/school/release-eng/replication-project/venv/lib/python3.9/site-packages/sklearn/base.py:1152: DataConversionWarning: A column-vector y was passed when a 1d array was expected. Please change the shape of y to (n_samples,), for example using ravel().\n",
      "  return fit_method(estimator, *args, **kwargs)\n",
      "/Users/nicolegros/Documents/school/release-eng/replication-project/venv/lib/python3.9/site-packages/sklearn/base.py:1152: DataConversionWarning: A column-vector y was passed when a 1d array was expected. Please change the shape of y to (n_samples,), for example using ravel().\n",
      "  return fit_method(estimator, *args, **kwargs)\n",
      "/Users/nicolegros/Documents/school/release-eng/replication-project/venv/lib/python3.9/site-packages/sklearn/base.py:1152: DataConversionWarning: A column-vector y was passed when a 1d array was expected. Please change the shape of y to (n_samples,), for example using ravel().\n",
      "  return fit_method(estimator, *args, **kwargs)\n",
      "/Users/nicolegros/Documents/school/release-eng/replication-project/venv/lib/python3.9/site-packages/sklearn/base.py:1152: DataConversionWarning: A column-vector y was passed when a 1d array was expected. Please change the shape of y to (n_samples,), for example using ravel().\n",
      "  return fit_method(estimator, *args, **kwargs)\n",
      "/Users/nicolegros/Documents/school/release-eng/replication-project/venv/lib/python3.9/site-packages/sklearn/base.py:1152: DataConversionWarning: A column-vector y was passed when a 1d array was expected. Please change the shape of y to (n_samples,), for example using ravel().\n",
      "  return fit_method(estimator, *args, **kwargs)\n",
      "/Users/nicolegros/Documents/school/release-eng/replication-project/venv/lib/python3.9/site-packages/sklearn/base.py:1152: DataConversionWarning: A column-vector y was passed when a 1d array was expected. Please change the shape of y to (n_samples,), for example using ravel().\n",
      "  return fit_method(estimator, *args, **kwargs)\n",
      "/Users/nicolegros/Documents/school/release-eng/replication-project/venv/lib/python3.9/site-packages/sklearn/base.py:1152: DataConversionWarning: A column-vector y was passed when a 1d array was expected. Please change the shape of y to (n_samples,), for example using ravel().\n",
      "  return fit_method(estimator, *args, **kwargs)\n",
      "/Users/nicolegros/Documents/school/release-eng/replication-project/venv/lib/python3.9/site-packages/sklearn/base.py:1152: DataConversionWarning: A column-vector y was passed when a 1d array was expected. Please change the shape of y to (n_samples,), for example using ravel().\n",
      "  return fit_method(estimator, *args, **kwargs)\n",
      "/Users/nicolegros/Documents/school/release-eng/replication-project/venv/lib/python3.9/site-packages/sklearn/base.py:1152: DataConversionWarning: A column-vector y was passed when a 1d array was expected. Please change the shape of y to (n_samples,), for example using ravel().\n",
      "  return fit_method(estimator, *args, **kwargs)\n",
      "/Users/nicolegros/Documents/school/release-eng/replication-project/venv/lib/python3.9/site-packages/sklearn/base.py:1152: DataConversionWarning: A column-vector y was passed when a 1d array was expected. Please change the shape of y to (n_samples,), for example using ravel().\n",
      "  return fit_method(estimator, *args, **kwargs)\n",
      "/Users/nicolegros/Documents/school/release-eng/replication-project/venv/lib/python3.9/site-packages/sklearn/base.py:1152: DataConversionWarning: A column-vector y was passed when a 1d array was expected. Please change the shape of y to (n_samples,), for example using ravel().\n",
      "  return fit_method(estimator, *args, **kwargs)\n",
      "/Users/nicolegros/Documents/school/release-eng/replication-project/venv/lib/python3.9/site-packages/sklearn/base.py:1152: DataConversionWarning: A column-vector y was passed when a 1d array was expected. Please change the shape of y to (n_samples,), for example using ravel().\n",
      "  return fit_method(estimator, *args, **kwargs)\n",
      "/Users/nicolegros/Documents/school/release-eng/replication-project/venv/lib/python3.9/site-packages/sklearn/base.py:1152: DataConversionWarning: A column-vector y was passed when a 1d array was expected. Please change the shape of y to (n_samples,), for example using ravel().\n",
      "  return fit_method(estimator, *args, **kwargs)\n",
      "/Users/nicolegros/Documents/school/release-eng/replication-project/venv/lib/python3.9/site-packages/sklearn/base.py:1152: DataConversionWarning: A column-vector y was passed when a 1d array was expected. Please change the shape of y to (n_samples,), for example using ravel().\n",
      "  return fit_method(estimator, *args, **kwargs)\n",
      "/Users/nicolegros/Documents/school/release-eng/replication-project/venv/lib/python3.9/site-packages/sklearn/base.py:1152: DataConversionWarning: A column-vector y was passed when a 1d array was expected. Please change the shape of y to (n_samples,), for example using ravel().\n",
      "  return fit_method(estimator, *args, **kwargs)\n",
      "/Users/nicolegros/Documents/school/release-eng/replication-project/venv/lib/python3.9/site-packages/sklearn/base.py:1152: DataConversionWarning: A column-vector y was passed when a 1d array was expected. Please change the shape of y to (n_samples,), for example using ravel().\n",
      "  return fit_method(estimator, *args, **kwargs)\n",
      "/Users/nicolegros/Documents/school/release-eng/replication-project/venv/lib/python3.9/site-packages/sklearn/base.py:1152: DataConversionWarning: A column-vector y was passed when a 1d array was expected. Please change the shape of y to (n_samples,), for example using ravel().\n",
      "  return fit_method(estimator, *args, **kwargs)\n",
      "/Users/nicolegros/Documents/school/release-eng/replication-project/venv/lib/python3.9/site-packages/sklearn/base.py:1152: DataConversionWarning: A column-vector y was passed when a 1d array was expected. Please change the shape of y to (n_samples,), for example using ravel().\n",
      "  return fit_method(estimator, *args, **kwargs)\n",
      "/Users/nicolegros/Documents/school/release-eng/replication-project/venv/lib/python3.9/site-packages/sklearn/base.py:1152: DataConversionWarning: A column-vector y was passed when a 1d array was expected. Please change the shape of y to (n_samples,), for example using ravel().\n",
      "  return fit_method(estimator, *args, **kwargs)\n",
      "/Users/nicolegros/Documents/school/release-eng/replication-project/venv/lib/python3.9/site-packages/sklearn/base.py:1152: DataConversionWarning: A column-vector y was passed when a 1d array was expected. Please change the shape of y to (n_samples,), for example using ravel().\n",
      "  return fit_method(estimator, *args, **kwargs)\n",
      "/Users/nicolegros/Documents/school/release-eng/replication-project/venv/lib/python3.9/site-packages/sklearn/base.py:1152: DataConversionWarning: A column-vector y was passed when a 1d array was expected. Please change the shape of y to (n_samples,), for example using ravel().\n",
      "  return fit_method(estimator, *args, **kwargs)\n",
      "/Users/nicolegros/Documents/school/release-eng/replication-project/venv/lib/python3.9/site-packages/sklearn/base.py:1152: DataConversionWarning: A column-vector y was passed when a 1d array was expected. Please change the shape of y to (n_samples,), for example using ravel().\n",
      "  return fit_method(estimator, *args, **kwargs)\n",
      "/Users/nicolegros/Documents/school/release-eng/replication-project/venv/lib/python3.9/site-packages/sklearn/base.py:1152: DataConversionWarning: A column-vector y was passed when a 1d array was expected. Please change the shape of y to (n_samples,), for example using ravel().\n",
      "  return fit_method(estimator, *args, **kwargs)\n",
      "/Users/nicolegros/Documents/school/release-eng/replication-project/venv/lib/python3.9/site-packages/sklearn/base.py:1152: DataConversionWarning: A column-vector y was passed when a 1d array was expected. Please change the shape of y to (n_samples,), for example using ravel().\n",
      "  return fit_method(estimator, *args, **kwargs)\n",
      "/Users/nicolegros/Documents/school/release-eng/replication-project/venv/lib/python3.9/site-packages/sklearn/base.py:1152: DataConversionWarning: A column-vector y was passed when a 1d array was expected. Please change the shape of y to (n_samples,), for example using ravel().\n",
      "  return fit_method(estimator, *args, **kwargs)\n",
      "/Users/nicolegros/Documents/school/release-eng/replication-project/venv/lib/python3.9/site-packages/sklearn/base.py:1152: DataConversionWarning: A column-vector y was passed when a 1d array was expected. Please change the shape of y to (n_samples,), for example using ravel().\n",
      "  return fit_method(estimator, *args, **kwargs)\n",
      "/Users/nicolegros/Documents/school/release-eng/replication-project/venv/lib/python3.9/site-packages/sklearn/base.py:1152: DataConversionWarning: A column-vector y was passed when a 1d array was expected. Please change the shape of y to (n_samples,), for example using ravel().\n",
      "  return fit_method(estimator, *args, **kwargs)\n",
      "/Users/nicolegros/Documents/school/release-eng/replication-project/venv/lib/python3.9/site-packages/sklearn/base.py:1152: DataConversionWarning: A column-vector y was passed when a 1d array was expected. Please change the shape of y to (n_samples,), for example using ravel().\n",
      "  return fit_method(estimator, *args, **kwargs)\n",
      "/Users/nicolegros/Documents/school/release-eng/replication-project/venv/lib/python3.9/site-packages/sklearn/base.py:1152: DataConversionWarning: A column-vector y was passed when a 1d array was expected. Please change the shape of y to (n_samples,), for example using ravel().\n",
      "  return fit_method(estimator, *args, **kwargs)\n",
      "/Users/nicolegros/Documents/school/release-eng/replication-project/venv/lib/python3.9/site-packages/sklearn/base.py:1152: DataConversionWarning: A column-vector y was passed when a 1d array was expected. Please change the shape of y to (n_samples,), for example using ravel().\n",
      "  return fit_method(estimator, *args, **kwargs)\n",
      "/Users/nicolegros/Documents/school/release-eng/replication-project/venv/lib/python3.9/site-packages/sklearn/base.py:1152: DataConversionWarning: A column-vector y was passed when a 1d array was expected. Please change the shape of y to (n_samples,), for example using ravel().\n",
      "  return fit_method(estimator, *args, **kwargs)\n",
      "/Users/nicolegros/Documents/school/release-eng/replication-project/venv/lib/python3.9/site-packages/sklearn/base.py:1152: DataConversionWarning: A column-vector y was passed when a 1d array was expected. Please change the shape of y to (n_samples,), for example using ravel().\n",
      "  return fit_method(estimator, *args, **kwargs)\n",
      "/Users/nicolegros/Documents/school/release-eng/replication-project/venv/lib/python3.9/site-packages/sklearn/base.py:1152: DataConversionWarning: A column-vector y was passed when a 1d array was expected. Please change the shape of y to (n_samples,), for example using ravel().\n",
      "  return fit_method(estimator, *args, **kwargs)\n",
      "/Users/nicolegros/Documents/school/release-eng/replication-project/venv/lib/python3.9/site-packages/sklearn/base.py:1152: DataConversionWarning: A column-vector y was passed when a 1d array was expected. Please change the shape of y to (n_samples,), for example using ravel().\n",
      "  return fit_method(estimator, *args, **kwargs)\n",
      "/Users/nicolegros/Documents/school/release-eng/replication-project/venv/lib/python3.9/site-packages/sklearn/base.py:1152: DataConversionWarning: A column-vector y was passed when a 1d array was expected. Please change the shape of y to (n_samples,), for example using ravel().\n",
      "  return fit_method(estimator, *args, **kwargs)\n",
      "/Users/nicolegros/Documents/school/release-eng/replication-project/venv/lib/python3.9/site-packages/sklearn/base.py:1152: DataConversionWarning: A column-vector y was passed when a 1d array was expected. Please change the shape of y to (n_samples,), for example using ravel().\n",
      "  return fit_method(estimator, *args, **kwargs)\n",
      "/Users/nicolegros/Documents/school/release-eng/replication-project/venv/lib/python3.9/site-packages/sklearn/base.py:1152: DataConversionWarning: A column-vector y was passed when a 1d array was expected. Please change the shape of y to (n_samples,), for example using ravel().\n",
      "  return fit_method(estimator, *args, **kwargs)\n",
      "/Users/nicolegros/Documents/school/release-eng/replication-project/venv/lib/python3.9/site-packages/sklearn/utils/validation.py:1183: DataConversionWarning: A column-vector y was passed when a 1d array was expected. Please change the shape of y to (n_samples, ), for example using ravel().\n",
      "  y = column_or_1d(y, warn=True)\n",
      "/Users/nicolegros/Documents/school/release-eng/replication-project/venv/lib/python3.9/site-packages/sklearn/utils/validation.py:1183: DataConversionWarning: A column-vector y was passed when a 1d array was expected. Please change the shape of y to (n_samples, ), for example using ravel().\n",
      "  y = column_or_1d(y, warn=True)\n",
      "/Users/nicolegros/Documents/school/release-eng/replication-project/venv/lib/python3.9/site-packages/sklearn/utils/validation.py:1183: DataConversionWarning: A column-vector y was passed when a 1d array was expected. Please change the shape of y to (n_samples, ), for example using ravel().\n",
      "  y = column_or_1d(y, warn=True)\n",
      "/Users/nicolegros/Documents/school/release-eng/replication-project/venv/lib/python3.9/site-packages/sklearn/utils/validation.py:1183: DataConversionWarning: A column-vector y was passed when a 1d array was expected. Please change the shape of y to (n_samples, ), for example using ravel().\n",
      "  y = column_or_1d(y, warn=True)\n",
      "/Users/nicolegros/Documents/school/release-eng/replication-project/venv/lib/python3.9/site-packages/sklearn/utils/validation.py:1183: DataConversionWarning: A column-vector y was passed when a 1d array was expected. Please change the shape of y to (n_samples, ), for example using ravel().\n",
      "  y = column_or_1d(y, warn=True)\n",
      "/Users/nicolegros/Documents/school/release-eng/replication-project/venv/lib/python3.9/site-packages/sklearn/utils/validation.py:1183: DataConversionWarning: A column-vector y was passed when a 1d array was expected. Please change the shape of y to (n_samples, ), for example using ravel().\n",
      "  y = column_or_1d(y, warn=True)\n",
      "/Users/nicolegros/Documents/school/release-eng/replication-project/venv/lib/python3.9/site-packages/sklearn/utils/validation.py:1183: DataConversionWarning: A column-vector y was passed when a 1d array was expected. Please change the shape of y to (n_samples, ), for example using ravel().\n",
      "  y = column_or_1d(y, warn=True)\n",
      "/Users/nicolegros/Documents/school/release-eng/replication-project/venv/lib/python3.9/site-packages/sklearn/utils/validation.py:1183: DataConversionWarning: A column-vector y was passed when a 1d array was expected. Please change the shape of y to (n_samples, ), for example using ravel().\n",
      "  y = column_or_1d(y, warn=True)\n",
      "/Users/nicolegros/Documents/school/release-eng/replication-project/venv/lib/python3.9/site-packages/sklearn/utils/validation.py:1183: DataConversionWarning: A column-vector y was passed when a 1d array was expected. Please change the shape of y to (n_samples, ), for example using ravel().\n",
      "  y = column_or_1d(y, warn=True)\n",
      "/Users/nicolegros/Documents/school/release-eng/replication-project/venv/lib/python3.9/site-packages/sklearn/utils/validation.py:1183: DataConversionWarning: A column-vector y was passed when a 1d array was expected. Please change the shape of y to (n_samples, ), for example using ravel().\n",
      "  y = column_or_1d(y, warn=True)\n",
      "/Users/nicolegros/Documents/school/release-eng/replication-project/venv/lib/python3.9/site-packages/sklearn/utils/validation.py:1183: DataConversionWarning: A column-vector y was passed when a 1d array was expected. Please change the shape of y to (n_samples, ), for example using ravel().\n",
      "  y = column_or_1d(y, warn=True)\n",
      "/Users/nicolegros/Documents/school/release-eng/replication-project/venv/lib/python3.9/site-packages/sklearn/utils/validation.py:1183: DataConversionWarning: A column-vector y was passed when a 1d array was expected. Please change the shape of y to (n_samples, ), for example using ravel().\n",
      "  y = column_or_1d(y, warn=True)\n",
      "/Users/nicolegros/Documents/school/release-eng/replication-project/venv/lib/python3.9/site-packages/sklearn/utils/validation.py:1183: DataConversionWarning: A column-vector y was passed when a 1d array was expected. Please change the shape of y to (n_samples, ), for example using ravel().\n",
      "  y = column_or_1d(y, warn=True)\n",
      "/Users/nicolegros/Documents/school/release-eng/replication-project/venv/lib/python3.9/site-packages/sklearn/utils/validation.py:1183: DataConversionWarning: A column-vector y was passed when a 1d array was expected. Please change the shape of y to (n_samples, ), for example using ravel().\n",
      "  y = column_or_1d(y, warn=True)\n",
      "/Users/nicolegros/Documents/school/release-eng/replication-project/venv/lib/python3.9/site-packages/sklearn/utils/validation.py:1183: DataConversionWarning: A column-vector y was passed when a 1d array was expected. Please change the shape of y to (n_samples, ), for example using ravel().\n",
      "  y = column_or_1d(y, warn=True)\n",
      "/Users/nicolegros/Documents/school/release-eng/replication-project/venv/lib/python3.9/site-packages/sklearn/utils/validation.py:1183: DataConversionWarning: A column-vector y was passed when a 1d array was expected. Please change the shape of y to (n_samples, ), for example using ravel().\n",
      "  y = column_or_1d(y, warn=True)\n",
      "/Users/nicolegros/Documents/school/release-eng/replication-project/venv/lib/python3.9/site-packages/sklearn/utils/validation.py:1183: DataConversionWarning: A column-vector y was passed when a 1d array was expected. Please change the shape of y to (n_samples, ), for example using ravel().\n",
      "  y = column_or_1d(y, warn=True)\n",
      "/Users/nicolegros/Documents/school/release-eng/replication-project/venv/lib/python3.9/site-packages/sklearn/utils/validation.py:1183: DataConversionWarning: A column-vector y was passed when a 1d array was expected. Please change the shape of y to (n_samples, ), for example using ravel().\n",
      "  y = column_or_1d(y, warn=True)\n",
      "/Users/nicolegros/Documents/school/release-eng/replication-project/venv/lib/python3.9/site-packages/sklearn/utils/validation.py:1183: DataConversionWarning: A column-vector y was passed when a 1d array was expected. Please change the shape of y to (n_samples, ), for example using ravel().\n",
      "  y = column_or_1d(y, warn=True)\n",
      "/Users/nicolegros/Documents/school/release-eng/replication-project/venv/lib/python3.9/site-packages/sklearn/utils/validation.py:1183: DataConversionWarning: A column-vector y was passed when a 1d array was expected. Please change the shape of y to (n_samples, ), for example using ravel().\n",
      "  y = column_or_1d(y, warn=True)\n",
      "/Users/nicolegros/Documents/school/release-eng/replication-project/venv/lib/python3.9/site-packages/sklearn/utils/validation.py:1183: DataConversionWarning: A column-vector y was passed when a 1d array was expected. Please change the shape of y to (n_samples, ), for example using ravel().\n",
      "  y = column_or_1d(y, warn=True)\n",
      "/Users/nicolegros/Documents/school/release-eng/replication-project/venv/lib/python3.9/site-packages/sklearn/utils/validation.py:1183: DataConversionWarning: A column-vector y was passed when a 1d array was expected. Please change the shape of y to (n_samples, ), for example using ravel().\n",
      "  y = column_or_1d(y, warn=True)\n",
      "/Users/nicolegros/Documents/school/release-eng/replication-project/venv/lib/python3.9/site-packages/sklearn/utils/validation.py:1183: DataConversionWarning: A column-vector y was passed when a 1d array was expected. Please change the shape of y to (n_samples, ), for example using ravel().\n",
      "  y = column_or_1d(y, warn=True)\n",
      "/Users/nicolegros/Documents/school/release-eng/replication-project/venv/lib/python3.9/site-packages/sklearn/utils/validation.py:1183: DataConversionWarning: A column-vector y was passed when a 1d array was expected. Please change the shape of y to (n_samples, ), for example using ravel().\n",
      "  y = column_or_1d(y, warn=True)\n",
      "/Users/nicolegros/Documents/school/release-eng/replication-project/venv/lib/python3.9/site-packages/sklearn/utils/validation.py:1183: DataConversionWarning: A column-vector y was passed when a 1d array was expected. Please change the shape of y to (n_samples, ), for example using ravel().\n",
      "  y = column_or_1d(y, warn=True)\n",
      "/Users/nicolegros/Documents/school/release-eng/replication-project/venv/lib/python3.9/site-packages/sklearn/utils/validation.py:1183: DataConversionWarning: A column-vector y was passed when a 1d array was expected. Please change the shape of y to (n_samples, ), for example using ravel().\n",
      "  y = column_or_1d(y, warn=True)\n",
      "/Users/nicolegros/Documents/school/release-eng/replication-project/venv/lib/python3.9/site-packages/sklearn/utils/validation.py:1183: DataConversionWarning: A column-vector y was passed when a 1d array was expected. Please change the shape of y to (n_samples, ), for example using ravel().\n",
      "  y = column_or_1d(y, warn=True)\n",
      "/Users/nicolegros/Documents/school/release-eng/replication-project/venv/lib/python3.9/site-packages/sklearn/utils/validation.py:1183: DataConversionWarning: A column-vector y was passed when a 1d array was expected. Please change the shape of y to (n_samples, ), for example using ravel().\n",
      "  y = column_or_1d(y, warn=True)\n",
      "/Users/nicolegros/Documents/school/release-eng/replication-project/venv/lib/python3.9/site-packages/sklearn/utils/validation.py:1183: DataConversionWarning: A column-vector y was passed when a 1d array was expected. Please change the shape of y to (n_samples, ), for example using ravel().\n",
      "  y = column_or_1d(y, warn=True)\n",
      "/Users/nicolegros/Documents/school/release-eng/replication-project/venv/lib/python3.9/site-packages/sklearn/utils/validation.py:1183: DataConversionWarning: A column-vector y was passed when a 1d array was expected. Please change the shape of y to (n_samples, ), for example using ravel().\n",
      "  y = column_or_1d(y, warn=True)\n",
      "/Users/nicolegros/Documents/school/release-eng/replication-project/venv/lib/python3.9/site-packages/sklearn/utils/validation.py:1183: DataConversionWarning: A column-vector y was passed when a 1d array was expected. Please change the shape of y to (n_samples, ), for example using ravel().\n",
      "  y = column_or_1d(y, warn=True)\n",
      "/Users/nicolegros/Documents/school/release-eng/replication-project/venv/lib/python3.9/site-packages/sklearn/utils/validation.py:1183: DataConversionWarning: A column-vector y was passed when a 1d array was expected. Please change the shape of y to (n_samples, ), for example using ravel().\n",
      "  y = column_or_1d(y, warn=True)\n",
      "/Users/nicolegros/Documents/school/release-eng/replication-project/venv/lib/python3.9/site-packages/sklearn/utils/validation.py:1183: DataConversionWarning: A column-vector y was passed when a 1d array was expected. Please change the shape of y to (n_samples, ), for example using ravel().\n",
      "  y = column_or_1d(y, warn=True)\n",
      "/Users/nicolegros/Documents/school/release-eng/replication-project/venv/lib/python3.9/site-packages/sklearn/utils/validation.py:1183: DataConversionWarning: A column-vector y was passed when a 1d array was expected. Please change the shape of y to (n_samples, ), for example using ravel().\n",
      "  y = column_or_1d(y, warn=True)\n",
      "/Users/nicolegros/Documents/school/release-eng/replication-project/venv/lib/python3.9/site-packages/sklearn/utils/validation.py:1183: DataConversionWarning: A column-vector y was passed when a 1d array was expected. Please change the shape of y to (n_samples, ), for example using ravel().\n",
      "  y = column_or_1d(y, warn=True)\n",
      "/Users/nicolegros/Documents/school/release-eng/replication-project/venv/lib/python3.9/site-packages/sklearn/utils/validation.py:1183: DataConversionWarning: A column-vector y was passed when a 1d array was expected. Please change the shape of y to (n_samples, ), for example using ravel().\n",
      "  y = column_or_1d(y, warn=True)\n",
      "/Users/nicolegros/Documents/school/release-eng/replication-project/venv/lib/python3.9/site-packages/sklearn/utils/validation.py:1183: DataConversionWarning: A column-vector y was passed when a 1d array was expected. Please change the shape of y to (n_samples, ), for example using ravel().\n",
      "  y = column_or_1d(y, warn=True)\n",
      "/Users/nicolegros/Documents/school/release-eng/replication-project/venv/lib/python3.9/site-packages/sklearn/utils/validation.py:1183: DataConversionWarning: A column-vector y was passed when a 1d array was expected. Please change the shape of y to (n_samples, ), for example using ravel().\n",
      "  y = column_or_1d(y, warn=True)\n",
      "/Users/nicolegros/Documents/school/release-eng/replication-project/venv/lib/python3.9/site-packages/sklearn/utils/validation.py:1183: DataConversionWarning: A column-vector y was passed when a 1d array was expected. Please change the shape of y to (n_samples, ), for example using ravel().\n",
      "  y = column_or_1d(y, warn=True)\n",
      "/Users/nicolegros/Documents/school/release-eng/replication-project/venv/lib/python3.9/site-packages/sklearn/utils/validation.py:1183: DataConversionWarning: A column-vector y was passed when a 1d array was expected. Please change the shape of y to (n_samples, ), for example using ravel().\n",
      "  y = column_or_1d(y, warn=True)\n",
      "/Users/nicolegros/Documents/school/release-eng/replication-project/venv/lib/python3.9/site-packages/sklearn/utils/validation.py:1183: DataConversionWarning: A column-vector y was passed when a 1d array was expected. Please change the shape of y to (n_samples, ), for example using ravel().\n",
      "  y = column_or_1d(y, warn=True)\n",
      "/Users/nicolegros/Documents/school/release-eng/replication-project/venv/lib/python3.9/site-packages/sklearn/utils/validation.py:1183: DataConversionWarning: A column-vector y was passed when a 1d array was expected. Please change the shape of y to (n_samples, ), for example using ravel().\n",
      "  y = column_or_1d(y, warn=True)\n",
      "/Users/nicolegros/Documents/school/release-eng/replication-project/venv/lib/python3.9/site-packages/sklearn/utils/validation.py:1183: DataConversionWarning: A column-vector y was passed when a 1d array was expected. Please change the shape of y to (n_samples, ), for example using ravel().\n",
      "  y = column_or_1d(y, warn=True)\n",
      "/Users/nicolegros/Documents/school/release-eng/replication-project/venv/lib/python3.9/site-packages/sklearn/utils/validation.py:1183: DataConversionWarning: A column-vector y was passed when a 1d array was expected. Please change the shape of y to (n_samples, ), for example using ravel().\n",
      "  y = column_or_1d(y, warn=True)\n",
      "/Users/nicolegros/Documents/school/release-eng/replication-project/venv/lib/python3.9/site-packages/sklearn/utils/validation.py:1183: DataConversionWarning: A column-vector y was passed when a 1d array was expected. Please change the shape of y to (n_samples, ), for example using ravel().\n",
      "  y = column_or_1d(y, warn=True)\n",
      "/Users/nicolegros/Documents/school/release-eng/replication-project/venv/lib/python3.9/site-packages/sklearn/utils/validation.py:1183: DataConversionWarning: A column-vector y was passed when a 1d array was expected. Please change the shape of y to (n_samples, ), for example using ravel().\n",
      "  y = column_or_1d(y, warn=True)\n",
      "/Users/nicolegros/Documents/school/release-eng/replication-project/venv/lib/python3.9/site-packages/sklearn/utils/validation.py:1183: DataConversionWarning: A column-vector y was passed when a 1d array was expected. Please change the shape of y to (n_samples, ), for example using ravel().\n",
      "  y = column_or_1d(y, warn=True)\n",
      "/Users/nicolegros/Documents/school/release-eng/replication-project/venv/lib/python3.9/site-packages/sklearn/utils/validation.py:1183: DataConversionWarning: A column-vector y was passed when a 1d array was expected. Please change the shape of y to (n_samples, ), for example using ravel().\n",
      "  y = column_or_1d(y, warn=True)\n",
      "/Users/nicolegros/Documents/school/release-eng/replication-project/venv/lib/python3.9/site-packages/sklearn/utils/validation.py:1183: DataConversionWarning: A column-vector y was passed when a 1d array was expected. Please change the shape of y to (n_samples, ), for example using ravel().\n",
      "  y = column_or_1d(y, warn=True)\n",
      "/Users/nicolegros/Documents/school/release-eng/replication-project/venv/lib/python3.9/site-packages/sklearn/utils/validation.py:1183: DataConversionWarning: A column-vector y was passed when a 1d array was expected. Please change the shape of y to (n_samples, ), for example using ravel().\n",
      "  y = column_or_1d(y, warn=True)\n",
      "/Users/nicolegros/Documents/school/release-eng/replication-project/venv/lib/python3.9/site-packages/sklearn/utils/validation.py:1183: DataConversionWarning: A column-vector y was passed when a 1d array was expected. Please change the shape of y to (n_samples, ), for example using ravel().\n",
      "  y = column_or_1d(y, warn=True)\n",
      "/Users/nicolegros/Documents/school/release-eng/replication-project/venv/lib/python3.9/site-packages/sklearn/utils/validation.py:1183: DataConversionWarning: A column-vector y was passed when a 1d array was expected. Please change the shape of y to (n_samples, ), for example using ravel().\n",
      "  y = column_or_1d(y, warn=True)\n",
      "/Users/nicolegros/Documents/school/release-eng/replication-project/venv/lib/python3.9/site-packages/sklearn/utils/validation.py:1183: DataConversionWarning: A column-vector y was passed when a 1d array was expected. Please change the shape of y to (n_samples, ), for example using ravel().\n",
      "  y = column_or_1d(y, warn=True)\n",
      "/Users/nicolegros/Documents/school/release-eng/replication-project/venv/lib/python3.9/site-packages/sklearn/utils/validation.py:1183: DataConversionWarning: A column-vector y was passed when a 1d array was expected. Please change the shape of y to (n_samples, ), for example using ravel().\n",
      "  y = column_or_1d(y, warn=True)\n",
      "/Users/nicolegros/Documents/school/release-eng/replication-project/venv/lib/python3.9/site-packages/sklearn/utils/validation.py:1183: DataConversionWarning: A column-vector y was passed when a 1d array was expected. Please change the shape of y to (n_samples, ), for example using ravel().\n",
      "  y = column_or_1d(y, warn=True)\n",
      "/Users/nicolegros/Documents/school/release-eng/replication-project/venv/lib/python3.9/site-packages/sklearn/utils/validation.py:1183: DataConversionWarning: A column-vector y was passed when a 1d array was expected. Please change the shape of y to (n_samples, ), for example using ravel().\n",
      "  y = column_or_1d(y, warn=True)\n",
      "/Users/nicolegros/Documents/school/release-eng/replication-project/venv/lib/python3.9/site-packages/sklearn/utils/validation.py:1183: DataConversionWarning: A column-vector y was passed when a 1d array was expected. Please change the shape of y to (n_samples, ), for example using ravel().\n",
      "  y = column_or_1d(y, warn=True)\n",
      "/Users/nicolegros/Documents/school/release-eng/replication-project/venv/lib/python3.9/site-packages/sklearn/utils/validation.py:1183: DataConversionWarning: A column-vector y was passed when a 1d array was expected. Please change the shape of y to (n_samples, ), for example using ravel().\n",
      "  y = column_or_1d(y, warn=True)\n",
      "/Users/nicolegros/Documents/school/release-eng/replication-project/venv/lib/python3.9/site-packages/sklearn/utils/validation.py:1183: DataConversionWarning: A column-vector y was passed when a 1d array was expected. Please change the shape of y to (n_samples, ), for example using ravel().\n",
      "  y = column_or_1d(y, warn=True)\n",
      "/Users/nicolegros/Documents/school/release-eng/replication-project/venv/lib/python3.9/site-packages/sklearn/utils/validation.py:1183: DataConversionWarning: A column-vector y was passed when a 1d array was expected. Please change the shape of y to (n_samples, ), for example using ravel().\n",
      "  y = column_or_1d(y, warn=True)\n",
      "/Users/nicolegros/Documents/school/release-eng/replication-project/venv/lib/python3.9/site-packages/sklearn/utils/validation.py:1183: DataConversionWarning: A column-vector y was passed when a 1d array was expected. Please change the shape of y to (n_samples, ), for example using ravel().\n",
      "  y = column_or_1d(y, warn=True)\n",
      "/Users/nicolegros/Documents/school/release-eng/replication-project/venv/lib/python3.9/site-packages/sklearn/utils/validation.py:1183: DataConversionWarning: A column-vector y was passed when a 1d array was expected. Please change the shape of y to (n_samples, ), for example using ravel().\n",
      "  y = column_or_1d(y, warn=True)\n",
      "/Users/nicolegros/Documents/school/release-eng/replication-project/venv/lib/python3.9/site-packages/sklearn/utils/validation.py:1183: DataConversionWarning: A column-vector y was passed when a 1d array was expected. Please change the shape of y to (n_samples, ), for example using ravel().\n",
      "  y = column_or_1d(y, warn=True)\n",
      "/Users/nicolegros/Documents/school/release-eng/replication-project/venv/lib/python3.9/site-packages/sklearn/utils/validation.py:1183: DataConversionWarning: A column-vector y was passed when a 1d array was expected. Please change the shape of y to (n_samples, ), for example using ravel().\n",
      "  y = column_or_1d(y, warn=True)\n",
      "/Users/nicolegros/Documents/school/release-eng/replication-project/venv/lib/python3.9/site-packages/sklearn/utils/validation.py:1183: DataConversionWarning: A column-vector y was passed when a 1d array was expected. Please change the shape of y to (n_samples, ), for example using ravel().\n",
      "  y = column_or_1d(y, warn=True)\n",
      "/Users/nicolegros/Documents/school/release-eng/replication-project/venv/lib/python3.9/site-packages/sklearn/utils/validation.py:1183: DataConversionWarning: A column-vector y was passed when a 1d array was expected. Please change the shape of y to (n_samples, ), for example using ravel().\n",
      "  y = column_or_1d(y, warn=True)\n",
      "/Users/nicolegros/Documents/school/release-eng/replication-project/venv/lib/python3.9/site-packages/sklearn/utils/validation.py:1183: DataConversionWarning: A column-vector y was passed when a 1d array was expected. Please change the shape of y to (n_samples, ), for example using ravel().\n",
      "  y = column_or_1d(y, warn=True)\n",
      "/Users/nicolegros/Documents/school/release-eng/replication-project/venv/lib/python3.9/site-packages/sklearn/utils/validation.py:1183: DataConversionWarning: A column-vector y was passed when a 1d array was expected. Please change the shape of y to (n_samples, ), for example using ravel().\n",
      "  y = column_or_1d(y, warn=True)\n",
      "/Users/nicolegros/Documents/school/release-eng/replication-project/venv/lib/python3.9/site-packages/sklearn/utils/validation.py:1183: DataConversionWarning: A column-vector y was passed when a 1d array was expected. Please change the shape of y to (n_samples, ), for example using ravel().\n",
      "  y = column_or_1d(y, warn=True)\n",
      "/Users/nicolegros/Documents/school/release-eng/replication-project/venv/lib/python3.9/site-packages/sklearn/utils/validation.py:1183: DataConversionWarning: A column-vector y was passed when a 1d array was expected. Please change the shape of y to (n_samples, ), for example using ravel().\n",
      "  y = column_or_1d(y, warn=True)\n",
      "/Users/nicolegros/Documents/school/release-eng/replication-project/venv/lib/python3.9/site-packages/sklearn/utils/validation.py:1183: DataConversionWarning: A column-vector y was passed when a 1d array was expected. Please change the shape of y to (n_samples, ), for example using ravel().\n",
      "  y = column_or_1d(y, warn=True)\n",
      "/Users/nicolegros/Documents/school/release-eng/replication-project/venv/lib/python3.9/site-packages/sklearn/utils/validation.py:1183: DataConversionWarning: A column-vector y was passed when a 1d array was expected. Please change the shape of y to (n_samples, ), for example using ravel().\n",
      "  y = column_or_1d(y, warn=True)\n",
      "/Users/nicolegros/Documents/school/release-eng/replication-project/venv/lib/python3.9/site-packages/sklearn/utils/validation.py:1183: DataConversionWarning: A column-vector y was passed when a 1d array was expected. Please change the shape of y to (n_samples, ), for example using ravel().\n",
      "  y = column_or_1d(y, warn=True)\n",
      "/Users/nicolegros/Documents/school/release-eng/replication-project/venv/lib/python3.9/site-packages/sklearn/utils/validation.py:1183: DataConversionWarning: A column-vector y was passed when a 1d array was expected. Please change the shape of y to (n_samples, ), for example using ravel().\n",
      "  y = column_or_1d(y, warn=True)\n",
      "/Users/nicolegros/Documents/school/release-eng/replication-project/venv/lib/python3.9/site-packages/sklearn/utils/validation.py:1183: DataConversionWarning: A column-vector y was passed when a 1d array was expected. Please change the shape of y to (n_samples, ), for example using ravel().\n",
      "  y = column_or_1d(y, warn=True)\n",
      "/Users/nicolegros/Documents/school/release-eng/replication-project/venv/lib/python3.9/site-packages/sklearn/utils/validation.py:1183: DataConversionWarning: A column-vector y was passed when a 1d array was expected. Please change the shape of y to (n_samples, ), for example using ravel().\n",
      "  y = column_or_1d(y, warn=True)\n",
      "/Users/nicolegros/Documents/school/release-eng/replication-project/venv/lib/python3.9/site-packages/sklearn/utils/validation.py:1183: DataConversionWarning: A column-vector y was passed when a 1d array was expected. Please change the shape of y to (n_samples, ), for example using ravel().\n",
      "  y = column_or_1d(y, warn=True)\n",
      "/Users/nicolegros/Documents/school/release-eng/replication-project/venv/lib/python3.9/site-packages/sklearn/utils/validation.py:1183: DataConversionWarning: A column-vector y was passed when a 1d array was expected. Please change the shape of y to (n_samples, ), for example using ravel().\n",
      "  y = column_or_1d(y, warn=True)\n",
      "/Users/nicolegros/Documents/school/release-eng/replication-project/venv/lib/python3.9/site-packages/sklearn/utils/validation.py:1183: DataConversionWarning: A column-vector y was passed when a 1d array was expected. Please change the shape of y to (n_samples, ), for example using ravel().\n",
      "  y = column_or_1d(y, warn=True)\n",
      "/Users/nicolegros/Documents/school/release-eng/replication-project/venv/lib/python3.9/site-packages/sklearn/utils/validation.py:1183: DataConversionWarning: A column-vector y was passed when a 1d array was expected. Please change the shape of y to (n_samples, ), for example using ravel().\n",
      "  y = column_or_1d(y, warn=True)\n",
      "/Users/nicolegros/Documents/school/release-eng/replication-project/venv/lib/python3.9/site-packages/sklearn/neighbors/_classification.py:233: DataConversionWarning: A column-vector y was passed when a 1d array was expected. Please change the shape of y to (n_samples,), for example using ravel().\n",
      "  return self._fit(X, y)\n",
      "/Users/nicolegros/Documents/school/release-eng/replication-project/venv/lib/python3.9/site-packages/sklearn/neighbors/_classification.py:233: DataConversionWarning: A column-vector y was passed when a 1d array was expected. Please change the shape of y to (n_samples,), for example using ravel().\n",
      "  return self._fit(X, y)\n",
      "/Users/nicolegros/Documents/school/release-eng/replication-project/venv/lib/python3.9/site-packages/sklearn/neighbors/_classification.py:233: DataConversionWarning: A column-vector y was passed when a 1d array was expected. Please change the shape of y to (n_samples,), for example using ravel().\n",
      "  return self._fit(X, y)\n",
      "/Users/nicolegros/Documents/school/release-eng/replication-project/venv/lib/python3.9/site-packages/sklearn/neighbors/_classification.py:233: DataConversionWarning: A column-vector y was passed when a 1d array was expected. Please change the shape of y to (n_samples,), for example using ravel().\n",
      "  return self._fit(X, y)\n",
      "/Users/nicolegros/Documents/school/release-eng/replication-project/venv/lib/python3.9/site-packages/sklearn/neighbors/_classification.py:233: DataConversionWarning: A column-vector y was passed when a 1d array was expected. Please change the shape of y to (n_samples,), for example using ravel().\n",
      "  return self._fit(X, y)\n",
      "/Users/nicolegros/Documents/school/release-eng/replication-project/venv/lib/python3.9/site-packages/sklearn/neighbors/_classification.py:233: DataConversionWarning: A column-vector y was passed when a 1d array was expected. Please change the shape of y to (n_samples,), for example using ravel().\n",
      "  return self._fit(X, y)\n",
      "/Users/nicolegros/Documents/school/release-eng/replication-project/venv/lib/python3.9/site-packages/sklearn/neighbors/_classification.py:233: DataConversionWarning: A column-vector y was passed when a 1d array was expected. Please change the shape of y to (n_samples,), for example using ravel().\n",
      "  return self._fit(X, y)\n",
      "/Users/nicolegros/Documents/school/release-eng/replication-project/venv/lib/python3.9/site-packages/sklearn/neighbors/_classification.py:233: DataConversionWarning: A column-vector y was passed when a 1d array was expected. Please change the shape of y to (n_samples,), for example using ravel().\n",
      "  return self._fit(X, y)\n",
      "/Users/nicolegros/Documents/school/release-eng/replication-project/venv/lib/python3.9/site-packages/sklearn/neighbors/_classification.py:233: DataConversionWarning: A column-vector y was passed when a 1d array was expected. Please change the shape of y to (n_samples,), for example using ravel().\n",
      "  return self._fit(X, y)\n",
      "/Users/nicolegros/Documents/school/release-eng/replication-project/venv/lib/python3.9/site-packages/sklearn/neighbors/_classification.py:233: DataConversionWarning: A column-vector y was passed when a 1d array was expected. Please change the shape of y to (n_samples,), for example using ravel().\n",
      "  return self._fit(X, y)\n",
      "/Users/nicolegros/Documents/school/release-eng/replication-project/venv/lib/python3.9/site-packages/sklearn/neighbors/_classification.py:233: DataConversionWarning: A column-vector y was passed when a 1d array was expected. Please change the shape of y to (n_samples,), for example using ravel().\n",
      "  return self._fit(X, y)\n",
      "/Users/nicolegros/Documents/school/release-eng/replication-project/venv/lib/python3.9/site-packages/sklearn/neighbors/_classification.py:233: DataConversionWarning: A column-vector y was passed when a 1d array was expected. Please change the shape of y to (n_samples,), for example using ravel().\n",
      "  return self._fit(X, y)\n",
      "/Users/nicolegros/Documents/school/release-eng/replication-project/venv/lib/python3.9/site-packages/sklearn/neighbors/_classification.py:233: DataConversionWarning: A column-vector y was passed when a 1d array was expected. Please change the shape of y to (n_samples,), for example using ravel().\n",
      "  return self._fit(X, y)\n",
      "/Users/nicolegros/Documents/school/release-eng/replication-project/venv/lib/python3.9/site-packages/sklearn/neighbors/_classification.py:233: DataConversionWarning: A column-vector y was passed when a 1d array was expected. Please change the shape of y to (n_samples,), for example using ravel().\n",
      "  return self._fit(X, y)\n",
      "/Users/nicolegros/Documents/school/release-eng/replication-project/venv/lib/python3.9/site-packages/sklearn/neighbors/_classification.py:233: DataConversionWarning: A column-vector y was passed when a 1d array was expected. Please change the shape of y to (n_samples,), for example using ravel().\n",
      "  return self._fit(X, y)\n",
      "/Users/nicolegros/Documents/school/release-eng/replication-project/venv/lib/python3.9/site-packages/sklearn/neighbors/_classification.py:233: DataConversionWarning: A column-vector y was passed when a 1d array was expected. Please change the shape of y to (n_samples,), for example using ravel().\n",
      "  return self._fit(X, y)\n",
      "/Users/nicolegros/Documents/school/release-eng/replication-project/venv/lib/python3.9/site-packages/sklearn/neighbors/_classification.py:233: DataConversionWarning: A column-vector y was passed when a 1d array was expected. Please change the shape of y to (n_samples,), for example using ravel().\n",
      "  return self._fit(X, y)\n",
      "/Users/nicolegros/Documents/school/release-eng/replication-project/venv/lib/python3.9/site-packages/sklearn/neighbors/_classification.py:233: DataConversionWarning: A column-vector y was passed when a 1d array was expected. Please change the shape of y to (n_samples,), for example using ravel().\n",
      "  return self._fit(X, y)\n",
      "/Users/nicolegros/Documents/school/release-eng/replication-project/venv/lib/python3.9/site-packages/sklearn/neighbors/_classification.py:233: DataConversionWarning: A column-vector y was passed when a 1d array was expected. Please change the shape of y to (n_samples,), for example using ravel().\n",
      "  return self._fit(X, y)\n",
      "/Users/nicolegros/Documents/school/release-eng/replication-project/venv/lib/python3.9/site-packages/sklearn/neighbors/_classification.py:233: DataConversionWarning: A column-vector y was passed when a 1d array was expected. Please change the shape of y to (n_samples,), for example using ravel().\n",
      "  return self._fit(X, y)\n",
      "/Users/nicolegros/Documents/school/release-eng/replication-project/venv/lib/python3.9/site-packages/sklearn/neighbors/_classification.py:233: DataConversionWarning: A column-vector y was passed when a 1d array was expected. Please change the shape of y to (n_samples,), for example using ravel().\n",
      "  return self._fit(X, y)\n",
      "/Users/nicolegros/Documents/school/release-eng/replication-project/venv/lib/python3.9/site-packages/sklearn/neighbors/_classification.py:233: DataConversionWarning: A column-vector y was passed when a 1d array was expected. Please change the shape of y to (n_samples,), for example using ravel().\n",
      "  return self._fit(X, y)\n",
      "/Users/nicolegros/Documents/school/release-eng/replication-project/venv/lib/python3.9/site-packages/sklearn/neighbors/_classification.py:233: DataConversionWarning: A column-vector y was passed when a 1d array was expected. Please change the shape of y to (n_samples,), for example using ravel().\n",
      "  return self._fit(X, y)\n",
      "/Users/nicolegros/Documents/school/release-eng/replication-project/venv/lib/python3.9/site-packages/sklearn/neighbors/_classification.py:233: DataConversionWarning: A column-vector y was passed when a 1d array was expected. Please change the shape of y to (n_samples,), for example using ravel().\n",
      "  return self._fit(X, y)\n",
      "/Users/nicolegros/Documents/school/release-eng/replication-project/venv/lib/python3.9/site-packages/sklearn/neighbors/_classification.py:233: DataConversionWarning: A column-vector y was passed when a 1d array was expected. Please change the shape of y to (n_samples,), for example using ravel().\n",
      "  return self._fit(X, y)\n",
      "/Users/nicolegros/Documents/school/release-eng/replication-project/venv/lib/python3.9/site-packages/sklearn/neighbors/_classification.py:233: DataConversionWarning: A column-vector y was passed when a 1d array was expected. Please change the shape of y to (n_samples,), for example using ravel().\n",
      "  return self._fit(X, y)\n",
      "/Users/nicolegros/Documents/school/release-eng/replication-project/venv/lib/python3.9/site-packages/sklearn/neighbors/_classification.py:233: DataConversionWarning: A column-vector y was passed when a 1d array was expected. Please change the shape of y to (n_samples,), for example using ravel().\n",
      "  return self._fit(X, y)\n",
      "/Users/nicolegros/Documents/school/release-eng/replication-project/venv/lib/python3.9/site-packages/sklearn/neighbors/_classification.py:233: DataConversionWarning: A column-vector y was passed when a 1d array was expected. Please change the shape of y to (n_samples,), for example using ravel().\n",
      "  return self._fit(X, y)\n",
      "/Users/nicolegros/Documents/school/release-eng/replication-project/venv/lib/python3.9/site-packages/sklearn/neighbors/_classification.py:233: DataConversionWarning: A column-vector y was passed when a 1d array was expected. Please change the shape of y to (n_samples,), for example using ravel().\n",
      "  return self._fit(X, y)\n",
      "/Users/nicolegros/Documents/school/release-eng/replication-project/venv/lib/python3.9/site-packages/sklearn/neighbors/_classification.py:233: DataConversionWarning: A column-vector y was passed when a 1d array was expected. Please change the shape of y to (n_samples,), for example using ravel().\n",
      "  return self._fit(X, y)\n",
      "/Users/nicolegros/Documents/school/release-eng/replication-project/venv/lib/python3.9/site-packages/sklearn/neighbors/_classification.py:233: DataConversionWarning: A column-vector y was passed when a 1d array was expected. Please change the shape of y to (n_samples,), for example using ravel().\n",
      "  return self._fit(X, y)\n",
      "/Users/nicolegros/Documents/school/release-eng/replication-project/venv/lib/python3.9/site-packages/sklearn/neighbors/_classification.py:233: DataConversionWarning: A column-vector y was passed when a 1d array was expected. Please change the shape of y to (n_samples,), for example using ravel().\n",
      "  return self._fit(X, y)\n",
      "/Users/nicolegros/Documents/school/release-eng/replication-project/venv/lib/python3.9/site-packages/sklearn/neighbors/_classification.py:233: DataConversionWarning: A column-vector y was passed when a 1d array was expected. Please change the shape of y to (n_samples,), for example using ravel().\n",
      "  return self._fit(X, y)\n",
      "/Users/nicolegros/Documents/school/release-eng/replication-project/venv/lib/python3.9/site-packages/sklearn/neighbors/_classification.py:233: DataConversionWarning: A column-vector y was passed when a 1d array was expected. Please change the shape of y to (n_samples,), for example using ravel().\n",
      "  return self._fit(X, y)\n",
      "/Users/nicolegros/Documents/school/release-eng/replication-project/venv/lib/python3.9/site-packages/sklearn/neighbors/_classification.py:233: DataConversionWarning: A column-vector y was passed when a 1d array was expected. Please change the shape of y to (n_samples,), for example using ravel().\n",
      "  return self._fit(X, y)\n",
      "/Users/nicolegros/Documents/school/release-eng/replication-project/venv/lib/python3.9/site-packages/sklearn/neighbors/_classification.py:233: DataConversionWarning: A column-vector y was passed when a 1d array was expected. Please change the shape of y to (n_samples,), for example using ravel().\n",
      "  return self._fit(X, y)\n",
      "/Users/nicolegros/Documents/school/release-eng/replication-project/venv/lib/python3.9/site-packages/sklearn/neighbors/_classification.py:233: DataConversionWarning: A column-vector y was passed when a 1d array was expected. Please change the shape of y to (n_samples,), for example using ravel().\n",
      "  return self._fit(X, y)\n",
      "/Users/nicolegros/Documents/school/release-eng/replication-project/venv/lib/python3.9/site-packages/sklearn/neighbors/_classification.py:233: DataConversionWarning: A column-vector y was passed when a 1d array was expected. Please change the shape of y to (n_samples,), for example using ravel().\n",
      "  return self._fit(X, y)\n",
      "/Users/nicolegros/Documents/school/release-eng/replication-project/venv/lib/python3.9/site-packages/sklearn/neighbors/_classification.py:233: DataConversionWarning: A column-vector y was passed when a 1d array was expected. Please change the shape of y to (n_samples,), for example using ravel().\n",
      "  return self._fit(X, y)\n",
      "/Users/nicolegros/Documents/school/release-eng/replication-project/venv/lib/python3.9/site-packages/sklearn/neighbors/_classification.py:233: DataConversionWarning: A column-vector y was passed when a 1d array was expected. Please change the shape of y to (n_samples,), for example using ravel().\n",
      "  return self._fit(X, y)\n"
     ]
    },
    {
     "data": {
      "text/plain": "                 RF        NB        LR       KNN      CART\nauc        0.647741  0.694343  0.659972  0.659195  0.574832\nrecall     0.667616  0.368902  0.731321  0.687022  0.660176\nprecision  0.653112  0.847009  0.643218  0.661449  0.655685\nf1         0.660440  0.512676  0.682243  0.673287  0.657360",
      "text/html": "<div>\n<style scoped>\n    .dataframe tbody tr th:only-of-type {\n        vertical-align: middle;\n    }\n\n    .dataframe tbody tr th {\n        vertical-align: top;\n    }\n\n    .dataframe thead th {\n        text-align: right;\n    }\n</style>\n<table border=\"1\" class=\"dataframe\">\n  <thead>\n    <tr style=\"text-align: right;\">\n      <th></th>\n      <th>RF</th>\n      <th>NB</th>\n      <th>LR</th>\n      <th>KNN</th>\n      <th>CART</th>\n    </tr>\n  </thead>\n  <tbody>\n    <tr>\n      <th>auc</th>\n      <td>0.647741</td>\n      <td>0.694343</td>\n      <td>0.659972</td>\n      <td>0.659195</td>\n      <td>0.574832</td>\n    </tr>\n    <tr>\n      <th>recall</th>\n      <td>0.667616</td>\n      <td>0.368902</td>\n      <td>0.731321</td>\n      <td>0.687022</td>\n      <td>0.660176</td>\n    </tr>\n    <tr>\n      <th>precision</th>\n      <td>0.653112</td>\n      <td>0.847009</td>\n      <td>0.643218</td>\n      <td>0.661449</td>\n      <td>0.655685</td>\n    </tr>\n    <tr>\n      <th>f1</th>\n      <td>0.660440</td>\n      <td>0.512676</td>\n      <td>0.682243</td>\n      <td>0.673287</td>\n      <td>0.657360</td>\n    </tr>\n  </tbody>\n</table>\n</div>"
     },
     "execution_count": 75,
     "metadata": {},
     "output_type": "execute_result"
    }
   ],
   "source": [
    "from sklearn.tree import DecisionTreeClassifier\n",
    "from sklearn.model_selection import ShuffleSplit, cross_val_score\n",
    "from sklearn.ensemble import RandomForestClassifier\n",
    "from sklearn.naive_bayes import GaussianNB\n",
    "from sklearn.neighbors import KNeighborsClassifier\n",
    "from sklearn.linear_model import LogisticRegression\n",
    "\n",
    "data_for_models = result.transform(X)[:, 0]\n",
    "d = data_for_models.reshape(-1, 1)\n",
    "Y = openstack[\"defect_status\"]\n",
    "df = pd.DataFrame(d, columns=[\"value\"]).merge(Y, left_index=True, right_index=True)\n",
    "\n",
    "cv = ShuffleSplit(n_splits=10, test_size=0.3, random_state=0)\n",
    "\n",
    "results = {}\n",
    "for classifier in [createdict(RandomForestClassifier(), \"RF\"),\n",
    "                   createdict(GaussianNB(), \"NB\"),\n",
    "                   createdict(LogisticRegression(), \"LR\"),\n",
    "                   createdict(KNeighborsClassifier(), \"KNN\"),\n",
    "                   createdict(DecisionTreeClassifier(), \"CART\")]:\n",
    "    auc = cross_val_score(classifier[\"classifier\"], utils.X(df), utils.Y(df), cv=cv, scoring='roc_auc').mean()\n",
    "    recall = cross_val_score(classifier[\"classifier\"], utils.X(df), utils.Y(df), cv=cv, scoring='recall').mean()\n",
    "    precision = cross_val_score(classifier[\"classifier\"], utils.X(df), utils.Y(df), cv=cv, scoring='precision').mean()\n",
    "    f1 = cross_val_score(classifier[\"classifier\"], utils.X(df), utils.Y(df), cv=cv, scoring='f1').mean()\n",
    "    results[classifier[\"name\"]] = {\n",
    "        \"auc\": auc,\n",
    "        \"recall\": recall,\n",
    "        \"precision\": precision,\n",
    "        \"f1\": f1\n",
    "    }\n",
    "pd.DataFrame.from_dict(results)"
   ],
   "metadata": {
    "collapsed": false,
    "ExecuteTime": {
     "end_time": "2023-10-26T17:27:24.793089Z",
     "start_time": "2023-10-26T17:27:17.243871Z"
    }
   },
   "id": "19e3c41da198e692"
  },
  {
   "cell_type": "markdown",
   "source": [
    "### Results (Openstack)\n",
    "#### PCA Components\n",
    "|  | 0 |\n",
    "| :--- | :--- |\n",
    "| 0 | 0.898179 |\n",
    "| 1 | 0.087037 |\n",
    "| 2 | 0.008327 |\n",
    "| 3 | 0.004755 |\n",
    "| 4 | 0.001052 |\n",
    "| 5 | 0.000202 |\n",
    "| 6 | 0.000168 |\n",
    "| 7 | 0.000144 |\n",
    "| 8 | 0.000052 |\n",
    "| 9 | 0.000047 |\n",
    "| 10 | 0.000036 |\n",
    "| 11 | 0.000001 |\n",
    "\n",
    "\n",
    "#### Components ratios\n",
    "|         | URL      | File     | Require  | Ensure   | Include  | Attribute | Hard coded string | Command  | File mode | SSH key  | Lines of code | Comment  |\n",
    "| :--- | :--- | :--- | :--- | :--- | :--- | :--- | :--- | :--- | :--- | :--- | :--- | :--- |\n",
    "| 0 | 0.004079 | 0.002566 | 0.903592 | 0.003898 | 0.010299 | 0.019149 | 0.156928 | 0.085685 | 0.388625 | 0.000909 | 0.002281 | 0.002522 |\n",
    "| 1 | -0.003028 | 0.012032 | 0.244986 | 0.017043 | 0.029537 | 0.049629 | 0.379899 | 0.371529 | -0.808501 | 0.005315 | 0.008491 | 0.008397 |\n",
    "\n",
    "\n",
    "#### Cross-validation\n",
    "|  | RF | NB | LR | KNN | CART |\n",
    "| :--- | :--- | :--- | :--- | :--- | :--- |\n",
    "| auc | 0.647741 | 0.694343 | 0.659972 | 0.659195 | 0.574832 |\n",
    "| recall | 0.667616 | 0.368902 | 0.731321 | 0.687022 | 0.660176 |\n",
    "| precision | 0.653112 | 0.847009 | 0.643218 | 0.661449 | 0.655685 |\n",
    "| f1 | 0.660440 | 0.512676 | 0.682243 | 0.673287 | 0.657360 |\n"
   ],
   "metadata": {
    "collapsed": false
   },
   "id": "26e68e18ac2ff046"
  }
 ],
 "metadata": {
  "kernelspec": {
   "display_name": "Python 3",
   "language": "python",
   "name": "python3"
  },
  "language_info": {
   "codemirror_mode": {
    "name": "ipython",
    "version": 2
   },
   "file_extension": ".py",
   "mimetype": "text/x-python",
   "name": "python",
   "nbconvert_exporter": "python",
   "pygments_lexer": "ipython2",
   "version": "2.7.6"
  }
 },
 "nbformat": 4,
 "nbformat_minor": 5
}
