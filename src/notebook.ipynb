{
 "cells": [
  {
   "cell_type": "code",
   "execution_count": 1,
   "id": "initial_id",
   "metadata": {
    "collapsed": true,
    "ExecuteTime": {
     "end_time": "2023-10-24T16:27:36.640928Z",
     "start_time": "2023-10-24T16:27:36.475056Z"
    }
   },
   "outputs": [
    {
     "name": "stderr",
     "output_type": "stream",
     "text": [
      "/Users/nicolegros/Documents/school/release-eng/replication-project/venv/lib/python3.9/site-packages/urllib3/__init__.py:34: NotOpenSSLWarning: urllib3 v2.0 only supports OpenSSL 1.1.1+, currently the 'ssl' module is compiled with 'LibreSSL 2.8.3'. See: https://github.com/urllib3/urllib3/issues/3020\n",
      "  warnings.warn(\n"
     ]
    },
    {
     "data": {
      "text/plain": "['Mirantis/cri-dockerd',\n 'Mirantis/virtlet',\n 'Mirantis/k8s-AppController',\n 'Mirantis/kqueen',\n 'Mirantis/pipeline-library',\n 'Mirantis/k8s-externalipcontroller',\n 'Mirantis/compliance',\n 'Mirantis/k8s-netchecker-server',\n 'Mirantis/openstack-lbaas',\n 'Mirantis/k8s-apps',\n 'Mirantis/criproxy',\n 'Mirantis/disk_perf_test_tool',\n 'Mirantis/ceph-lcm',\n 'Mirantis/fuel',\n 'Mirantis/reclass-system-salt-model',\n 'Mirantis/mk-pipelines',\n 'Mirantis/launchpad',\n 'Mirantis/fuelweb',\n 'Mirantis/k8s-daemonupgradecontroller',\n 'Mirantis/k8s-devbox',\n 'Mirantis/mk-lab-salt-model',\n 'Mirantis/mos-integration-tests',\n 'Mirantis/stepler',\n 'Mirantis/lens-extension-cc',\n 'Mirantis/k8s-netchecker-agent',\n 'Mirantis/stackalytics',\n 'Mirantis/openstack-utils',\n 'Mirantis/kqueen-ui',\n 'Mirantis/kostyor',\n 'Mirantis/solar',\n 'Mirantis/swift-encrypt',\n 'Mirantis/CloudFerry',\n 'Mirantis/mos-horizon',\n 'Mirantis/release-openstack-k8s',\n 'Mirantis/cloudpipe-image-auto-creation',\n 'Mirantis/vmware-dvs',\n 'Mirantis/gosa-openstack',\n 'Mirantis/tcp-qa',\n 'Mirantis/devops',\n 'Mirantis/mcc-on-equinix-terraform-templates',\n 'Mirantis/training-lab',\n 'Mirantis/rabbitmq-autocluster',\n 'Mirantis/fuel-main',\n 'Mirantis/nova-scheduler-volume-affinity-filter',\n 'Mirantis/statkube',\n 'Mirantis/fuel-plugin-standalone-ceph',\n 'Mirantis/puppet-bootstrap',\n 'Mirantis/openstack-fedora-specs',\n 'Mirantis/rally-plugins',\n 'Mirantis/fuel-plugin-external-ceph',\n 'Mirantis/kostyor-openstack-ansible',\n 'Mirantis/zabbix-configuration-files',\n 'Mirantis/dataops-dataeng',\n 'Mirantis/openstack-ha-tests',\n 'Mirantis/fuel-docs',\n 'Mirantis/telegraf',\n 'Mirantis/mos-tempest-runner',\n 'Mirantis/tools-sustaining',\n 'Mirantis/puppet-savanna',\n 'Mirantis/osagent',\n 'Mirantis/launchpad-reports-summary',\n 'Mirantis/docker-aptly',\n 'Mirantis/mcp-common-scripts',\n 'Mirantis/stacklight-salt-model',\n 'Mirantis/security',\n 'Mirantis/fuelweb-test',\n 'Mirantis/container-cloud-cli',\n 'Mirantis/mos-ci-deployment-scripts',\n 'Mirantis/ucpbackup',\n 'Mirantis/dhcp-relay',\n 'Mirantis/astute',\n 'Mirantis/docker-jenkins',\n 'Mirantis/terraform-provider-msr',\n 'Mirantis/mira-ceph-ansible',\n 'Mirantis/k8s-istio-workshop',\n 'Mirantis/profiles',\n 'Mirantis/openstack-dashboard',\n 'Mirantis/rally',\n 'Mirantis/k8s-istio-webinar',\n 'Mirantis/solar-qa',\n 'Mirantis/ccp-docker-jenkins',\n 'Mirantis/whale',\n 'Mirantis/puppet-control-template',\n 'Mirantis/rpc_monitor',\n 'Mirantis/bird-containers',\n 'Mirantis/k8srnd-sockshop-payment',\n 'Mirantis/fuel-plugin-backup',\n 'Mirantis/sriov-scheduler',\n 'Mirantis/mos-updates',\n 'Mirantis/openstack-k8s-virtual-lab',\n 'Mirantis/docker-phpldapadmin',\n 'Mirantis/helm-charts',\n 'Mirantis/cvp-configuration',\n 'Mirantis/docker-gerrit',\n 'Mirantis/k8srnd-sockshop-catalogue',\n 'Mirantis/oscp',\n 'Mirantis/scale-scenarios',\n 'Mirantis/northshore',\n 'Mirantis/f2s',\n 'Mirantis/mos-components-ci',\n 'Mirantis/ifmap-python-client',\n 'Mirantis/openstack-lbaas-cli',\n 'Mirantis/fuel-provision',\n 'Mirantis/mirantis-demos',\n 'Mirantis/fuel-plugin-lcm-control-repo',\n 'Mirantis/fuel-plugin-vxlan-vlan-7',\n 'Mirantis/ceph',\n 'Mirantis/kubernetes-aws-model',\n 'Mirantis/dtrbackup',\n 'Mirantis/fuel-plugin-celebrer',\n 'Mirantis/spaced-armour-tests',\n 'Mirantis/k8srnd-sockshop-orders',\n 'Mirantis/mcc-salesforce-collector',\n 'Mirantis/kubernetes-cluster-info',\n 'Mirantis/lsi-api',\n 'Mirantis/fuel-plugin-openldap',\n 'Mirantis/fuel-plugin-docs',\n 'Mirantis/cvp-sanity-checks',\n 'Mirantis/gh-mass-commentor',\n 'Mirantis/trailer',\n 'Mirantis/cvp-spt',\n 'Mirantis/python-aptly',\n 'Mirantis/puppet-sudo',\n 'Mirantis/roles',\n 'Mirantis/pmlc_neutron',\n 'Mirantis/pmlc_keystone',\n 'Mirantis/mos-coverage',\n 'Mirantis/kostyor-cli',\n 'Mirantis/air-hockey-robot',\n 'Mirantis/ccp-pipeline-libs',\n 'Mirantis/catalog',\n 'Mirantis/docker-openldap',\n 'Mirantis/magnetodb',\n 'Mirantis/mcc-api',\n 'Mirantis/celebrer-agent',\n 'Mirantis/mcp-offline-model',\n 'Mirantis/react-operations-ui',\n 'Mirantis/k8srnd-sockshop-queue-master',\n 'Mirantis/k8srnd-sockshop-shipping',\n 'Mirantis/fuel-plugin-etckeeper',\n 'Mirantis/pmlc_nova',\n 'Mirantis/celebrer-dashboard',\n 'Mirantis/teuthology',\n 'Mirantis/cvp-shaker',\n 'Mirantis/certification_tool',\n 'Mirantis/fuel-test',\n 'Mirantis/kostyor-fuelccp',\n 'Mirantis/atsea-sample-shop-app',\n 'Mirantis/offline-msr',\n 'Mirantis/pmlc_cinder',\n 'Mirantis/puppet-deployapp',\n 'Mirantis/celebrer',\n 'Mirantis/tuning-box',\n 'Mirantis/k8srnd-sockshop-user',\n 'Mirantis/k8srnd-sockshop-carts',\n 'Mirantis/magma-argocd-apps',\n 'Mirantis/murano-tests',\n 'Mirantis/vmware-firewall-driver',\n 'Mirantis/bareon-api',\n 'Mirantis/puppet-heat',\n 'Mirantis/fuel-plugin-lcm',\n 'Mirantis/ccp-docker-gerrit',\n 'Mirantis/ceph-cm-ansible',\n 'Mirantis/NAC_esc_210',\n 'Mirantis/cna-images',\n 'Mirantis/ldaptlssearch',\n 'Mirantis/mos-ci-jenkinsjobs',\n 'Mirantis/openstack-lbaas-horizon',\n 'Mirantis/fuel-plugin-swift',\n 'Mirantis/solar-agent',\n 'Mirantis/vol-test',\n 'Mirantis/rundeck-cis-jobs',\n 'Mirantis/terraform-provider-mke',\n 'Mirantis/ceph-qa-suite',\n 'Mirantis/solar-resources',\n 'Mirantis/puppet-foreman_proxy',\n 'Mirantis/python-celebrerclient',\n 'Mirantis/ccp-docker-opencontrail',\n 'Mirantis/mos-iso-status',\n 'Mirantis/environment-template',\n 'Mirantis/stepler-draft',\n 'Mirantis/k8srnd-sockshop-front-end',\n 'Mirantis/mcp-local-repo-model',\n 'Mirantis/python-operations-api',\n 'Mirantis/libnetwork',\n 'Mirantis/prodsec',\n 'Mirantis/moscc-cli-smoketest',\n 'Mirantis/heat-fragments',\n 'Mirantis/contrail-third-party-cache-fixup',\n 'Mirantis/training-lab-salt-model',\n 'Mirantis/python-flask-hello',\n 'Mirantis/mosk-triliovault',\n 'Mirantis/openstack-refapp',\n 'Mirantis/terraform-provider-launchpad']"
     },
     "execution_count": 1,
     "metadata": {},
     "output_type": "execute_result"
    }
   ],
   "source": [
    "from src.repofinder import RepoFinder\n",
    "\n",
    "\n",
    "RepoFinder().load_repos_from_json(\"../data/processed/mirantis/repos.json\")"
   ]
  },
  {
   "cell_type": "raw",
   "source": [],
   "metadata": {
    "collapsed": false
   },
   "id": "8aab1518ddb346c4"
  }
 ],
 "metadata": {
  "kernelspec": {
   "display_name": "Python 3",
   "language": "python",
   "name": "python3"
  },
  "language_info": {
   "codemirror_mode": {
    "name": "ipython",
    "version": 2
   },
   "file_extension": ".py",
   "mimetype": "text/x-python",
   "name": "python",
   "nbconvert_exporter": "python",
   "pygments_lexer": "ipython2",
   "version": "2.7.6"
  }
 },
 "nbformat": 4,
 "nbformat_minor": 5
}
